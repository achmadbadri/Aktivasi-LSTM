{
  "nbformat": 4,
  "nbformat_minor": 0,
  "metadata": {
    "colab": {
      "name": "HMSP 2019 - softplus",
      "provenance": [],
      "collapsed_sections": [],
      "include_colab_link": true
    },
    "kernelspec": {
      "display_name": "Python 3",
      "name": "python3"
    }
  },
  "cells": [
    {
      "cell_type": "markdown",
      "metadata": {
        "id": "view-in-github",
        "colab_type": "text"
      },
      "source": [
        "<a href=\"https://colab.research.google.com/github/achmadbadri/Aktivasi-LSTM/blob/main/HMSP_2019_softplus.ipynb\" target=\"_parent\"><img src=\"https://colab.research.google.com/assets/colab-badge.svg\" alt=\"Open In Colab\"/></a>"
      ]
    },
    {
      "cell_type": "code",
      "metadata": {
        "id": "imVL_RBkSiEM"
      },
      "source": [
        "import keras\n",
        "from keras.layers import Dense\n",
        "from keras.layers import LSTM\n",
        "from keras.layers import Dropout\n",
        "import pandas as pd \n",
        "import pandas_datareader.data as web\n",
        "import datetime\n",
        "import numpy as np \n",
        "from matplotlib import style\n",
        "from google.colab import files\n",
        "# Visualize the training stock data:\n",
        "import matplotlib.pyplot as plt\n",
        "%matplotlib inline\n",
        "\n",
        "# ignore warnings \n",
        "import warnings\n",
        "warnings.filterwarnings('ignore')"
      ],
      "execution_count": 1,
      "outputs": []
    },
    {
      "cell_type": "code",
      "metadata": {
        "colab": {
          "base_uri": "https://localhost:8080/"
        },
        "id": "7mgHVWneS0-0",
        "outputId": "dcee7f58-0af3-4116-e00d-976b17b847da"
      },
      "source": [
        "# Get the stock data using yahoo API:\n",
        "style.use('ggplot')\n",
        "\n",
        "# get 2014-2018 data to train our model\n",
        "start = datetime.datetime(2014,1,1)\n",
        "end = datetime.datetime(2018,12,31)\n",
        "df = web.DataReader(\"HMSP.JK\", 'yahoo', start, end) \n",
        "\n",
        "# get 2019 data to test our model on \n",
        "start = datetime.datetime(2018,11,13)\n",
        "end = datetime.datetime(2019,12,31)\n",
        "test_df = web.DataReader(\"HMSP.JK\", 'yahoo', start, end) \n",
        "print(df.shape)\n",
        "print(test_df.shape)"
      ],
      "execution_count": 2,
      "outputs": [
        {
          "output_type": "stream",
          "text": [
            "(1251, 6)\n",
            "(293, 6)\n"
          ],
          "name": "stdout"
        }
      ]
    },
    {
      "cell_type": "code",
      "metadata": {
        "colab": {
          "base_uri": "https://localhost:8080/"
        },
        "id": "H598YUDjU7Sd",
        "outputId": "2b9ba643-d6c5-46e2-cc96-fb1f675d8b80"
      },
      "source": [
        "# Create train set of adj close prices data:\n",
        "train_data = df.loc[:,'Adj Close'].to_numpy()\n",
        "print(train_data.shape) # 1258 \n",
        "\n",
        "\n",
        "# Apply normalization before feeding to LSTM using sklearn:\n",
        "from sklearn.preprocessing import MinMaxScaler\n",
        "\n",
        "scaler = MinMaxScaler()\n",
        "train_data = train_data.reshape(-1,1)\n",
        "\n",
        "scaler.fit(train_data)\n",
        "train_data = scaler.transform(train_data)"
      ],
      "execution_count": 3,
      "outputs": [
        {
          "output_type": "stream",
          "text": [
            "(1251,)\n"
          ],
          "name": "stdout"
        }
      ]
    },
    {
      "cell_type": "code",
      "metadata": {
        "colab": {
          "base_uri": "https://localhost:8080/"
        },
        "id": "8ITZZaGnVFTQ",
        "outputId": "56ee5691-ab40-4d2a-e3d8-f9222e27832a"
      },
      "source": [
        "'''Function to create a dataset to feed into an LSTM'''\n",
        "def create_dataset(dataset, look_back):\n",
        "    dataX, dataY = [], []\n",
        "    for i in range(len(dataset)-look_back):\n",
        "        a = dataset[i:(i + look_back), 0]\n",
        "        dataX.append(a)\n",
        "        dataY.append(dataset[i + look_back, 0])\n",
        "    return np.array(dataX), np.array(dataY)\n",
        "    \n",
        "    \n",
        "# Create the data to train our model on:\n",
        "time_steps = 36\n",
        "X_train, y_train = create_dataset(train_data, time_steps)\n",
        "\n",
        "# reshape it [samples, time steps, features]\n",
        "X_train = np.reshape(X_train, (X_train.shape[0], 36, 1))\n",
        "\n",
        "print(X_train.shape)\n",
        "\n",
        "\n",
        "# Visualizing our data with prints: \n",
        "print('X_train:')\n",
        "print(str(scaler.inverse_transform(X_train[0])))\n",
        "print(\"\\n\")\n",
        "print('y_train: ' + str(scaler.inverse_transform(y_train[0].reshape(-1,1)))+'\\n')"
      ],
      "execution_count": 4,
      "outputs": [
        {
          "output_type": "stream",
          "text": [
            "(1215, 36, 1)\n",
            "X_train:\n",
            "[[1845.97399902]\n",
            " [1844.49633789]\n",
            " [1819.37072754]\n",
            " [1807.546875  ]\n",
            " [1795.72351074]\n",
            " [1789.81164551]\n",
            " [1803.11303711]\n",
            " [1817.89282227]\n",
            " [1891.7911377 ]\n",
            " [1891.7911377 ]\n",
            " [1891.7911377 ]\n",
            " [1890.31274414]\n",
            " [1902.13659668]\n",
            " [1906.57067871]\n",
            " [1920.61120605]\n",
            " [2002.63793945]\n",
            " [2001.16040039]\n",
            " [1952.38720703]\n",
            " [1949.43151855]\n",
            " [1981.9465332 ]\n",
            " [1965.68920898]\n",
            " [1977.51306152]\n",
            " [2011.5057373 ]\n",
            " [2061.75634766]\n",
            " [2098.70556641]\n",
            " [2098.70556641]\n",
            " [2098.70556641]\n",
            " [2045.49865723]\n",
            " [2061.75634766]\n",
            " [2046.97668457]\n",
            " [2046.97668457]\n",
            " [2039.58666992]\n",
            " [2036.63085938]\n",
            " [2036.63085938]\n",
            " [2030.71911621]\n",
            " [2030.71911621]]\n",
            "\n",
            "\n",
            "y_train: [[2024.80737305]]\n",
            "\n"
          ],
          "name": "stdout"
        }
      ]
    },
    {
      "cell_type": "code",
      "metadata": {
        "colab": {
          "base_uri": "https://localhost:8080/"
        },
        "id": "pmuzZ5TqVR8O",
        "outputId": "5831cc77-de20-457d-a0b3-e44d4d98ca79"
      },
      "source": [
        "# Build the model \n",
        "model = keras.Sequential()\n",
        "\n",
        "model.add(LSTM(units = 128, return_sequences = True, input_shape = (X_train.shape[1], 1)))\n",
        "model.add(Dropout(0.2))\n",
        "\n",
        "model.add(LSTM(units = 64, return_sequences = False))\n",
        "model.add(Dropout(0.2))\n",
        "\n",
        "# Output layer\n",
        "model.add(Dense(units = 1, activation= 'softplus'))\n",
        "# Compiling the model\n",
        "model.compile(optimizer = 'adam', loss = 'mean_squared_error')\n",
        "\n",
        "# Fitting the model to the Training set\n",
        "history = model.fit(X_train, y_train, epochs = 20, batch_size = 10, validation_split=.30)"
      ],
      "execution_count": 5,
      "outputs": [
        {
          "output_type": "stream",
          "text": [
            "Epoch 1/20\n",
            "85/85 [==============================] - 8s 60ms/step - loss: 0.0584 - val_loss: 0.0064\n",
            "Epoch 2/20\n",
            "85/85 [==============================] - 4s 46ms/step - loss: 0.0027 - val_loss: 0.0082\n",
            "Epoch 3/20\n",
            "85/85 [==============================] - 4s 46ms/step - loss: 0.0023 - val_loss: 0.0072\n",
            "Epoch 4/20\n",
            "85/85 [==============================] - 4s 46ms/step - loss: 0.0021 - val_loss: 0.0070\n",
            "Epoch 5/20\n",
            "85/85 [==============================] - 4s 46ms/step - loss: 0.0022 - val_loss: 0.0065\n",
            "Epoch 6/20\n",
            "85/85 [==============================] - 4s 46ms/step - loss: 0.0016 - val_loss: 0.0064\n",
            "Epoch 7/20\n",
            "85/85 [==============================] - 4s 45ms/step - loss: 0.0017 - val_loss: 0.0057\n",
            "Epoch 8/20\n",
            "85/85 [==============================] - 4s 46ms/step - loss: 0.0017 - val_loss: 0.0060\n",
            "Epoch 9/20\n",
            "85/85 [==============================] - 4s 45ms/step - loss: 0.0018 - val_loss: 0.0058\n",
            "Epoch 10/20\n",
            "85/85 [==============================] - 4s 45ms/step - loss: 0.0014 - val_loss: 0.0051\n",
            "Epoch 11/20\n",
            "85/85 [==============================] - 4s 46ms/step - loss: 0.0015 - val_loss: 0.0089\n",
            "Epoch 12/20\n",
            "85/85 [==============================] - 4s 45ms/step - loss: 0.0019 - val_loss: 0.0059\n",
            "Epoch 13/20\n",
            "85/85 [==============================] - 4s 46ms/step - loss: 0.0012 - val_loss: 0.0042\n",
            "Epoch 14/20\n",
            "85/85 [==============================] - 4s 45ms/step - loss: 0.0010 - val_loss: 0.0058\n",
            "Epoch 15/20\n",
            "85/85 [==============================] - 4s 45ms/step - loss: 0.0010 - val_loss: 0.0046\n",
            "Epoch 16/20\n",
            "85/85 [==============================] - 4s 45ms/step - loss: 0.0013 - val_loss: 0.0057\n",
            "Epoch 17/20\n",
            "85/85 [==============================] - 4s 45ms/step - loss: 0.0013 - val_loss: 0.0043\n",
            "Epoch 18/20\n",
            "85/85 [==============================] - 4s 45ms/step - loss: 0.0010 - val_loss: 0.0071\n",
            "Epoch 19/20\n",
            "85/85 [==============================] - 4s 46ms/step - loss: 0.0012 - val_loss: 0.0047\n",
            "Epoch 20/20\n",
            "85/85 [==============================] - 4s 46ms/step - loss: 9.0512e-04 - val_loss: 0.0041\n"
          ],
          "name": "stdout"
        }
      ]
    },
    {
      "cell_type": "code",
      "metadata": {
        "colab": {
          "base_uri": "https://localhost:8080/"
        },
        "id": "VJAAJ_3JRVIu",
        "outputId": "54f185e5-f0d2-4d53-957f-e7e1ad8bf979"
      },
      "source": [
        "model.summary()"
      ],
      "execution_count": 6,
      "outputs": [
        {
          "output_type": "stream",
          "text": [
            "Model: \"sequential\"\n",
            "_________________________________________________________________\n",
            "Layer (type)                 Output Shape              Param #   \n",
            "=================================================================\n",
            "lstm (LSTM)                  (None, 36, 128)           66560     \n",
            "_________________________________________________________________\n",
            "dropout (Dropout)            (None, 36, 128)           0         \n",
            "_________________________________________________________________\n",
            "lstm_1 (LSTM)                (None, 64)                49408     \n",
            "_________________________________________________________________\n",
            "dropout_1 (Dropout)          (None, 64)                0         \n",
            "_________________________________________________________________\n",
            "dense (Dense)                (None, 1)                 65        \n",
            "=================================================================\n",
            "Total params: 116,033\n",
            "Trainable params: 116,033\n",
            "Non-trainable params: 0\n",
            "_________________________________________________________________\n"
          ],
          "name": "stdout"
        }
      ]
    },
    {
      "cell_type": "code",
      "metadata": {
        "colab": {
          "base_uri": "https://localhost:8080/",
          "height": 298
        },
        "id": "gSKBnwssVVJf",
        "outputId": "c66644f5-e650-415f-836d-ae219795f574"
      },
      "source": [
        "# Plot training & validation loss values\n",
        "plt.plot(history.history['loss'])\n",
        "plt.plot(history.history['val_loss'])\n",
        "plt.title('Model loss')\n",
        "plt.ylabel('Loss')\n",
        "plt.xlabel('Epoch')\n",
        "plt.legend(['Train', 'Test'], loc='upper left')\n",
        "plt.show()"
      ],
      "execution_count": 7,
      "outputs": [
        {
          "output_type": "display_data",
          "data": {
            "image/png": "[encoded data removed]",
            "text/plain": [
              "<Figure size 432x288 with 1 Axes>"
            ]
          },
          "metadata": {
            "tags": []
          }
        }
      ]
    },
    {
      "cell_type": "code",
      "metadata": {
        "id": "bawmbe-aVYTG"
      },
      "source": [
        "# Get the stock prices for 2019 to have our model make the predictions\n",
        "test_data = test_df['Adj Close'].values\n",
        "test_data = test_data.reshape(-1,1)\n",
        "test_data = scaler.transform(test_data)\n",
        "\n",
        "# Create the data to test our model on:\n",
        "time_steps = 36\n",
        "X_test, y_test = create_dataset(test_data, time_steps)\n",
        "\n",
        "# store the original vals for plotting the predictions \n",
        "y_test = y_test.reshape(-1,1)\n",
        "true = y_test\n",
        "org_y = scaler.inverse_transform(y_test)\n",
        "\n",
        "# reshape it [samples, time steps, features]\n",
        "X_test = np.reshape(X_test, (X_test.shape[0], 36, 1))\n",
        "\n",
        "# Predict the prices with the model\n",
        "predicted_y = model.predict(X_test)\n",
        "pred = predicted_y\n",
        "predicted_y = scaler.inverse_transform(predicted_y)\n"
      ],
      "execution_count": 8,
      "outputs": []
    },
    {
      "cell_type": "code",
      "metadata": {
        "colab": {
          "base_uri": "https://localhost:8080/"
        },
        "id": "TCYMPV6E6iAl",
        "outputId": "b06f9706-4950-4a37-9bad-b7a82d0cc08d"
      },
      "source": [
        "# MSE\n",
        "difference_array = np.subtract(true, pred)\n",
        "squared_array = np.square(difference_array)\n",
        "mse = squared_array.mean()\n",
        "print(\"MSE :\", mse)\n",
        "\n",
        "# The RMSE\n",
        "from sklearn.metrics import mean_squared_error, mean_absolute_error\n",
        "print(\"RMSE : %.2f\" % mean_squared_error(true, pred, squared=False))\n",
        "\n",
        "# The MAE\n",
        "print(\"MAE : %.2f\" % mean_absolute_error(true, pred))\n",
        "\n",
        "#Mean Absolute Percentange Error\n",
        "MAPE = np.mean(np.abs((true - pred) / true)) * 100\n",
        "print('MAPE : ', MAPE)\n",
        "\n",
        "# Explained variance score: 1 is perfect prediction\n",
        "from sklearn.metrics import r2_score\n",
        "print('R2 score: %.2f' % r2_score(true, pred))"
      ],
      "execution_count": 9,
      "outputs": [
        {
          "output_type": "stream",
          "text": [
            "MSE : 0.001407978045149888\n",
            "RMSE : 0.04\n",
            "MAE : 0.03\n",
            "MAPE :  58.33048823150606\n",
            "R2 score: 0.96\n"
          ],
          "name": "stdout"
        }
      ]
    },
    {
      "cell_type": "markdown",
      "metadata": {
        "id": "m0RAfWtxDfnB"
      },
      "source": [
        "We choose the mean square error MSE of all samples as our metric. It can be calculated through Eqn. (47) using test set. Notice that the MSE we calculated are derived from normalized data. That's because there exists huge value gap among di\u000berent stocks. if we use original stock price to evaluate error, the error of high price stocks would probably be much more larger than low price ones, which implies models perform better on high price stocks would very likely to have better overall performance. Thus the performance on low price stocks would become dispensable. To avoid the bias caused by the aforementioned problem we evaluate the error with normalized stock price ranged from -1 to 1. (Li, H., Shen, Y., dan Zhu, Y. 2018. Stock Price Prediction Using attention-based Multi-Input LSTM)"
      ]
    },
    {
      "cell_type": "code",
      "metadata": {
        "id": "Y47_DyXm9Ysk",
        "colab": {
          "base_uri": "https://localhost:8080/",
          "height": 287
        },
        "outputId": "9c32c4c3-077b-474e-e51f-a8b3322b3cc4"
      },
      "source": [
        "predicted_y = pd.DataFrame(predicted_y)\n",
        "org_y = pd.DataFrame(org_y)\n",
        "describe = pd.DataFrame()\n",
        "describe['True Price'] = org_y[0]\n",
        "describe['Prediction'] = predicted_y[0]\n",
        "describe['difference'] = org_y[0] - predicted_y[0]\n",
        "describe['MAPE (%)'] = abs(describe['difference']/org_y[0]*100)\n",
        "describe.describe()"
      ],
      "execution_count": 10,
      "outputs": [
        {
          "output_type": "execute_result",
          "data": {
            "text/html": [
              "<div>\n",
              "<style scoped>\n",
              "    .dataframe tbody tr th:only-of-type {\n",
              "        vertical-align: middle;\n",
              "    }\n",
              "\n",
              "    .dataframe tbody tr th {\n",
              "        vertical-align: top;\n",
              "    }\n",
              "\n",
              "    .dataframe thead th {\n",
              "        text-align: right;\n",
              "    }\n",
              "</style>\n",
              "<table border=\"1\" class=\"dataframe\">\n",
              "  <thead>\n",
              "    <tr style=\"text-align: right;\">\n",
              "      <th></th>\n",
              "      <th>True Price</th>\n",
              "      <th>Prediction</th>\n",
              "      <th>difference</th>\n",
              "      <th>MAPE (%)</th>\n",
              "    </tr>\n",
              "  </thead>\n",
              "  <tbody>\n",
              "    <tr>\n",
              "      <th>count</th>\n",
              "      <td>257.000000</td>\n",
              "      <td>257.000000</td>\n",
              "      <td>257.000000</td>\n",
              "      <td>257.000000</td>\n",
              "    </tr>\n",
              "    <tr>\n",
              "      <th>mean</th>\n",
              "      <td>2803.837003</td>\n",
              "      <td>2873.558350</td>\n",
              "      <td>-69.721295</td>\n",
              "      <td>3.259725</td>\n",
              "    </tr>\n",
              "    <tr>\n",
              "      <th>std</th>\n",
              "      <td>568.390362</td>\n",
              "      <td>559.070984</td>\n",
              "      <td>90.308631</td>\n",
              "      <td>3.133226</td>\n",
              "    </tr>\n",
              "    <tr>\n",
              "      <th>min</th>\n",
              "      <td>1782.670166</td>\n",
              "      <td>1927.383545</td>\n",
              "      <td>-452.600830</td>\n",
              "      <td>0.038230</td>\n",
              "    </tr>\n",
              "    <tr>\n",
              "      <th>25%</th>\n",
              "      <td>2148.586670</td>\n",
              "      <td>2235.077393</td>\n",
              "      <td>-127.032715</td>\n",
              "      <td>1.137077</td>\n",
              "    </tr>\n",
              "    <tr>\n",
              "      <th>50%</th>\n",
              "      <td>2983.626953</td>\n",
              "      <td>3093.935303</td>\n",
              "      <td>-56.639160</td>\n",
              "      <td>2.285587</td>\n",
              "    </tr>\n",
              "    <tr>\n",
              "      <th>75%</th>\n",
              "      <td>3357.273438</td>\n",
              "      <td>3401.006104</td>\n",
              "      <td>-7.313477</td>\n",
              "      <td>4.650179</td>\n",
              "    </tr>\n",
              "    <tr>\n",
              "      <th>max</th>\n",
              "      <td>3592.553955</td>\n",
              "      <td>3478.209229</td>\n",
              "      <td>159.264160</td>\n",
              "      <td>21.065049</td>\n",
              "    </tr>\n",
              "  </tbody>\n",
              "</table>\n",
              "</div>"
            ],
            "text/plain": [
              "        True Price   Prediction  difference    MAPE (%)\n",
              "count   257.000000   257.000000  257.000000  257.000000\n",
              "mean   2803.837003  2873.558350  -69.721295    3.259725\n",
              "std     568.390362   559.070984   90.308631    3.133226\n",
              "min    1782.670166  1927.383545 -452.600830    0.038230\n",
              "25%    2148.586670  2235.077393 -127.032715    1.137077\n",
              "50%    2983.626953  3093.935303  -56.639160    2.285587\n",
              "75%    3357.273438  3401.006104   -7.313477    4.650179\n",
              "max    3592.553955  3478.209229  159.264160   21.065049"
            ]
          },
          "metadata": {
            "tags": []
          },
          "execution_count": 10
        }
      ]
    },
    {
      "cell_type": "code",
      "metadata": {
        "colab": {
          "base_uri": "https://localhost:8080/",
          "height": 347
        },
        "id": "UoSeLi8altE4",
        "outputId": "f6a5cf09-edd9-4cf7-8ae6-2f4507f4f9e6"
      },
      "source": [
        "describe.head(10)"
      ],
      "execution_count": 11,
      "outputs": [
        {
          "output_type": "execute_result",
          "data": {
            "text/html": [
              "<div>\n",
              "<style scoped>\n",
              "    .dataframe tbody tr th:only-of-type {\n",
              "        vertical-align: middle;\n",
              "    }\n",
              "\n",
              "    .dataframe tbody tr th {\n",
              "        vertical-align: top;\n",
              "    }\n",
              "\n",
              "    .dataframe thead th {\n",
              "        text-align: right;\n",
              "    }\n",
              "</style>\n",
              "<table border=\"1\" class=\"dataframe\">\n",
              "  <thead>\n",
              "    <tr style=\"text-align: right;\">\n",
              "      <th></th>\n",
              "      <th>True Price</th>\n",
              "      <th>Prediction</th>\n",
              "      <th>difference</th>\n",
              "      <th>MAPE (%)</th>\n",
              "    </tr>\n",
              "  </thead>\n",
              "  <tbody>\n",
              "    <tr>\n",
              "      <th>0</th>\n",
              "      <td>3411.569092</td>\n",
              "      <td>3454.818359</td>\n",
              "      <td>-43.249268</td>\n",
              "      <td>1.267724</td>\n",
              "    </tr>\n",
              "    <tr>\n",
              "      <th>1</th>\n",
              "      <td>3520.159912</td>\n",
              "      <td>3438.027832</td>\n",
              "      <td>82.132080</td>\n",
              "      <td>2.333192</td>\n",
              "    </tr>\n",
              "    <tr>\n",
              "      <th>2</th>\n",
              "      <td>3592.553955</td>\n",
              "      <td>3433.289795</td>\n",
              "      <td>159.264160</td>\n",
              "      <td>4.433174</td>\n",
              "    </tr>\n",
              "    <tr>\n",
              "      <th>3</th>\n",
              "      <td>3538.258545</td>\n",
              "      <td>3442.762695</td>\n",
              "      <td>95.495850</td>\n",
              "      <td>2.698951</td>\n",
              "    </tr>\n",
              "    <tr>\n",
              "      <th>4</th>\n",
              "      <td>3474.913818</td>\n",
              "      <td>3456.536865</td>\n",
              "      <td>18.376953</td>\n",
              "      <td>0.528846</td>\n",
              "    </tr>\n",
              "    <tr>\n",
              "      <th>5</th>\n",
              "      <td>3447.765869</td>\n",
              "      <td>3467.064697</td>\n",
              "      <td>-19.298828</td>\n",
              "      <td>0.559749</td>\n",
              "    </tr>\n",
              "    <tr>\n",
              "      <th>6</th>\n",
              "      <td>3483.963135</td>\n",
              "      <td>3472.237305</td>\n",
              "      <td>11.725830</td>\n",
              "      <td>0.336566</td>\n",
              "    </tr>\n",
              "    <tr>\n",
              "      <th>7</th>\n",
              "      <td>3483.963135</td>\n",
              "      <td>3475.972168</td>\n",
              "      <td>7.990967</td>\n",
              "      <td>0.229364</td>\n",
              "    </tr>\n",
              "    <tr>\n",
              "      <th>8</th>\n",
              "      <td>3429.667480</td>\n",
              "      <td>3478.209229</td>\n",
              "      <td>-48.541748</td>\n",
              "      <td>1.415349</td>\n",
              "    </tr>\n",
              "    <tr>\n",
              "      <th>9</th>\n",
              "      <td>3483.963135</td>\n",
              "      <td>3475.011719</td>\n",
              "      <td>8.951416</td>\n",
              "      <td>0.256932</td>\n",
              "    </tr>\n",
              "  </tbody>\n",
              "</table>\n",
              "</div>"
            ],
            "text/plain": [
              "    True Price   Prediction  difference  MAPE (%)\n",
              "0  3411.569092  3454.818359  -43.249268  1.267724\n",
              "1  3520.159912  3438.027832   82.132080  2.333192\n",
              "2  3592.553955  3433.289795  159.264160  4.433174\n",
              "3  3538.258545  3442.762695   95.495850  2.698951\n",
              "4  3474.913818  3456.536865   18.376953  0.528846\n",
              "5  3447.765869  3467.064697  -19.298828  0.559749\n",
              "6  3483.963135  3472.237305   11.725830  0.336566\n",
              "7  3483.963135  3475.972168    7.990967  0.229364\n",
              "8  3429.667480  3478.209229  -48.541748  1.415349\n",
              "9  3483.963135  3475.011719    8.951416  0.256932"
            ]
          },
          "metadata": {
            "tags": []
          },
          "execution_count": 11
        }
      ]
    },
    {
      "cell_type": "code",
      "metadata": {
        "id": "xriB7R_tWpAM",
        "colab": {
          "base_uri": "https://localhost:8080/"
        },
        "outputId": "3bf805cd-ff84-47a4-8c39-d2f06f72113d"
      },
      "source": [
        "a = np.array(describe['True Price'])\n",
        "b = np.array(describe['Prediction'])\n",
        "\n",
        "# MSE\n",
        "difference_array = np.subtract(a, b)\n",
        "squared_array = np.square(difference_array)\n",
        "mse = squared_array.mean()\n",
        "print(\"MSE :\", mse)\n",
        "\n",
        "# The RMSE\n",
        "print(\"RMSE: %.2f\" % mean_squared_error(a, b, squared=False))\n",
        "\n",
        "# The MAE\n",
        "print(\"MAE: %.2f\" % mean_absolute_error(a, b))\n",
        "\n",
        "#Mean Absolute Percentange Error\n",
        "c = (np.mean(np.abs((a - b) / a))) * 100\n",
        "print('MAPE : ', c)\n",
        "\n",
        "# Explained variance score: 1 is perfect prediction\n",
        "from sklearn.metrics import r2_score\n",
        "print('R2 score: %.2f' % r2_score(a, b))\n",
        "\n"
      ],
      "execution_count": 12,
      "outputs": [
        {
          "output_type": "stream",
          "text": [
            "MSE : 12984.973810354733\n",
            "RMSE: 113.95\n",
            "MAE: 85.83\n",
            "MAPE :  3.2597252159434085\n",
            "R2 score: 0.96\n"
          ],
          "name": "stdout"
        }
      ]
    },
    {
      "cell_type": "code",
      "metadata": {
        "id": "iozJ262YxuM8",
        "colab": {
          "base_uri": "https://localhost:8080/"
        },
        "outputId": "f74da30e-d9f7-449f-fd8d-849354c9f549"
      },
      "source": [
        "print(model.evaluate(X_train, y_train))\n",
        "print(model.evaluate(X_test, y_test))"
      ],
      "execution_count": 13,
      "outputs": [
        {
          "output_type": "stream",
          "text": [
            "38/38 [==============================] - 1s 19ms/step - loss: 0.0018\n",
            "0.0017807154217734933\n",
            "9/9 [==============================] - 1s 19ms/step - loss: 0.0014\n",
            "0.0014079778920859098\n"
          ],
          "name": "stdout"
        }
      ]
    },
    {
      "cell_type": "code",
      "metadata": {
        "colab": {
          "base_uri": "https://localhost:8080/"
        },
        "id": "JRT-OjnyZ0PP",
        "outputId": "a7c7102c-3bbb-4e81-f4d5-8970664ccc0c"
      },
      "source": [
        "print(model.metrics_names)"
      ],
      "execution_count": 14,
      "outputs": [
        {
          "output_type": "stream",
          "text": [
            "['loss']\n"
          ],
          "name": "stdout"
        }
      ]
    },
    {
      "cell_type": "code",
      "metadata": {
        "id": "qNCPEkeaXNIT"
      },
      "source": [
        "graph  = test_df.drop(test_df.index[0:36])\n",
        "graph.reset_index(inplace=True)\n",
        "graph.rename(columns = {'index':'Date'})\n",
        "graph = graph.drop(columns=['High','Low','Open','Volume','Close'])\n",
        "graph['Predict_Value'] = predicted_y[0]\n",
        "graph.head()\n",
        "graph.set_index('Date', inplace=True)"
      ],
      "execution_count": 15,
      "outputs": []
    },
    {
      "cell_type": "code",
      "metadata": {
        "id": "QF5LdxyJb0bT",
        "colab": {
          "base_uri": "https://localhost:8080/",
          "height": 298
        },
        "outputId": "20b99164-0a99-4ced-bdd3-7d07635a0a59"
      },
      "source": [
        "# plot the results \n",
        "plt.plot(graph['Adj Close'], color = 'red', label = 'Real Stock Price')\n",
        "plt.plot(graph['Predict_Value'], color = 'blue', label = 'Predicted Stock Price')\n",
        "#plt.plot(df['Adj Close'], color = 'black', label = 'Past Stock')\n",
        "plt.title('Stock Price Prediction')\n",
        "plt.xlabel('Time')\n",
        "plt.ylabel('Stock Price')\n",
        "plt.legend()\n",
        "plt.savefig('Stock Price SVR LSTM 1.png')\n",
        "files.download(\"Stock Price SVR LSTM 1.png\")\n",
        "plt.show()"
      ],
      "execution_count": 16,
      "outputs": [
        {
          "output_type": "display_data",
          "data": {
            "application/javascript": [
              "\n",
              "    async function download(id, filename, size) {\n",
              "      if (!google.colab.kernel.accessAllowed) {\n",
              "        return;\n",
              "      }\n",
              "      const div = document.createElement('div');\n",
              "      const label = document.createElement('label');\n",
              "      label.textContent = `Downloading \"${filename}\": `;\n",
              "      div.appendChild(label);\n",
              "      const progress = document.createElement('progress');\n",
              "      progress.max = size;\n",
              "      div.appendChild(progress);\n",
              "      document.body.appendChild(div);\n",
              "\n",
              "      const buffers = [];\n",
              "      let downloaded = 0;\n",
              "\n",
              "      const channel = await google.colab.kernel.comms.open(id);\n",
              "      // Send a message to notify the kernel that we're ready.\n",
              "      channel.send({})\n",
              "\n",
              "      for await (const message of channel.messages) {\n",
              "        // Send a message to notify the kernel that we're ready.\n",
              "        channel.send({})\n",
              "        if (message.buffers) {\n",
              "          for (const buffer of message.buffers) {\n",
              "            buffers.push(buffer);\n",
              "            downloaded += buffer.byteLength;\n",
              "            progress.value = downloaded;\n",
              "          }\n",
              "        }\n",
              "      }\n",
              "      const blob = new Blob(buffers, {type: 'application/binary'});\n",
              "      const a = document.createElement('a');\n",
              "      a.href = window.URL.createObjectURL(blob);\n",
              "      a.download = filename;\n",
              "      div.appendChild(a);\n",
              "      a.click();\n",
              "      div.remove();\n",
              "    }\n",
              "  "
            ],
            "text/plain": [
              "<IPython.core.display.Javascript object>"
            ]
          },
          "metadata": {
            "tags": []
          }
        },
        {
          "output_type": "display_data",
          "data": {
            "application/javascript": [
              "download(\"download_49624966-a49b-49dc-b807-192243c02629\", \"Stock Price SVR LSTM 1.png\", 29861)"
            ],
            "text/plain": [
              "<IPython.core.display.Javascript object>"
            ]
          },
          "metadata": {
            "tags": []
          }
        },
        {
          "output_type": "display_data",
          "data": {
            "image/png": "[encoded data removed]",
            "text/plain": [
              "<Figure size 432x288 with 1 Axes>"
            ]
          },
          "metadata": {
            "tags": []
          }
        }
      ]
    },
    {
      "cell_type": "code",
      "metadata": {
        "id": "RRepTsPgEuXx"
      },
      "source": [
        "final  = test_df.drop(test_df.index[0:36])\n",
        "final.reset_index(inplace=True)\n",
        "final.rename(columns = {'index':'Date'})\n",
        "final = final.drop(columns=['High','Low','Open','Volume','Close'])\n",
        "final['Predict_Value'] = predicted_y[0]\n",
        "final['Selisih'] = final['Adj Close'] - final['Predict_Value']\n",
        "final['Lost/Risk (%)'] = abs((final['Adj Close'] - final['Predict_Value'])/final['Predict_Value']*100)\n",
        "final = final.drop(columns=['Adj Close'])"
      ],
      "execution_count": 17,
      "outputs": []
    },
    {
      "cell_type": "code",
      "metadata": {
        "id": "DhwcCvlTySN1"
      },
      "source": [
        "percent = test_df.drop(test_df.index[0:35])\n",
        "percent = percent.drop(test_df.index[-1])\n",
        "percent.reset_index(inplace=True)\n",
        "percent.rename(columns = {'index':'Date'}) \n",
        "percent = percent.drop(columns=['High','Low','Open','Volume','Close'])\n",
        "percent['Next Day'] = predicted_y\n",
        "percent['Plus or Minus']= percent['Adj Close'] - percent['Next Day']\n",
        "percent['Next Day (%)']= (((percent['Adj Close'] - percent['Next Day'])/percent['Adj Close'])*100)"
      ],
      "execution_count": 18,
      "outputs": []
    },
    {
      "cell_type": "code",
      "metadata": {
        "id": "sllI6VucG__o"
      },
      "source": [
        "True_Next_Day = test_df.drop(test_df.index[0:35])\n",
        "True_Next_Day = True_Next_Day.drop(test_df.index[-1])\n",
        "True_Next_Day.reset_index(inplace=True)\n",
        "True_Next_Day.rename(columns = {'index':'Date'}) \n",
        "True_Next_Day = True_Next_Day.drop(columns=['High','Low','Open','Volume','Close'])\n",
        "True_Next_Day['True Next Day'] = org_y\n",
        "True_Next_Day['True Plus or Minus']= (True_Next_Day['Adj Close'] - True_Next_Day['True Next Day'])\n",
        "True_Next_Day['True Next Day (%)']= (((True_Next_Day['Adj Close'] - True_Next_Day['True Next Day'])/True_Next_Day['Adj Close'])*100)\n",
        "True_Next_Day = True_Next_Day.drop(columns=['Adj Close'])"
      ],
      "execution_count": 19,
      "outputs": []
    },
    {
      "cell_type": "code",
      "metadata": {
        "id": "121c4YuD-aJq",
        "colab": {
          "base_uri": "https://localhost:8080/"
        },
        "outputId": "8a1ca21a-184c-4dd3-aac2-09e46617b521"
      },
      "source": [
        "Concating = percent.merge(final, how='outer', on='Date')\n",
        "Concating = Concating.merge(True_Next_Day, how='outer', on='Date')\n",
        "#Concating.set_index('Date', inplace=True)\n",
        "Final_Predict = Concating.copy()\n",
        "Final_Predict['Harga Saham Hari ini'] = Concating['Adj Close']\n",
        "Final_Predict['Prediksi Besok'] = Concating['Plus or Minus']\n",
        "Final_Predict['Harga Besok Sebenarnya'] = Concating['True Plus or Minus']\n",
        "Final_Predict['Prediksi Besok (%)'] = (Concating['Next Day (%)'])\n",
        "Final_Predict['Harga Besok Sebenarnya (%)'] = Concating['True Next Day (%)']\n",
        "Final_Predict['Selisih Prediksi'] = (Final_Predict['Harga Besok Sebenarnya'] - Final_Predict['Prediksi Besok'])\n",
        "Final_Predict['Harga Sebenarnya'] = Concating['True Next Day']\n",
        "Final_Predict['Risk/MAPE(%)'] = (np.abs((Final_Predict['Harga Besok Sebenarnya'] - Final_Predict['Prediksi Besok']) / Final_Predict['True Next Day'])) * 100\n",
        "Final_Predict['Risk/MAPE(%)'] = round(Final_Predict['Risk/MAPE(%)'], 2)\n",
        "Final_Predict = Final_Predict.drop(columns=['Adj Close', 'Next Day', 'Plus or Minus', 'Next Day (%)',\n",
        "                                            'Predict_Value', 'Selisih', 'Lost/Risk (%)', 'True Plus or Minus',\n",
        "                                            'True Next Day (%)','True Next Day'])\n",
        "Final_Predict = Final_Predict.replace(0, np.nan)\n",
        "Final_Predict = Final_Predict.dropna()\n",
        "Final_Predict['Prediksi Uptrend'] = Final_Predict['Prediksi Besok'].apply(lambda x: 1 if x >= 0 else 0)\n",
        "Final_Predict['Asli Uptrend'] = Final_Predict['Harga Besok Sebenarnya'].apply(lambda x: 1 if x >= 0 else 0)\n",
        "Final_Predict.set_index('Date', inplace=True)\n",
        "Final_Predict.shape"
      ],
      "execution_count": 20,
      "outputs": [
        {
          "output_type": "execute_result",
          "data": {
            "text/plain": [
              "(226, 10)"
            ]
          },
          "metadata": {
            "tags": []
          },
          "execution_count": 20
        }
      ]
    },
    {
      "cell_type": "markdown",
      "metadata": {
        "id": "-B7BojpJDQgu"
      },
      "source": [
        "Risk Ekspektasi - Blindly belief\n",
        "\n",
        "Logika ekpektasi - Saham A saya beli kemarin Rp. 1000, dan prediksi ML LSTM menginfokan hari ini naik 200 menjadi 1200 sehingga saya tergetkan jual 1200. ketika saya jual 1200, ternyata harga penutupannya 1500, naik 500. berarti selisihnya dari prediksi dan harga asli adalah Rp 300 (Rp. 500 - Rp. 200), menandakan risiko ekpektasinya adalah 20% (Rp 300/1500) dari harga saham, sedangkan risiko ekpektasi kenaikan dan penurunannya adalah 60% dari ekpektasi kehilangan peluang (Ekpektasi peluang = (500-200)/500*100)\n",
        "\n",
        "Risiko Ekpektasi lainnya - \n",
        "Saham A saya beli kemarin Rp. 1000 dengan prediksi ML LSTM hari ini 1200, naik 200 sehingga saya tergetkan jual Rp. 1200. ketika saya melihat saham menyentuh 800, saya pikir itu adalah kesempatan beli karena perkiraan penutupan ML LSTM adalah 1200, dengan harapan mendapat keutungan ketika penutupan. Namun, prediksinya salah, dan ternyata penutupannya adalah 800 dan saham saya tidak laku, dan terjadi penurunan 200 dari hari kemarin. Disini saya kehilangan kesempatan cut loss dan justru menumpuk saham ketika seharusnya cutloss. Jika dikalkulasikan -400 dari harapan awal 1200 menjadi 800 (-200-200), menandakan risk ekpektasi dari harga sahamnya 50% (-400/800*100), atau perbedaan ekpektasinya 200% dari peluang cutloss. Risiko dari ketamakan."
      ]
    },
    {
      "cell_type": "code",
      "metadata": {
        "colab": {
          "base_uri": "https://localhost:8080/",
          "height": 561
        },
        "id": "ookffGOJ-lmk",
        "outputId": "cbe35255-8089-4ba7-da90-61fce05bc38f"
      },
      "source": [
        "Final_Predict.head(10)"
      ],
      "execution_count": 21,
      "outputs": [
        {
          "output_type": "execute_result",
          "data": {
            "text/html": [
              "<div>\n",
              "<style scoped>\n",
              "    .dataframe tbody tr th:only-of-type {\n",
              "        vertical-align: middle;\n",
              "    }\n",
              "\n",
              "    .dataframe tbody tr th {\n",
              "        vertical-align: top;\n",
              "    }\n",
              "\n",
              "    .dataframe thead th {\n",
              "        text-align: right;\n",
              "    }\n",
              "</style>\n",
              "<table border=\"1\" class=\"dataframe\">\n",
              "  <thead>\n",
              "    <tr style=\"text-align: right;\">\n",
              "      <th></th>\n",
              "      <th>Harga Saham Hari ini</th>\n",
              "      <th>Prediksi Besok</th>\n",
              "      <th>Harga Besok Sebenarnya</th>\n",
              "      <th>Prediksi Besok (%)</th>\n",
              "      <th>Harga Besok Sebenarnya (%)</th>\n",
              "      <th>Selisih Prediksi</th>\n",
              "      <th>Harga Sebenarnya</th>\n",
              "      <th>Risk/MAPE(%)</th>\n",
              "      <th>Prediksi Uptrend</th>\n",
              "      <th>Asli Uptrend</th>\n",
              "    </tr>\n",
              "    <tr>\n",
              "      <th>Date</th>\n",
              "      <th></th>\n",
              "      <th></th>\n",
              "      <th></th>\n",
              "      <th></th>\n",
              "      <th></th>\n",
              "      <th></th>\n",
              "      <th></th>\n",
              "      <th></th>\n",
              "      <th></th>\n",
              "      <th></th>\n",
              "    </tr>\n",
              "  </thead>\n",
              "  <tbody>\n",
              "    <tr>\n",
              "      <th>2019-01-01</th>\n",
              "      <td>3357.273438</td>\n",
              "      <td>-97.544922</td>\n",
              "      <td>-54.295654</td>\n",
              "      <td>-2.905480</td>\n",
              "      <td>-1.617254</td>\n",
              "      <td>43.249268</td>\n",
              "      <td>3411.569092</td>\n",
              "      <td>1.27</td>\n",
              "      <td>0</td>\n",
              "      <td>0</td>\n",
              "    </tr>\n",
              "    <tr>\n",
              "      <th>2019-01-02</th>\n",
              "      <td>3411.569092</td>\n",
              "      <td>-26.458740</td>\n",
              "      <td>-108.590820</td>\n",
              "      <td>-0.775559</td>\n",
              "      <td>-3.183017</td>\n",
              "      <td>-82.132080</td>\n",
              "      <td>3520.159912</td>\n",
              "      <td>2.33</td>\n",
              "      <td>0</td>\n",
              "      <td>0</td>\n",
              "    </tr>\n",
              "    <tr>\n",
              "      <th>2019-01-03</th>\n",
              "      <td>3520.159912</td>\n",
              "      <td>86.870117</td>\n",
              "      <td>-72.394043</td>\n",
              "      <td>2.467789</td>\n",
              "      <td>-2.056556</td>\n",
              "      <td>-159.264160</td>\n",
              "      <td>3592.553955</td>\n",
              "      <td>4.43</td>\n",
              "      <td>1</td>\n",
              "      <td>0</td>\n",
              "    </tr>\n",
              "    <tr>\n",
              "      <th>2019-01-04</th>\n",
              "      <td>3592.553955</td>\n",
              "      <td>149.791260</td>\n",
              "      <td>54.295410</td>\n",
              "      <td>4.169492</td>\n",
              "      <td>1.511332</td>\n",
              "      <td>-95.495850</td>\n",
              "      <td>3538.258545</td>\n",
              "      <td>2.70</td>\n",
              "      <td>1</td>\n",
              "      <td>1</td>\n",
              "    </tr>\n",
              "    <tr>\n",
              "      <th>2019-01-07</th>\n",
              "      <td>3538.258545</td>\n",
              "      <td>81.721680</td>\n",
              "      <td>63.344727</td>\n",
              "      <td>2.309658</td>\n",
              "      <td>1.790280</td>\n",
              "      <td>-18.376953</td>\n",
              "      <td>3474.913818</td>\n",
              "      <td>0.53</td>\n",
              "      <td>1</td>\n",
              "      <td>1</td>\n",
              "    </tr>\n",
              "    <tr>\n",
              "      <th>2019-01-08</th>\n",
              "      <td>3474.913818</td>\n",
              "      <td>7.849121</td>\n",
              "      <td>27.147949</td>\n",
              "      <td>0.225880</td>\n",
              "      <td>0.781255</td>\n",
              "      <td>19.298828</td>\n",
              "      <td>3447.765869</td>\n",
              "      <td>0.56</td>\n",
              "      <td>1</td>\n",
              "      <td>1</td>\n",
              "    </tr>\n",
              "    <tr>\n",
              "      <th>2019-01-09</th>\n",
              "      <td>3447.765869</td>\n",
              "      <td>-24.471436</td>\n",
              "      <td>-36.197266</td>\n",
              "      <td>-0.709777</td>\n",
              "      <td>-1.049876</td>\n",
              "      <td>-11.725830</td>\n",
              "      <td>3483.963135</td>\n",
              "      <td>0.34</td>\n",
              "      <td>0</td>\n",
              "      <td>0</td>\n",
              "    </tr>\n",
              "    <tr>\n",
              "      <th>2019-01-11</th>\n",
              "      <td>3483.963135</td>\n",
              "      <td>5.753906</td>\n",
              "      <td>54.295654</td>\n",
              "      <td>0.165154</td>\n",
              "      <td>1.558445</td>\n",
              "      <td>48.541748</td>\n",
              "      <td>3429.667480</td>\n",
              "      <td>1.42</td>\n",
              "      <td>1</td>\n",
              "      <td>1</td>\n",
              "    </tr>\n",
              "    <tr>\n",
              "      <th>2019-01-14</th>\n",
              "      <td>3429.667480</td>\n",
              "      <td>-45.344238</td>\n",
              "      <td>-54.295654</td>\n",
              "      <td>-1.322118</td>\n",
              "      <td>-1.583117</td>\n",
              "      <td>-8.951416</td>\n",
              "      <td>3483.963135</td>\n",
              "      <td>0.26</td>\n",
              "      <td>0</td>\n",
              "      <td>0</td>\n",
              "    </tr>\n",
              "    <tr>\n",
              "      <th>2019-01-16</th>\n",
              "      <td>3483.963135</td>\n",
              "      <td>12.668457</td>\n",
              "      <td>54.295654</td>\n",
              "      <td>0.363622</td>\n",
              "      <td>1.558445</td>\n",
              "      <td>41.627197</td>\n",
              "      <td>3429.667480</td>\n",
              "      <td>1.21</td>\n",
              "      <td>1</td>\n",
              "      <td>1</td>\n",
              "    </tr>\n",
              "  </tbody>\n",
              "</table>\n",
              "</div>"
            ],
            "text/plain": [
              "            Harga Saham Hari ini  ...  Asli Uptrend\n",
              "Date                              ...              \n",
              "2019-01-01           3357.273438  ...             0\n",
              "2019-01-02           3411.569092  ...             0\n",
              "2019-01-03           3520.159912  ...             0\n",
              "2019-01-04           3592.553955  ...             1\n",
              "2019-01-07           3538.258545  ...             1\n",
              "2019-01-08           3474.913818  ...             1\n",
              "2019-01-09           3447.765869  ...             0\n",
              "2019-01-11           3483.963135  ...             1\n",
              "2019-01-14           3429.667480  ...             0\n",
              "2019-01-16           3483.963135  ...             1\n",
              "\n",
              "[10 rows x 10 columns]"
            ]
          },
          "metadata": {
            "tags": []
          },
          "execution_count": 21
        }
      ]
    },
    {
      "cell_type": "code",
      "metadata": {
        "colab": {
          "base_uri": "https://localhost:8080/"
        },
        "id": "nJ8kSjYQ4Mru",
        "outputId": "a085ef16-1ace-43e4-f1c5-43ef837d3972"
      },
      "source": [
        "MAPE = np.mean(np.abs((Final_Predict['Harga Besok Sebenarnya'] - Final_Predict['Prediksi Besok']) / Final_Predict['Harga Sebenarnya'])) * 100\n",
        "print('Mape :', MAPE)"
      ],
      "execution_count": 22,
      "outputs": [
        {
          "output_type": "stream",
          "text": [
            "Mape : 3.3564573157847595\n"
          ],
          "name": "stdout"
        }
      ]
    },
    {
      "cell_type": "code",
      "metadata": {
        "colab": {
          "base_uri": "https://localhost:8080/"
        },
        "id": "wmiuagMCKc3w",
        "outputId": "ee7cbd9f-f073-42c5-fca0-ce161e0f7549"
      },
      "source": [
        "pred_uptrend = Final_Predict['Prediksi Uptrend']\n",
        "true_trend = Final_Predict['Asli Uptrend']\n",
        "\n",
        "# calculate accuracy\n",
        "from sklearn.metrics import accuracy_score\n",
        "Accuracy = accuracy_score(true_trend, pred_uptrend)\n",
        "print('Accuracy :', Accuracy)\n",
        "\n",
        "\n",
        "# calculate prediction\n",
        "from sklearn.metrics import precision_score\n",
        "precision = precision_score(true_trend, pred_uptrend, average='binary')\n",
        "print('Precision : %.3f' % precision)\n",
        "\n",
        "# calculate recall\n",
        "from sklearn.metrics import recall_score\n",
        "recall = recall_score(true_trend, pred_uptrend, average='binary')\n",
        "print('Recall : %.3f' % recall)\n",
        "\n",
        "# calculate score\n",
        "from sklearn.metrics import f1_score\n",
        "score = f1_score(true_trend, pred_uptrend, average='binary')\n",
        "print('F1 Score : %.3f' % score)\n",
        "\n",
        "#AUC Score\n",
        "from sklearn.metrics import roc_auc_score \n",
        "auc = roc_auc_score(true_trend, pred_uptrend)\n",
        "print('AUC Score : ', auc)"
      ],
      "execution_count": 23,
      "outputs": [
        {
          "output_type": "stream",
          "text": [
            "Accuracy : 0.5530973451327433\n",
            "Precision : 0.796\n",
            "Recall : 0.300\n",
            "F1 Score : 0.436\n",
            "AUC Score :  0.5979166666666668\n"
          ],
          "name": "stdout"
        }
      ]
    },
    {
      "cell_type": "code",
      "metadata": {
        "colab": {
          "base_uri": "https://localhost:8080/",
          "height": 337
        },
        "id": "J7yPx3k8WolI",
        "outputId": "333d57e8-199a-4880-e496-fc424fc0866b"
      },
      "source": [
        "from sklearn.metrics import confusion_matrix\n",
        "import seaborn as sns\n",
        "import matplotlib.pyplot as plt\n",
        "\n",
        "confusion_matrix(true_trend, pred_uptrend)\n",
        "plt.figure(figsize = (6, 5))\n",
        "sns.heatmap(confusion_matrix(true_trend, pred_uptrend), annot = True)"
      ],
      "execution_count": 24,
      "outputs": [
        {
          "output_type": "execute_result",
          "data": {
            "text/plain": [
              "<matplotlib.axes._subplots.AxesSubplot at 0x7fd54b526390>"
            ]
          },
          "metadata": {
            "tags": []
          },
          "execution_count": 24
        },
        {
          "output_type": "display_data",
          "data": {
            "image/png": "[encoded data removed]",
            "text/plain": [
              "<Figure size 432x360 with 2 Axes>"
            ]
          },
          "metadata": {
            "tags": []
          }
        }
      ]
    },
    {
      "cell_type": "code",
      "metadata": {
        "colab": {
          "base_uri": "https://localhost:8080/",
          "height": 282
        },
        "id": "GL0g9D5qPtTK",
        "outputId": "15f31326-2411-43f4-c06e-748b9dc808a9"
      },
      "source": [
        "from sklearn.metrics import roc_curve \n",
        "fpr, tpr, thresholds = roc_curve(true_trend, pred_uptrend)\n",
        "\n",
        "\n",
        "import matplotlib.pyplot as plt \n",
        "plt.plot(fpr, tpr) \n",
        "plt.xlabel(\"False Positive Rate\") \n",
        "plt.ylabel(\"True Positive Rate\") \n",
        "plt.plot([0, 1], [0, 1], \"k--\") \n",
        "plt.show()"
      ],
      "execution_count": 25,
      "outputs": [
        {
          "output_type": "display_data",
          "data": {
            "image/png": "[encoded data removed]",
            "text/plain": [
              "<Figure size 432x288 with 1 Axes>"
            ]
          },
          "metadata": {
            "tags": []
          }
        }
      ]
    },
    {
      "cell_type": "code",
      "metadata": {
        "colab": {
          "base_uri": "https://localhost:8080/",
          "height": 298
        },
        "id": "kgXVUoOccIB1",
        "outputId": "ad952ee9-0839-46d0-c29d-5e6c30bc6301"
      },
      "source": [
        "# plot the results \n",
        "plt.plot(Final_Predict['Prediksi Besok'], color = 'red', label = 'Real Stock Price')\n",
        "plt.plot(Final_Predict['Harga Besok Sebenarnya'], color = 'blue', label = 'Predicted Stock Price')\n",
        "#plt.plot(Final_Predict['Risk/MAPE(%)'], color = 'black', label = 'RISK/MAPE(%)')\n",
        "plt.title('Stock Price Prediction')\n",
        "plt.xlabel('Time')\n",
        "plt.ylabel('Stock Price')\n",
        "plt.legend()\n",
        "plt.savefig('Stock Price SVR LSTM 1.png')\n",
        "files.download(\"Stock Price SVR LSTM 1.png\")\n",
        "plt.show()"
      ],
      "execution_count": 26,
      "outputs": [
        {
          "output_type": "display_data",
          "data": {
            "application/javascript": [
              "\n",
              "    async function download(id, filename, size) {\n",
              "      if (!google.colab.kernel.accessAllowed) {\n",
              "        return;\n",
              "      }\n",
              "      const div = document.createElement('div');\n",
              "      const label = document.createElement('label');\n",
              "      label.textContent = `Downloading \"${filename}\": `;\n",
              "      div.appendChild(label);\n",
              "      const progress = document.createElement('progress');\n",
              "      progress.max = size;\n",
              "      div.appendChild(progress);\n",
              "      document.body.appendChild(div);\n",
              "\n",
              "      const buffers = [];\n",
              "      let downloaded = 0;\n",
              "\n",
              "      const channel = await google.colab.kernel.comms.open(id);\n",
              "      // Send a message to notify the kernel that we're ready.\n",
              "      channel.send({})\n",
              "\n",
              "      for await (const message of channel.messages) {\n",
              "        // Send a message to notify the kernel that we're ready.\n",
              "        channel.send({})\n",
              "        if (message.buffers) {\n",
              "          for (const buffer of message.buffers) {\n",
              "            buffers.push(buffer);\n",
              "            downloaded += buffer.byteLength;\n",
              "            progress.value = downloaded;\n",
              "          }\n",
              "        }\n",
              "      }\n",
              "      const blob = new Blob(buffers, {type: 'application/binary'});\n",
              "      const a = document.createElement('a');\n",
              "      a.href = window.URL.createObjectURL(blob);\n",
              "      a.download = filename;\n",
              "      div.appendChild(a);\n",
              "      a.click();\n",
              "      div.remove();\n",
              "    }\n",
              "  "
            ],
            "text/plain": [
              "<IPython.core.display.Javascript object>"
            ]
          },
          "metadata": {
            "tags": []
          }
        },
        {
          "output_type": "display_data",
          "data": {
            "application/javascript": [
              "download(\"download_e6b793f6-75f7-453f-a4dd-16bd7f6c54f8\", \"Stock Price SVR LSTM 1.png\", 37095)"
            ],
            "text/plain": [
              "<IPython.core.display.Javascript object>"
            ]
          },
          "metadata": {
            "tags": []
          }
        },
        {
          "output_type": "display_data",
          "data": {
            "image/png": "[encoded data removed]",
            "text/plain": [
              "<Figure size 432x288 with 1 Axes>"
            ]
          },
          "metadata": {
            "tags": []
          }
        }
      ]
    },
    {
      "cell_type": "code",
      "metadata": {
        "id": "towGbwPBLWUk"
      },
      "source": [
        "#### Mencari Data STAT MODEL"
      ],
      "execution_count": 27,
      "outputs": []
    },
    {
      "cell_type": "code",
      "metadata": {
        "id": "UiadXxndQ2NX"
      },
      "source": [
        "a = X_test\n",
        "a = np.reshape(a, (-1, 36))\n",
        "a = scaler.inverse_transform(a)\n",
        "a = pd.DataFrame(a)"
      ],
      "execution_count": 28,
      "outputs": []
    },
    {
      "cell_type": "code",
      "metadata": {
        "id": "ErHLvejACioW"
      },
      "source": [
        "b = y_test\n",
        "#b = np.reshape(b, (-1, 36))\n",
        "b = scaler.inverse_transform(b)\n",
        "b = pd.DataFrame(b)"
      ],
      "execution_count": 29,
      "outputs": []
    },
    {
      "cell_type": "code",
      "metadata": {
        "id": "O62uEaEkLyWO"
      },
      "source": [
        "#OLS Model\n",
        "import statsmodels.api as sm\n",
        "X = a\n",
        "Y = b\n",
        "X = sm.add_constant(X)\n",
        "model_ols = sm.OLS(Y,X)\n",
        "results = model_ols.fit()"
      ],
      "execution_count": 30,
      "outputs": []
    },
    {
      "cell_type": "code",
      "metadata": {
        "id": "_CaG_RGcMpzM",
        "colab": {
          "base_uri": "https://localhost:8080/",
          "height": 1000
        },
        "outputId": "22004bf3-90fb-442e-a6b0-79df5ca29183"
      },
      "source": [
        "results.summary()"
      ],
      "execution_count": 31,
      "outputs": [
        {
          "output_type": "execute_result",
          "data": {
            "text/html": [
              "<table class=\"simpletable\">\n",
              "<caption>OLS Regression Results</caption>\n",
              "<tr>\n",
              "  <th>Dep. Variable:</th>            <td>0</td>        <th>  R-squared:         </th> <td>   0.992</td> \n",
              "</tr>\n",
              "<tr>\n",
              "  <th>Model:</th>                   <td>OLS</td>       <th>  Adj. R-squared:    </th> <td>   0.991</td> \n",
              "</tr>\n",
              "<tr>\n",
              "  <th>Method:</th>             <td>Least Squares</td>  <th>  F-statistic:       </th> <td>   759.3</td> \n",
              "</tr>\n",
              "<tr>\n",
              "  <th>Date:</th>             <td>Tue, 18 May 2021</td> <th>  Prob (F-statistic):</th> <td>8.13e-211</td>\n",
              "</tr>\n",
              "<tr>\n",
              "  <th>Time:</th>                 <td>05:16:11</td>     <th>  Log-Likelihood:    </th> <td> -1373.6</td> \n",
              "</tr>\n",
              "<tr>\n",
              "  <th>No. Observations:</th>      <td>   257</td>      <th>  AIC:               </th> <td>   2821.</td> \n",
              "</tr>\n",
              "<tr>\n",
              "  <th>Df Residuals:</th>          <td>   220</td>      <th>  BIC:               </th> <td>   2952.</td> \n",
              "</tr>\n",
              "<tr>\n",
              "  <th>Df Model:</th>              <td>    36</td>      <th>                     </th>     <td> </td>    \n",
              "</tr>\n",
              "<tr>\n",
              "  <th>Covariance Type:</th>      <td>nonrobust</td>    <th>                     </th>     <td> </td>    \n",
              "</tr>\n",
              "</table>\n",
              "<table class=\"simpletable\">\n",
              "<tr>\n",
              "    <td></td>       <th>coef</th>     <th>std err</th>      <th>t</th>      <th>P>|t|</th>  <th>[0.025</th>    <th>0.975]</th>  \n",
              "</tr>\n",
              "<tr>\n",
              "  <th>const</th> <td>   -1.0694</td> <td>   24.103</td> <td>   -0.044</td> <td> 0.965</td> <td>  -48.571</td> <td>   46.432</td>\n",
              "</tr>\n",
              "<tr>\n",
              "  <th>0</th>     <td>   -0.1195</td> <td>    0.065</td> <td>   -1.841</td> <td> 0.067</td> <td>   -0.247</td> <td>    0.008</td>\n",
              "</tr>\n",
              "<tr>\n",
              "  <th>1</th>     <td>    0.2006</td> <td>    0.089</td> <td>    2.255</td> <td> 0.025</td> <td>    0.025</td> <td>    0.376</td>\n",
              "</tr>\n",
              "<tr>\n",
              "  <th>2</th>     <td>   -0.0522</td> <td>    0.089</td> <td>   -0.585</td> <td> 0.559</td> <td>   -0.228</td> <td>    0.124</td>\n",
              "</tr>\n",
              "<tr>\n",
              "  <th>3</th>     <td>   -0.0297</td> <td>    0.089</td> <td>   -0.332</td> <td> 0.740</td> <td>   -0.206</td> <td>    0.147</td>\n",
              "</tr>\n",
              "<tr>\n",
              "  <th>4</th>     <td>   -0.0655</td> <td>    0.089</td> <td>   -0.734</td> <td> 0.463</td> <td>   -0.241</td> <td>    0.110</td>\n",
              "</tr>\n",
              "<tr>\n",
              "  <th>5</th>     <td>    0.0322</td> <td>    0.089</td> <td>    0.360</td> <td> 0.719</td> <td>   -0.144</td> <td>    0.208</td>\n",
              "</tr>\n",
              "<tr>\n",
              "  <th>6</th>     <td>    0.0372</td> <td>    0.089</td> <td>    0.416</td> <td> 0.678</td> <td>   -0.139</td> <td>    0.213</td>\n",
              "</tr>\n",
              "<tr>\n",
              "  <th>7</th>     <td>    0.0456</td> <td>    0.090</td> <td>    0.508</td> <td> 0.612</td> <td>   -0.131</td> <td>    0.222</td>\n",
              "</tr>\n",
              "<tr>\n",
              "  <th>8</th>     <td>   -0.0369</td> <td>    0.090</td> <td>   -0.412</td> <td> 0.680</td> <td>   -0.214</td> <td>    0.140</td>\n",
              "</tr>\n",
              "<tr>\n",
              "  <th>9</th>     <td>   -0.0445</td> <td>    0.090</td> <td>   -0.497</td> <td> 0.619</td> <td>   -0.221</td> <td>    0.132</td>\n",
              "</tr>\n",
              "<tr>\n",
              "  <th>10</th>    <td>    0.0559</td> <td>    0.090</td> <td>    0.623</td> <td> 0.534</td> <td>   -0.121</td> <td>    0.233</td>\n",
              "</tr>\n",
              "<tr>\n",
              "  <th>11</th>    <td>   -0.1260</td> <td>    0.089</td> <td>   -1.408</td> <td> 0.161</td> <td>   -0.302</td> <td>    0.050</td>\n",
              "</tr>\n",
              "<tr>\n",
              "  <th>12</th>    <td>    0.1549</td> <td>    0.089</td> <td>    1.743</td> <td> 0.083</td> <td>   -0.020</td> <td>    0.330</td>\n",
              "</tr>\n",
              "<tr>\n",
              "  <th>13</th>    <td>   -0.0657</td> <td>    0.090</td> <td>   -0.734</td> <td> 0.464</td> <td>   -0.242</td> <td>    0.111</td>\n",
              "</tr>\n",
              "<tr>\n",
              "  <th>14</th>    <td>    0.1868</td> <td>    0.089</td> <td>    2.092</td> <td> 0.038</td> <td>    0.011</td> <td>    0.363</td>\n",
              "</tr>\n",
              "<tr>\n",
              "  <th>15</th>    <td>   -0.2230</td> <td>    0.088</td> <td>   -2.530</td> <td> 0.012</td> <td>   -0.397</td> <td>   -0.049</td>\n",
              "</tr>\n",
              "<tr>\n",
              "  <th>16</th>    <td>    0.0309</td> <td>    0.088</td> <td>    0.350</td> <td> 0.726</td> <td>   -0.143</td> <td>    0.205</td>\n",
              "</tr>\n",
              "<tr>\n",
              "  <th>17</th>    <td>   -0.0323</td> <td>    0.088</td> <td>   -0.366</td> <td> 0.715</td> <td>   -0.206</td> <td>    0.141</td>\n",
              "</tr>\n",
              "<tr>\n",
              "  <th>18</th>    <td>    0.0047</td> <td>    0.088</td> <td>    0.054</td> <td> 0.957</td> <td>   -0.169</td> <td>    0.178</td>\n",
              "</tr>\n",
              "<tr>\n",
              "  <th>19</th>    <td>    0.0408</td> <td>    0.088</td> <td>    0.463</td> <td> 0.644</td> <td>   -0.133</td> <td>    0.214</td>\n",
              "</tr>\n",
              "<tr>\n",
              "  <th>20</th>    <td>   -0.0676</td> <td>    0.088</td> <td>   -0.769</td> <td> 0.443</td> <td>   -0.241</td> <td>    0.106</td>\n",
              "</tr>\n",
              "<tr>\n",
              "  <th>21</th>    <td>   -0.0368</td> <td>    0.089</td> <td>   -0.414</td> <td> 0.680</td> <td>   -0.212</td> <td>    0.138</td>\n",
              "</tr>\n",
              "<tr>\n",
              "  <th>22</th>    <td>    0.1438</td> <td>    0.089</td> <td>    1.614</td> <td> 0.108</td> <td>   -0.032</td> <td>    0.319</td>\n",
              "</tr>\n",
              "<tr>\n",
              "  <th>23</th>    <td>   -0.1349</td> <td>    0.089</td> <td>   -1.518</td> <td> 0.130</td> <td>   -0.310</td> <td>    0.040</td>\n",
              "</tr>\n",
              "<tr>\n",
              "  <th>24</th>    <td>    0.0178</td> <td>    0.090</td> <td>    0.197</td> <td> 0.844</td> <td>   -0.160</td> <td>    0.196</td>\n",
              "</tr>\n",
              "<tr>\n",
              "  <th>25</th>    <td>   -0.0172</td> <td>    0.091</td> <td>   -0.189</td> <td> 0.850</td> <td>   -0.196</td> <td>    0.162</td>\n",
              "</tr>\n",
              "<tr>\n",
              "  <th>26</th>    <td>    0.1066</td> <td>    0.091</td> <td>    1.168</td> <td> 0.244</td> <td>   -0.073</td> <td>    0.286</td>\n",
              "</tr>\n",
              "<tr>\n",
              "  <th>27</th>    <td>    0.0184</td> <td>    0.092</td> <td>    0.201</td> <td> 0.841</td> <td>   -0.162</td> <td>    0.199</td>\n",
              "</tr>\n",
              "<tr>\n",
              "  <th>28</th>    <td>   -0.0131</td> <td>    0.092</td> <td>   -0.142</td> <td> 0.887</td> <td>   -0.194</td> <td>    0.168</td>\n",
              "</tr>\n",
              "<tr>\n",
              "  <th>29</th>    <td>    0.0699</td> <td>    0.092</td> <td>    0.761</td> <td> 0.447</td> <td>   -0.111</td> <td>    0.251</td>\n",
              "</tr>\n",
              "<tr>\n",
              "  <th>30</th>    <td>    0.0813</td> <td>    0.092</td> <td>    0.888</td> <td> 0.376</td> <td>   -0.099</td> <td>    0.262</td>\n",
              "</tr>\n",
              "<tr>\n",
              "  <th>31</th>    <td>   -0.0368</td> <td>    0.092</td> <td>   -0.402</td> <td> 0.688</td> <td>   -0.217</td> <td>    0.144</td>\n",
              "</tr>\n",
              "<tr>\n",
              "  <th>32</th>    <td>    0.0253</td> <td>    0.092</td> <td>    0.276</td> <td> 0.783</td> <td>   -0.155</td> <td>    0.206</td>\n",
              "</tr>\n",
              "<tr>\n",
              "  <th>33</th>    <td>    0.0029</td> <td>    0.092</td> <td>    0.031</td> <td> 0.975</td> <td>   -0.178</td> <td>    0.184</td>\n",
              "</tr>\n",
              "<tr>\n",
              "  <th>34</th>    <td>   -0.1199</td> <td>    0.092</td> <td>   -1.300</td> <td> 0.195</td> <td>   -0.302</td> <td>    0.062</td>\n",
              "</tr>\n",
              "<tr>\n",
              "  <th>35</th>    <td>    0.9639</td> <td>    0.067</td> <td>   14.404</td> <td> 0.000</td> <td>    0.832</td> <td>    1.096</td>\n",
              "</tr>\n",
              "</table>\n",
              "<table class=\"simpletable\">\n",
              "<tr>\n",
              "  <th>Omnibus:</th>       <td>87.960</td> <th>  Durbin-Watson:     </th> <td>   1.987</td> \n",
              "</tr>\n",
              "<tr>\n",
              "  <th>Prob(Omnibus):</th> <td> 0.000</td> <th>  Jarque-Bera (JB):  </th> <td> 814.112</td> \n",
              "</tr>\n",
              "<tr>\n",
              "  <th>Skew:</th>          <td>-1.066</td> <th>  Prob(JB):          </th> <td>1.65e-177</td>\n",
              "</tr>\n",
              "<tr>\n",
              "  <th>Kurtosis:</th>      <td>11.455</td> <th>  Cond. No.          </th> <td>1.25e+05</td> \n",
              "</tr>\n",
              "</table><br/><br/>Warnings:<br/>[1] Standard Errors assume that the covariance matrix of the errors is correctly specified.<br/>[2] The condition number is large, 1.25e+05. This might indicate that there are<br/>strong multicollinearity or other numerical problems."
            ],
            "text/plain": [
              "<class 'statsmodels.iolib.summary.Summary'>\n",
              "\"\"\"\n",
              "                            OLS Regression Results                            \n",
              "==============================================================================\n",
              "Dep. Variable:                      0   R-squared:                       0.992\n",
              "Model:                            OLS   Adj. R-squared:                  0.991\n",
              "Method:                 Least Squares   F-statistic:                     759.3\n",
              "Date:                Tue, 18 May 2021   Prob (F-statistic):          8.13e-211\n",
              "Time:                        05:16:11   Log-Likelihood:                -1373.6\n",
              "No. Observations:                 257   AIC:                             2821.\n",
              "Df Residuals:                     220   BIC:                             2952.\n",
              "Df Model:                          36                                         \n",
              "Covariance Type:            nonrobust                                         \n",
              "==============================================================================\n",
              "                 coef    std err          t      P>|t|      [0.025      0.975]\n",
              "------------------------------------------------------------------------------\n",
              "const         -1.0694     24.103     -0.044      0.965     -48.571      46.432\n",
              "0             -0.1195      0.065     -1.841      0.067      -0.247       0.008\n",
              "1              0.2006      0.089      2.255      0.025       0.025       0.376\n",
              "2             -0.0522      0.089     -0.585      0.559      -0.228       0.124\n",
              "3             -0.0297      0.089     -0.332      0.740      -0.206       0.147\n",
              "4             -0.0655      0.089     -0.734      0.463      -0.241       0.110\n",
              "5              0.0322      0.089      0.360      0.719      -0.144       0.208\n",
              "6              0.0372      0.089      0.416      0.678      -0.139       0.213\n",
              "7              0.0456      0.090      0.508      0.612      -0.131       0.222\n",
              "8             -0.0369      0.090     -0.412      0.680      -0.214       0.140\n",
              "9             -0.0445      0.090     -0.497      0.619      -0.221       0.132\n",
              "10             0.0559      0.090      0.623      0.534      -0.121       0.233\n",
              "11            -0.1260      0.089     -1.408      0.161      -0.302       0.050\n",
              "12             0.1549      0.089      1.743      0.083      -0.020       0.330\n",
              "13            -0.0657      0.090     -0.734      0.464      -0.242       0.111\n",
              "14             0.1868      0.089      2.092      0.038       0.011       0.363\n",
              "15            -0.2230      0.088     -2.530      0.012      -0.397      -0.049\n",
              "16             0.0309      0.088      0.350      0.726      -0.143       0.205\n",
              "17            -0.0323      0.088     -0.366      0.715      -0.206       0.141\n",
              "18             0.0047      0.088      0.054      0.957      -0.169       0.178\n",
              "19             0.0408      0.088      0.463      0.644      -0.133       0.214\n",
              "20            -0.0676      0.088     -0.769      0.443      -0.241       0.106\n",
              "21            -0.0368      0.089     -0.414      0.680      -0.212       0.138\n",
              "22             0.1438      0.089      1.614      0.108      -0.032       0.319\n",
              "23            -0.1349      0.089     -1.518      0.130      -0.310       0.040\n",
              "24             0.0178      0.090      0.197      0.844      -0.160       0.196\n",
              "25            -0.0172      0.091     -0.189      0.850      -0.196       0.162\n",
              "26             0.1066      0.091      1.168      0.244      -0.073       0.286\n",
              "27             0.0184      0.092      0.201      0.841      -0.162       0.199\n",
              "28            -0.0131      0.092     -0.142      0.887      -0.194       0.168\n",
              "29             0.0699      0.092      0.761      0.447      -0.111       0.251\n",
              "30             0.0813      0.092      0.888      0.376      -0.099       0.262\n",
              "31            -0.0368      0.092     -0.402      0.688      -0.217       0.144\n",
              "32             0.0253      0.092      0.276      0.783      -0.155       0.206\n",
              "33             0.0029      0.092      0.031      0.975      -0.178       0.184\n",
              "34            -0.1199      0.092     -1.300      0.195      -0.302       0.062\n",
              "35             0.9639      0.067     14.404      0.000       0.832       1.096\n",
              "==============================================================================\n",
              "Omnibus:                       87.960   Durbin-Watson:                   1.987\n",
              "Prob(Omnibus):                  0.000   Jarque-Bera (JB):              814.112\n",
              "Skew:                          -1.066   Prob(JB):                    1.65e-177\n",
              "Kurtosis:                      11.455   Cond. No.                     1.25e+05\n",
              "==============================================================================\n",
              "\n",
              "Warnings:\n",
              "[1] Standard Errors assume that the covariance matrix of the errors is correctly specified.\n",
              "[2] The condition number is large, 1.25e+05. This might indicate that there are\n",
              "strong multicollinearity or other numerical problems.\n",
              "\"\"\""
            ]
          },
          "metadata": {
            "tags": []
          },
          "execution_count": 31
        }
      ]
    }
  ]
}