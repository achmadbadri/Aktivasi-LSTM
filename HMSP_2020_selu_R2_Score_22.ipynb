{
  "nbformat": 4,
  "nbformat_minor": 0,
  "metadata": {
    "colab": {
      "name": "HMSP 2020- selu R2 Score 22",
      "provenance": [],
      "collapsed_sections": [],
      "include_colab_link": true
    },
    "kernelspec": {
      "display_name": "Python 3",
      "name": "python3"
    }
  },
  "cells": [
    {
      "cell_type": "markdown",
      "metadata": {
        "id": "view-in-github",
        "colab_type": "text"
      },
      "source": [
        "<a href=\"https://colab.research.google.com/github/achmadbadri/Aktivasi-LSTM/blob/main/HMSP_2020_selu_R2_Score_22.ipynb\" target=\"_parent\"><img src=\"https://colab.research.google.com/assets/colab-badge.svg\" alt=\"Open In Colab\"/></a>"
      ]
    },
    {
      "cell_type": "code",
      "metadata": {
        "id": "imVL_RBkSiEM"
      },
      "source": [
        "import keras\n",
        "from keras.layers import Dense\n",
        "from keras.layers import LSTM\n",
        "from keras.layers import Dropout\n",
        "import pandas as pd \n",
        "import pandas_datareader.data as web\n",
        "import datetime\n",
        "import numpy as np \n",
        "from matplotlib import style\n",
        "from google.colab import files\n",
        "# Visualize the training stock data:\n",
        "import matplotlib.pyplot as plt\n",
        "%matplotlib inline\n",
        "\n",
        "# ignore warnings \n",
        "import warnings\n",
        "warnings.filterwarnings('ignore')"
      ],
      "execution_count": 1,
      "outputs": []
    },
    {
      "cell_type": "code",
      "metadata": {
        "id": "7mgHVWneS0-0",
        "colab": {
          "base_uri": "https://localhost:8080/"
        },
        "outputId": "18e5852c-b8ac-4e30-cba8-a30bc53929c7"
      },
      "source": [
        "# Get the stock data using yahoo API:\n",
        "style.use('ggplot')\n",
        "\n",
        "# get 2014-2018 data to train our model\n",
        "start = datetime.datetime(2014,1,1)\n",
        "end = datetime.datetime(2019,12,31)\n",
        "df = web.DataReader(\"HMSP.JK\", 'yahoo', start, end) \n",
        "\n",
        "# get 2019 data to test our model on \n",
        "start = datetime.datetime(2019,11,7)\n",
        "end = datetime.datetime(2020,12,31)\n",
        "test_df = web.DataReader(\"HMSP.JK\", 'yahoo', start, end) \n",
        "print(df.shape)\n",
        "print(test_df.shape)"
      ],
      "execution_count": 2,
      "outputs": [
        {
          "output_type": "stream",
          "text": [
            "(1508, 6)\n",
            "(278, 6)\n"
          ],
          "name": "stdout"
        }
      ]
    },
    {
      "cell_type": "code",
      "metadata": {
        "id": "H598YUDjU7Sd",
        "colab": {
          "base_uri": "https://localhost:8080/"
        },
        "outputId": "9bd7a603-c9f5-4511-b713-1fd748520c90"
      },
      "source": [
        "# Create train set of adj close prices data:\n",
        "train_data = df.loc[:,'Adj Close'].to_numpy()\n",
        "print(train_data.shape) # 1258 \n",
        "\n",
        "\n",
        "# Apply normalization before feeding to LSTM using sklearn:\n",
        "from sklearn.preprocessing import MinMaxScaler\n",
        "\n",
        "scaler = MinMaxScaler()\n",
        "train_data = train_data.reshape(-1,1)\n",
        "\n",
        "scaler.fit(train_data)\n",
        "train_data = scaler.transform(train_data)"
      ],
      "execution_count": 3,
      "outputs": [
        {
          "output_type": "stream",
          "text": [
            "(1508,)\n"
          ],
          "name": "stdout"
        }
      ]
    },
    {
      "cell_type": "code",
      "metadata": {
        "id": "8ITZZaGnVFTQ",
        "colab": {
          "base_uri": "https://localhost:8080/"
        },
        "outputId": "1a642424-ce4a-43c0-8ac1-233bcfed3280"
      },
      "source": [
        "'''Function to create a dataset to feed into an LSTM'''\n",
        "def create_dataset(dataset, look_back):\n",
        "    dataX, dataY = [], []\n",
        "    for i in range(len(dataset)-look_back):\n",
        "        a = dataset[i:(i + look_back), 0]\n",
        "        dataX.append(a)\n",
        "        dataY.append(dataset[i + look_back, 0])\n",
        "    return np.array(dataX), np.array(dataY)\n",
        "    \n",
        "    \n",
        "# Create the data to train our model on:\n",
        "time_steps = 36\n",
        "X_train, y_train = create_dataset(train_data, time_steps)\n",
        "\n",
        "# reshape it [samples, time steps, features]\n",
        "X_train = np.reshape(X_train, (X_train.shape[0], 36, 1))\n",
        "\n",
        "print(X_train.shape)\n",
        "\n",
        "\n",
        "# Visualizing our data with prints: \n",
        "print('X_train:')\n",
        "print(str(scaler.inverse_transform(X_train[0])))\n",
        "print(\"\\n\")\n",
        "print('y_train: ' + str(scaler.inverse_transform(y_train[0].reshape(-1,1)))+'\\n')"
      ],
      "execution_count": 4,
      "outputs": [
        {
          "output_type": "stream",
          "text": [
            "(1472, 36, 1)\n",
            "X_train:\n",
            "[[1845.97399902]\n",
            " [1844.49633789]\n",
            " [1819.37072754]\n",
            " [1807.546875  ]\n",
            " [1795.72351074]\n",
            " [1789.81164551]\n",
            " [1803.11303711]\n",
            " [1817.89282227]\n",
            " [1891.7911377 ]\n",
            " [1891.7911377 ]\n",
            " [1891.7911377 ]\n",
            " [1890.31274414]\n",
            " [1902.13659668]\n",
            " [1906.57067871]\n",
            " [1920.61120605]\n",
            " [2002.63793945]\n",
            " [2001.16040039]\n",
            " [1952.38720703]\n",
            " [1949.43151855]\n",
            " [1981.9465332 ]\n",
            " [1965.68920898]\n",
            " [1977.51306152]\n",
            " [2011.5057373 ]\n",
            " [2061.75634766]\n",
            " [2098.70556641]\n",
            " [2098.70556641]\n",
            " [2098.70556641]\n",
            " [2045.49865723]\n",
            " [2061.75634766]\n",
            " [2046.97668457]\n",
            " [2046.97668457]\n",
            " [2039.58666992]\n",
            " [2036.63085938]\n",
            " [2036.63085938]\n",
            " [2030.71911621]\n",
            " [2030.71911621]]\n",
            "\n",
            "\n",
            "y_train: [[2024.80737305]]\n",
            "\n"
          ],
          "name": "stdout"
        }
      ]
    },
    {
      "cell_type": "code",
      "metadata": {
        "id": "pmuzZ5TqVR8O",
        "colab": {
          "base_uri": "https://localhost:8080/"
        },
        "outputId": "faab6533-a5d8-4604-dc73-04513e5aea4c"
      },
      "source": [
        "# Build the model \n",
        "model = keras.Sequential()\n",
        "\n",
        "model.add(LSTM(units = 128, return_sequences = True, input_shape = (X_train.shape[1], 1)))\n",
        "model.add(Dropout(0.2))\n",
        "\n",
        "model.add(LSTM(units = 64, return_sequences = False))\n",
        "model.add(Dropout(0.2))\n",
        "\n",
        "# Output layer\n",
        "model.add(Dense(units = 1, activation= 'selu'))\n",
        "# Compiling the model\n",
        "model.compile(optimizer = 'adam', loss = 'mean_squared_error')\n",
        "\n",
        "# Fitting the model to the Training set\n",
        "history = model.fit(X_train, y_train, epochs = 20, batch_size = 10, validation_split=.30)"
      ],
      "execution_count": 5,
      "outputs": [
        {
          "output_type": "stream",
          "text": [
            "Epoch 1/20\n",
            "103/103 [==============================] - 8s 51ms/step - loss: 0.0274 - val_loss: 0.0018\n",
            "Epoch 2/20\n",
            "103/103 [==============================] - 4s 41ms/step - loss: 0.0022 - val_loss: 0.0024\n",
            "Epoch 3/20\n",
            "103/103 [==============================] - 4s 41ms/step - loss: 0.0025 - val_loss: 0.0016\n",
            "Epoch 4/20\n",
            "103/103 [==============================] - 4s 41ms/step - loss: 0.0024 - val_loss: 0.0013\n",
            "Epoch 5/20\n",
            "103/103 [==============================] - 4s 42ms/step - loss: 0.0021 - val_loss: 0.0016\n",
            "Epoch 6/20\n",
            "103/103 [==============================] - 4s 41ms/step - loss: 0.0020 - val_loss: 0.0016\n",
            "Epoch 7/20\n",
            "103/103 [==============================] - 4s 42ms/step - loss: 0.0022 - val_loss: 0.0014\n",
            "Epoch 8/20\n",
            "103/103 [==============================] - 4s 42ms/step - loss: 0.0022 - val_loss: 0.0012\n",
            "Epoch 9/20\n",
            "103/103 [==============================] - 4s 41ms/step - loss: 0.0017 - val_loss: 0.0012\n",
            "Epoch 10/20\n",
            "103/103 [==============================] - 4s 41ms/step - loss: 0.0016 - val_loss: 0.0013\n",
            "Epoch 11/20\n",
            "103/103 [==============================] - 4s 41ms/step - loss: 0.0017 - val_loss: 0.0011\n",
            "Epoch 12/20\n",
            "103/103 [==============================] - 4s 41ms/step - loss: 0.0017 - val_loss: 0.0011\n",
            "Epoch 13/20\n",
            "103/103 [==============================] - 4s 41ms/step - loss: 0.0017 - val_loss: 0.0011\n",
            "Epoch 14/20\n",
            "103/103 [==============================] - 4s 41ms/step - loss: 0.0016 - val_loss: 0.0011\n",
            "Epoch 15/20\n",
            "103/103 [==============================] - 4s 41ms/step - loss: 0.0016 - val_loss: 0.0013\n",
            "Epoch 16/20\n",
            "103/103 [==============================] - 4s 42ms/step - loss: 0.0016 - val_loss: 0.0029\n",
            "Epoch 17/20\n",
            "103/103 [==============================] - 4s 41ms/step - loss: 0.0017 - val_loss: 0.0010\n",
            "Epoch 18/20\n",
            "103/103 [==============================] - 4s 41ms/step - loss: 0.0014 - val_loss: 0.0011\n",
            "Epoch 19/20\n",
            "103/103 [==============================] - 4s 41ms/step - loss: 0.0012 - val_loss: 9.6180e-04\n",
            "Epoch 20/20\n",
            "103/103 [==============================] - 4s 42ms/step - loss: 0.0013 - val_loss: 9.3924e-04\n"
          ],
          "name": "stdout"
        }
      ]
    },
    {
      "cell_type": "code",
      "metadata": {
        "id": "VJAAJ_3JRVIu",
        "colab": {
          "base_uri": "https://localhost:8080/"
        },
        "outputId": "fb36e4eb-3ee9-4753-eeff-ba4c003550c1"
      },
      "source": [
        "model.summary()"
      ],
      "execution_count": 6,
      "outputs": [
        {
          "output_type": "stream",
          "text": [
            "Model: \"sequential\"\n",
            "_________________________________________________________________\n",
            "Layer (type)                 Output Shape              Param #   \n",
            "=================================================================\n",
            "lstm (LSTM)                  (None, 36, 128)           66560     \n",
            "_________________________________________________________________\n",
            "dropout (Dropout)            (None, 36, 128)           0         \n",
            "_________________________________________________________________\n",
            "lstm_1 (LSTM)                (None, 64)                49408     \n",
            "_________________________________________________________________\n",
            "dropout_1 (Dropout)          (None, 64)                0         \n",
            "_________________________________________________________________\n",
            "dense (Dense)                (None, 1)                 65        \n",
            "=================================================================\n",
            "Total params: 116,033\n",
            "Trainable params: 116,033\n",
            "Non-trainable params: 0\n",
            "_________________________________________________________________\n"
          ],
          "name": "stdout"
        }
      ]
    },
    {
      "cell_type": "code",
      "metadata": {
        "id": "gSKBnwssVVJf",
        "colab": {
          "base_uri": "https://localhost:8080/",
          "height": 298
        },
        "outputId": "db4eb769-a338-4425-a96b-18b9c19e6341"
      },
      "source": [
        "# Plot training & validation loss values\n",
        "plt.plot(history.history['loss'])\n",
        "plt.plot(history.history['val_loss'])\n",
        "plt.title('Model loss')\n",
        "plt.ylabel('Loss')\n",
        "plt.xlabel('Epoch')\n",
        "plt.legend(['Train', 'Test'], loc='upper left')\n",
        "plt.show()"
      ],
      "execution_count": 7,
      "outputs": [
        {
          "output_type": "display_data",
          "data": {
            "image/png": "[encoded data removed]",
            "text/plain": [
              "<Figure size 432x288 with 1 Axes>"
            ]
          },
          "metadata": {
            "tags": []
          }
        }
      ]
    },
    {
      "cell_type": "code",
      "metadata": {
        "id": "bawmbe-aVYTG"
      },
      "source": [
        "# Get the stock prices for 2019 to have our model make the predictions\n",
        "test_data = test_df['Adj Close'].values\n",
        "test_data = test_data.reshape(-1,1)\n",
        "test_data = scaler.transform(test_data)\n",
        "\n",
        "# Create the data to test our model on:\n",
        "time_steps = 36\n",
        "X_test, y_test = create_dataset(test_data, time_steps)\n",
        "\n",
        "# store the original vals for plotting the predictions \n",
        "y_test = y_test.reshape(-1,1)\n",
        "true = y_test\n",
        "org_y = scaler.inverse_transform(y_test)\n",
        "\n",
        "# reshape it [samples, time steps, features]\n",
        "X_test = np.reshape(X_test, (X_test.shape[0], 36, 1))\n",
        "\n",
        "# Predict the prices with the model\n",
        "predicted_y = model.predict(X_test)\n",
        "pred = predicted_y\n",
        "predicted_y = scaler.inverse_transform(predicted_y)\n"
      ],
      "execution_count": 8,
      "outputs": []
    },
    {
      "cell_type": "code",
      "metadata": {
        "id": "TCYMPV6E6iAl",
        "colab": {
          "base_uri": "https://localhost:8080/"
        },
        "outputId": "aa70ba59-7929-4a6d-9947-79ba04764fab"
      },
      "source": [
        "# MSE\n",
        "difference_array = np.subtract(true, pred)\n",
        "squared_array = np.square(difference_array)\n",
        "mse = squared_array.mean()\n",
        "print(\"MSE :\", mse)\n",
        "\n",
        "# The RMSE\n",
        "from sklearn.metrics import mean_squared_error, mean_absolute_error\n",
        "print(\"RMSE : %.2f\" % mean_squared_error(true, pred, squared=False))\n",
        "\n",
        "# The MAE\n",
        "print(\"MAE : %.2f\" % mean_absolute_error(true, pred))\n",
        "\n",
        "#Mean Absolute Percentange Error\n",
        "MAPE = np.mean(np.abs((true - pred) / true)) * 100\n",
        "print('MAPE : ', MAPE)\n",
        "\n",
        "# Explained variance score: 1 is perfect prediction\n",
        "from sklearn.metrics import r2_score\n",
        "print('R2 score: %.2f' % r2_score(true, pred))"
      ],
      "execution_count": 9,
      "outputs": [
        {
          "output_type": "stream",
          "text": [
            "MSE : 0.0033925965406427882\n",
            "RMSE : 0.06\n",
            "MAE : 0.05\n",
            "MAPE :  111.4853968556333\n",
            "R2 score: 0.22\n"
          ],
          "name": "stdout"
        }
      ]
    },
    {
      "cell_type": "markdown",
      "metadata": {
        "id": "m0RAfWtxDfnB"
      },
      "source": [
        "We choose the mean square error MSE of all samples as our metric. It can be calculated through Eqn. (47) using test set. Notice that the MSE we calculated are derived from normalized data. That's because there exists huge value gap among di\u000berent stocks. if we use original stock price to evaluate error, the error of high price stocks would probably be much more larger than low price ones, which implies models perform better on high price stocks would very likely to have better overall performance. Thus the performance on low price stocks would become dispensable. To avoid the bias caused by the aforementioned problem we evaluate the error with normalized stock price ranged from -1 to 1. (Li, H., Shen, Y., dan Zhu, Y. 2018. Stock Price Prediction Using attention-based Multi-Input LSTM)"
      ]
    },
    {
      "cell_type": "code",
      "metadata": {
        "id": "Y47_DyXm9Ysk",
        "colab": {
          "base_uri": "https://localhost:8080/",
          "height": 287
        },
        "outputId": "31173e4d-f518-4703-b03a-63bff9d95e75"
      },
      "source": [
        "predicted_y = pd.DataFrame(predicted_y)\n",
        "org_y = pd.DataFrame(org_y)\n",
        "describe = pd.DataFrame()\n",
        "describe['True Price'] = org_y[0]\n",
        "describe['Prediction'] = predicted_y[0]\n",
        "describe['difference'] = org_y[0] - predicted_y[0]\n",
        "describe['MAPE (%)'] = abs(describe['difference']/org_y[0]*100)\n",
        "describe.describe()"
      ],
      "execution_count": 10,
      "outputs": [
        {
          "output_type": "execute_result",
          "data": {
            "text/html": [
              "<div>\n",
              "<style scoped>\n",
              "    .dataframe tbody tr th:only-of-type {\n",
              "        vertical-align: middle;\n",
              "    }\n",
              "\n",
              "    .dataframe tbody tr th {\n",
              "        vertical-align: top;\n",
              "    }\n",
              "\n",
              "    .dataframe thead th {\n",
              "        text-align: right;\n",
              "    }\n",
              "</style>\n",
              "<table border=\"1\" class=\"dataframe\">\n",
              "  <thead>\n",
              "    <tr style=\"text-align: right;\">\n",
              "      <th></th>\n",
              "      <th>True Price</th>\n",
              "      <th>Prediction</th>\n",
              "      <th>difference</th>\n",
              "      <th>MAPE (%)</th>\n",
              "    </tr>\n",
              "  </thead>\n",
              "  <tbody>\n",
              "    <tr>\n",
              "      <th>count</th>\n",
              "      <td>242.000000</td>\n",
              "      <td>242.000000</td>\n",
              "      <td>242.000000</td>\n",
              "      <td>242.000000</td>\n",
              "    </tr>\n",
              "    <tr>\n",
              "      <th>mean</th>\n",
              "      <td>1641.180106</td>\n",
              "      <td>1521.365112</td>\n",
              "      <td>119.815159</td>\n",
              "      <td>8.949402</td>\n",
              "    </tr>\n",
              "    <tr>\n",
              "      <th>std</th>\n",
              "      <td>201.170262</td>\n",
              "      <td>292.889313</td>\n",
              "      <td>130.959854</td>\n",
              "      <td>7.820751</td>\n",
              "    </tr>\n",
              "    <tr>\n",
              "      <th>min</th>\n",
              "      <td>1083.675781</td>\n",
              "      <td>815.373962</td>\n",
              "      <td>-123.412476</td>\n",
              "      <td>0.031626</td>\n",
              "    </tr>\n",
              "    <tr>\n",
              "      <th>25%</th>\n",
              "      <td>1505.000000</td>\n",
              "      <td>1297.354919</td>\n",
              "      <td>23.898651</td>\n",
              "      <td>2.611332</td>\n",
              "    </tr>\n",
              "    <tr>\n",
              "      <th>50%</th>\n",
              "      <td>1635.000000</td>\n",
              "      <td>1531.703308</td>\n",
              "      <td>105.426270</td>\n",
              "      <td>6.888053</td>\n",
              "    </tr>\n",
              "    <tr>\n",
              "      <th>75%</th>\n",
              "      <td>1749.957855</td>\n",
              "      <td>1695.173096</td>\n",
              "      <td>212.038116</td>\n",
              "      <td>14.107733</td>\n",
              "    </tr>\n",
              "    <tr>\n",
              "      <th>max</th>\n",
              "      <td>2176.734131</td>\n",
              "      <td>2153.597656</td>\n",
              "      <td>572.687500</td>\n",
              "      <td>38.583790</td>\n",
              "    </tr>\n",
              "  </tbody>\n",
              "</table>\n",
              "</div>"
            ],
            "text/plain": [
              "        True Price   Prediction  difference    MAPE (%)\n",
              "count   242.000000   242.000000  242.000000  242.000000\n",
              "mean   1641.180106  1521.365112  119.815159    8.949402\n",
              "std     201.170262   292.889313  130.959854    7.820751\n",
              "min    1083.675781   815.373962 -123.412476    0.031626\n",
              "25%    1505.000000  1297.354919   23.898651    2.611332\n",
              "50%    1635.000000  1531.703308  105.426270    6.888053\n",
              "75%    1749.957855  1695.173096  212.038116   14.107733\n",
              "max    2176.734131  2153.597656  572.687500   38.583790"
            ]
          },
          "metadata": {
            "tags": []
          },
          "execution_count": 10
        }
      ]
    },
    {
      "cell_type": "code",
      "metadata": {
        "id": "UoSeLi8altE4",
        "colab": {
          "base_uri": "https://localhost:8080/",
          "height": 347
        },
        "outputId": "04f76d0f-554e-48bb-a468-9b7c10d1e3e3"
      },
      "source": [
        "describe.head(10)"
      ],
      "execution_count": 11,
      "outputs": [
        {
          "output_type": "execute_result",
          "data": {
            "text/html": [
              "<div>\n",
              "<style scoped>\n",
              "    .dataframe tbody tr th:only-of-type {\n",
              "        vertical-align: middle;\n",
              "    }\n",
              "\n",
              "    .dataframe tbody tr th {\n",
              "        vertical-align: top;\n",
              "    }\n",
              "\n",
              "    .dataframe thead th {\n",
              "        text-align: right;\n",
              "    }\n",
              "</style>\n",
              "<table border=\"1\" class=\"dataframe\">\n",
              "  <thead>\n",
              "    <tr style=\"text-align: right;\">\n",
              "      <th></th>\n",
              "      <th>True Price</th>\n",
              "      <th>Prediction</th>\n",
              "      <th>difference</th>\n",
              "      <th>MAPE (%)</th>\n",
              "    </tr>\n",
              "  </thead>\n",
              "  <tbody>\n",
              "    <tr>\n",
              "      <th>0</th>\n",
              "      <td>1960.937134</td>\n",
              "      <td>1986.422729</td>\n",
              "      <td>-25.485596</td>\n",
              "      <td>1.299664</td>\n",
              "    </tr>\n",
              "    <tr>\n",
              "      <th>1</th>\n",
              "      <td>2007.849487</td>\n",
              "      <td>1982.856689</td>\n",
              "      <td>24.992798</td>\n",
              "      <td>1.244755</td>\n",
              "    </tr>\n",
              "    <tr>\n",
              "      <th>2</th>\n",
              "      <td>2017.232056</td>\n",
              "      <td>1984.441162</td>\n",
              "      <td>32.790894</td>\n",
              "      <td>1.625539</td>\n",
              "    </tr>\n",
              "    <tr>\n",
              "      <th>3</th>\n",
              "      <td>2111.056641</td>\n",
              "      <td>1990.172852</td>\n",
              "      <td>120.883789</td>\n",
              "      <td>5.726222</td>\n",
              "    </tr>\n",
              "    <tr>\n",
              "      <th>4</th>\n",
              "      <td>2129.821777</td>\n",
              "      <td>2012.387085</td>\n",
              "      <td>117.434692</td>\n",
              "      <td>5.513827</td>\n",
              "    </tr>\n",
              "    <tr>\n",
              "      <th>5</th>\n",
              "      <td>2139.204102</td>\n",
              "      <td>2042.990479</td>\n",
              "      <td>96.213623</td>\n",
              "      <td>4.497636</td>\n",
              "    </tr>\n",
              "    <tr>\n",
              "      <th>6</th>\n",
              "      <td>2129.821777</td>\n",
              "      <td>2074.528809</td>\n",
              "      <td>55.292969</td>\n",
              "      <td>2.596131</td>\n",
              "    </tr>\n",
              "    <tr>\n",
              "      <th>7</th>\n",
              "      <td>2176.734131</td>\n",
              "      <td>2099.838379</td>\n",
              "      <td>76.895752</td>\n",
              "      <td>3.532620</td>\n",
              "    </tr>\n",
              "    <tr>\n",
              "      <th>8</th>\n",
              "      <td>2167.351562</td>\n",
              "      <td>2125.450195</td>\n",
              "      <td>41.901367</td>\n",
              "      <td>1.933298</td>\n",
              "    </tr>\n",
              "    <tr>\n",
              "      <th>9</th>\n",
              "      <td>2129.821777</td>\n",
              "      <td>2145.639648</td>\n",
              "      <td>-15.817871</td>\n",
              "      <td>0.742685</td>\n",
              "    </tr>\n",
              "  </tbody>\n",
              "</table>\n",
              "</div>"
            ],
            "text/plain": [
              "    True Price   Prediction  difference  MAPE (%)\n",
              "0  1960.937134  1986.422729  -25.485596  1.299664\n",
              "1  2007.849487  1982.856689   24.992798  1.244755\n",
              "2  2017.232056  1984.441162   32.790894  1.625539\n",
              "3  2111.056641  1990.172852  120.883789  5.726222\n",
              "4  2129.821777  2012.387085  117.434692  5.513827\n",
              "5  2139.204102  2042.990479   96.213623  4.497636\n",
              "6  2129.821777  2074.528809   55.292969  2.596131\n",
              "7  2176.734131  2099.838379   76.895752  3.532620\n",
              "8  2167.351562  2125.450195   41.901367  1.933298\n",
              "9  2129.821777  2145.639648  -15.817871  0.742685"
            ]
          },
          "metadata": {
            "tags": []
          },
          "execution_count": 11
        }
      ]
    },
    {
      "cell_type": "code",
      "metadata": {
        "id": "xriB7R_tWpAM",
        "colab": {
          "base_uri": "https://localhost:8080/"
        },
        "outputId": "0c3583b2-61cd-44ca-f1b3-a20575f5e182"
      },
      "source": [
        "a = np.array(describe['True Price'])\n",
        "b = np.array(describe['Prediction'])\n",
        "\n",
        "# MSE\n",
        "difference_array = np.subtract(a, b)\n",
        "squared_array = np.square(difference_array)\n",
        "mse = squared_array.mean()\n",
        "print(\"MSE :\", mse)\n",
        "\n",
        "# The RMSE\n",
        "print(\"RMSE: %.2f\" % mean_squared_error(a, b, squared=False))\n",
        "\n",
        "# The MAE\n",
        "print(\"MAE: %.2f\" % mean_absolute_error(a, b))\n",
        "\n",
        "#Mean Absolute Percentange Error\n",
        "c = (np.mean(np.abs((a - b) / a))) * 100\n",
        "print('MAPE : ', c)\n",
        "\n",
        "# Explained variance score: 1 is perfect prediction\n",
        "from sklearn.metrics import r2_score\n",
        "print('R2 score: %.2f' % r2_score(a, b))\n",
        "\n"
      ],
      "execution_count": 12,
      "outputs": [
        {
          "output_type": "stream",
          "text": [
            "MSE : 31435.28579174213\n",
            "RMSE: 177.30\n",
            "MAE: 138.14\n",
            "MAPE :  8.949402468687211\n",
            "R2 score: 0.22\n"
          ],
          "name": "stdout"
        }
      ]
    },
    {
      "cell_type": "code",
      "metadata": {
        "id": "iozJ262YxuM8",
        "colab": {
          "base_uri": "https://localhost:8080/"
        },
        "outputId": "12b70a72-57aa-40ea-9128-1053e01f3375"
      },
      "source": [
        "print(model.evaluate(X_train, y_train))\n",
        "print(model.evaluate(X_test, y_test))"
      ],
      "execution_count": 13,
      "outputs": [
        {
          "output_type": "stream",
          "text": [
            "46/46 [==============================] - 2s 19ms/step - loss: 7.0661e-04\n",
            "0.0007066088728606701\n",
            "8/8 [==============================] - 1s 20ms/step - loss: 0.0034\n",
            "0.0033925967290997505\n"
          ],
          "name": "stdout"
        }
      ]
    },
    {
      "cell_type": "code",
      "metadata": {
        "id": "JRT-OjnyZ0PP",
        "colab": {
          "base_uri": "https://localhost:8080/"
        },
        "outputId": "264ed846-945c-466a-e162-3134a9010c19"
      },
      "source": [
        "print(model.metrics_names)"
      ],
      "execution_count": 14,
      "outputs": [
        {
          "output_type": "stream",
          "text": [
            "['loss']\n"
          ],
          "name": "stdout"
        }
      ]
    },
    {
      "cell_type": "code",
      "metadata": {
        "id": "qNCPEkeaXNIT"
      },
      "source": [
        "graph  = test_df.drop(test_df.index[0:36])\n",
        "graph.reset_index(inplace=True)\n",
        "graph.rename(columns = {'index':'Date'})\n",
        "graph = graph.drop(columns=['High','Low','Open','Volume','Close'])\n",
        "graph['Predict_Value'] = predicted_y[0]\n",
        "graph.head()\n",
        "graph.set_index('Date', inplace=True)"
      ],
      "execution_count": 15,
      "outputs": []
    },
    {
      "cell_type": "code",
      "metadata": {
        "id": "QF5LdxyJb0bT",
        "colab": {
          "base_uri": "https://localhost:8080/",
          "height": 298
        },
        "outputId": "3ba23097-4285-48fc-e8b7-e9b725ff1a6b"
      },
      "source": [
        "# plot the results \n",
        "plt.plot(graph['Adj Close'], color = 'red', label = 'Real Stock Price')\n",
        "plt.plot(graph['Predict_Value'], color = 'blue', label = 'Predicted Stock Price')\n",
        "#plt.plot(df['Adj Close'], color = 'black', label = 'Past Stock')\n",
        "plt.title('Stock Price Prediction')\n",
        "plt.xlabel('Time')\n",
        "plt.ylabel('Stock Price')\n",
        "plt.legend()\n",
        "plt.savefig('Stock Price SVR LSTM 1.png')\n",
        "files.download(\"Stock Price SVR LSTM 1.png\")\n",
        "plt.show()"
      ],
      "execution_count": 16,
      "outputs": [
        {
          "output_type": "display_data",
          "data": {
            "application/javascript": [
              "\n",
              "    async function download(id, filename, size) {\n",
              "      if (!google.colab.kernel.accessAllowed) {\n",
              "        return;\n",
              "      }\n",
              "      const div = document.createElement('div');\n",
              "      const label = document.createElement('label');\n",
              "      label.textContent = `Downloading \"${filename}\": `;\n",
              "      div.appendChild(label);\n",
              "      const progress = document.createElement('progress');\n",
              "      progress.max = size;\n",
              "      div.appendChild(progress);\n",
              "      document.body.appendChild(div);\n",
              "\n",
              "      const buffers = [];\n",
              "      let downloaded = 0;\n",
              "\n",
              "      const channel = await google.colab.kernel.comms.open(id);\n",
              "      // Send a message to notify the kernel that we're ready.\n",
              "      channel.send({})\n",
              "\n",
              "      for await (const message of channel.messages) {\n",
              "        // Send a message to notify the kernel that we're ready.\n",
              "        channel.send({})\n",
              "        if (message.buffers) {\n",
              "          for (const buffer of message.buffers) {\n",
              "            buffers.push(buffer);\n",
              "            downloaded += buffer.byteLength;\n",
              "            progress.value = downloaded;\n",
              "          }\n",
              "        }\n",
              "      }\n",
              "      const blob = new Blob(buffers, {type: 'application/binary'});\n",
              "      const a = document.createElement('a');\n",
              "      a.href = window.URL.createObjectURL(blob);\n",
              "      a.download = filename;\n",
              "      div.appendChild(a);\n",
              "      a.click();\n",
              "      div.remove();\n",
              "    }\n",
              "  "
            ],
            "text/plain": [
              "<IPython.core.display.Javascript object>"
            ]
          },
          "metadata": {
            "tags": []
          }
        },
        {
          "output_type": "display_data",
          "data": {
            "application/javascript": [
              "download(\"download_af1bcd07-01f4-4a87-a6a7-51c83dd905a9\", \"Stock Price SVR LSTM 1.png\", 33855)"
            ],
            "text/plain": [
              "<IPython.core.display.Javascript object>"
            ]
          },
          "metadata": {
            "tags": []
          }
        },
        {
          "output_type": "display_data",
          "data": {
            "image/png": "[encoded data removed]",
            "text/plain": [
              "<Figure size 432x288 with 1 Axes>"
            ]
          },
          "metadata": {
            "tags": []
          }
        }
      ]
    },
    {
      "cell_type": "code",
      "metadata": {
        "id": "RRepTsPgEuXx"
      },
      "source": [
        "final  = test_df.drop(test_df.index[0:36])\n",
        "final.reset_index(inplace=True)\n",
        "final.rename(columns = {'index':'Date'})\n",
        "final = final.drop(columns=['High','Low','Open','Volume','Close'])\n",
        "final['Predict_Value'] = predicted_y[0]\n",
        "final['Selisih'] = final['Adj Close'] - final['Predict_Value']\n",
        "final['Lost/Risk (%)'] = abs((final['Adj Close'] - final['Predict_Value'])/final['Predict_Value']*100)\n",
        "final = final.drop(columns=['Adj Close'])"
      ],
      "execution_count": 17,
      "outputs": []
    },
    {
      "cell_type": "code",
      "metadata": {
        "id": "DhwcCvlTySN1"
      },
      "source": [
        "percent = test_df.drop(test_df.index[0:35])\n",
        "percent = percent.drop(test_df.index[-1])\n",
        "percent.reset_index(inplace=True)\n",
        "percent.rename(columns = {'index':'Date'}) \n",
        "percent = percent.drop(columns=['High','Low','Open','Volume','Close'])\n",
        "percent['Next Day'] = predicted_y\n",
        "percent['Plus or Minus']= percent['Adj Close'] - percent['Next Day']\n",
        "percent['Next Day (%)']= (((percent['Adj Close'] - percent['Next Day'])/percent['Adj Close'])*100)"
      ],
      "execution_count": 18,
      "outputs": []
    },
    {
      "cell_type": "code",
      "metadata": {
        "id": "sllI6VucG__o"
      },
      "source": [
        "True_Next_Day = test_df.drop(test_df.index[0:35])\n",
        "True_Next_Day = True_Next_Day.drop(test_df.index[-1])\n",
        "True_Next_Day.reset_index(inplace=True)\n",
        "True_Next_Day.rename(columns = {'index':'Date'}) \n",
        "True_Next_Day = True_Next_Day.drop(columns=['High','Low','Open','Volume','Close'])\n",
        "True_Next_Day['True Next Day'] = org_y\n",
        "True_Next_Day['True Plus or Minus']= (True_Next_Day['Adj Close'] - True_Next_Day['True Next Day'])\n",
        "True_Next_Day['True Next Day (%)']= (((True_Next_Day['Adj Close'] - True_Next_Day['True Next Day'])/True_Next_Day['Adj Close'])*100)\n",
        "True_Next_Day = True_Next_Day.drop(columns=['Adj Close'])"
      ],
      "execution_count": 19,
      "outputs": []
    },
    {
      "cell_type": "code",
      "metadata": {
        "id": "121c4YuD-aJq",
        "colab": {
          "base_uri": "https://localhost:8080/"
        },
        "outputId": "3dd023f1-bfea-44bd-b78b-7a11e0f351e6"
      },
      "source": [
        "Concating = percent.merge(final, how='outer', on='Date')\n",
        "Concating = Concating.merge(True_Next_Day, how='outer', on='Date')\n",
        "#Concating.set_index('Date', inplace=True)\n",
        "Final_Predict = Concating.copy()\n",
        "Final_Predict['Harga Saham Hari ini'] = Concating['Adj Close']\n",
        "Final_Predict['Prediksi Besok'] = Concating['Plus or Minus']\n",
        "Final_Predict['Harga Besok Sebenarnya'] = Concating['True Plus or Minus']\n",
        "Final_Predict['Prediksi Besok (%)'] = (Concating['Next Day (%)'])\n",
        "Final_Predict['Harga Besok Sebenarnya (%)'] = Concating['True Next Day (%)']\n",
        "Final_Predict['Selisih Prediksi'] = (Final_Predict['Harga Besok Sebenarnya'] - Final_Predict['Prediksi Besok'])\n",
        "Final_Predict['Harga Sebenarnya'] = Concating['True Next Day']\n",
        "Final_Predict['Risk/MAPE(%)'] = (np.abs((Final_Predict['Harga Besok Sebenarnya'] - Final_Predict['Prediksi Besok']) / Final_Predict['True Next Day'])) * 100\n",
        "Final_Predict['Risk/MAPE(%)'] = round(Final_Predict['Risk/MAPE(%)'], 2)\n",
        "Final_Predict = Final_Predict.drop(columns=['Adj Close', 'Next Day', 'Plus or Minus', 'Next Day (%)',\n",
        "                                            'Predict_Value', 'Selisih', 'Lost/Risk (%)', 'True Plus or Minus',\n",
        "                                            'True Next Day (%)','True Next Day'])\n",
        "Final_Predict = Final_Predict.replace(0, np.nan)\n",
        "Final_Predict = Final_Predict.dropna()\n",
        "Final_Predict['Prediksi Uptrend'] = Final_Predict['Prediksi Besok'].apply(lambda x: 1 if x >= 0 else 0)\n",
        "Final_Predict['Asli Uptrend'] = Final_Predict['Harga Besok Sebenarnya'].apply(lambda x: 1 if x >= 0 else 0)\n",
        "Final_Predict.set_index('Date', inplace=True)\n",
        "Final_Predict.shape"
      ],
      "execution_count": 20,
      "outputs": [
        {
          "output_type": "execute_result",
          "data": {
            "text/plain": [
              "(226, 10)"
            ]
          },
          "metadata": {
            "tags": []
          },
          "execution_count": 20
        }
      ]
    },
    {
      "cell_type": "markdown",
      "metadata": {
        "id": "-B7BojpJDQgu"
      },
      "source": [
        "Risk Ekspektasi - Blindly belief\n",
        "\n",
        "Logika ekpektasi - Saham A saya beli kemarin Rp. 1000, dan prediksi ML LSTM menginfokan hari ini naik 200 menjadi 1200 sehingga saya tergetkan jual 1200. ketika saya jual 1200, ternyata harga penutupannya 1500, naik 500. berarti selisihnya dari prediksi dan harga asli adalah Rp 300 (Rp. 500 - Rp. 200), menandakan risiko ekpektasinya adalah 20% (Rp 300/1500) dari harga saham, sedangkan risiko ekpektasi kenaikan dan penurunannya adalah 60% dari ekpektasi kehilangan peluang (Ekpektasi peluang = (500-200)/500*100)\n",
        "\n",
        "Risiko Ekpektasi lainnya - \n",
        "Saham A saya beli kemarin Rp. 1000 dengan prediksi ML LSTM hari ini 1200, naik 200 sehingga saya tergetkan jual Rp. 1200. ketika saya melihat saham menyentuh 800, saya pikir itu adalah kesempatan beli karena perkiraan penutupan ML LSTM adalah 1200, dengan harapan mendapat keutungan ketika penutupan. Namun, prediksinya salah, dan ternyata penutupannya adalah 800 dan saham saya tidak laku, dan terjadi penurunan 200 dari hari kemarin. Disini saya kehilangan kesempatan cut loss dan justru menumpuk saham ketika seharusnya cutloss. Jika dikalkulasikan -400 dari harapan awal 1200 menjadi 800 (-200-200), menandakan risk ekpektasi dari harga sahamnya 50% (-400/800*100), atau perbedaan ekpektasinya 200% dari peluang cutloss. Risiko dari ketamakan."
      ]
    },
    {
      "cell_type": "code",
      "metadata": {
        "id": "ookffGOJ-lmk",
        "colab": {
          "base_uri": "https://localhost:8080/",
          "height": 561
        },
        "outputId": "d752d243-4a31-485e-c344-8b2d55db71a8"
      },
      "source": [
        "Final_Predict.head(10)"
      ],
      "execution_count": 21,
      "outputs": [
        {
          "output_type": "execute_result",
          "data": {
            "text/html": [
              "<div>\n",
              "<style scoped>\n",
              "    .dataframe tbody tr th:only-of-type {\n",
              "        vertical-align: middle;\n",
              "    }\n",
              "\n",
              "    .dataframe tbody tr th {\n",
              "        vertical-align: top;\n",
              "    }\n",
              "\n",
              "    .dataframe thead th {\n",
              "        text-align: right;\n",
              "    }\n",
              "</style>\n",
              "<table border=\"1\" class=\"dataframe\">\n",
              "  <thead>\n",
              "    <tr style=\"text-align: right;\">\n",
              "      <th></th>\n",
              "      <th>Harga Saham Hari ini</th>\n",
              "      <th>Prediksi Besok</th>\n",
              "      <th>Harga Besok Sebenarnya</th>\n",
              "      <th>Prediksi Besok (%)</th>\n",
              "      <th>Harga Besok Sebenarnya (%)</th>\n",
              "      <th>Selisih Prediksi</th>\n",
              "      <th>Harga Sebenarnya</th>\n",
              "      <th>Risk/MAPE(%)</th>\n",
              "      <th>Prediksi Uptrend</th>\n",
              "      <th>Asli Uptrend</th>\n",
              "    </tr>\n",
              "    <tr>\n",
              "      <th>Date</th>\n",
              "      <th></th>\n",
              "      <th></th>\n",
              "      <th></th>\n",
              "      <th></th>\n",
              "      <th></th>\n",
              "      <th></th>\n",
              "      <th></th>\n",
              "      <th></th>\n",
              "      <th></th>\n",
              "      <th></th>\n",
              "    </tr>\n",
              "  </thead>\n",
              "  <tbody>\n",
              "    <tr>\n",
              "      <th>2019-12-30</th>\n",
              "      <td>1970.319580</td>\n",
              "      <td>-16.103149</td>\n",
              "      <td>9.382446</td>\n",
              "      <td>-0.817286</td>\n",
              "      <td>0.476189</td>\n",
              "      <td>25.485596</td>\n",
              "      <td>1960.937134</td>\n",
              "      <td>1.30</td>\n",
              "      <td>0</td>\n",
              "      <td>1</td>\n",
              "    </tr>\n",
              "    <tr>\n",
              "      <th>2020-01-02</th>\n",
              "      <td>1960.937134</td>\n",
              "      <td>-21.919556</td>\n",
              "      <td>-46.912354</td>\n",
              "      <td>-1.117810</td>\n",
              "      <td>-2.392344</td>\n",
              "      <td>-24.992798</td>\n",
              "      <td>2007.849487</td>\n",
              "      <td>1.24</td>\n",
              "      <td>0</td>\n",
              "      <td>0</td>\n",
              "    </tr>\n",
              "    <tr>\n",
              "      <th>2020-01-03</th>\n",
              "      <td>2007.849487</td>\n",
              "      <td>23.408325</td>\n",
              "      <td>-9.382568</td>\n",
              "      <td>1.165841</td>\n",
              "      <td>-0.467294</td>\n",
              "      <td>-32.790894</td>\n",
              "      <td>2017.232056</td>\n",
              "      <td>1.63</td>\n",
              "      <td>1</td>\n",
              "      <td>0</td>\n",
              "    </tr>\n",
              "    <tr>\n",
              "      <th>2020-01-06</th>\n",
              "      <td>2017.232056</td>\n",
              "      <td>27.059204</td>\n",
              "      <td>-93.824585</td>\n",
              "      <td>1.341403</td>\n",
              "      <td>-4.651155</td>\n",
              "      <td>-120.883789</td>\n",
              "      <td>2111.056641</td>\n",
              "      <td>5.73</td>\n",
              "      <td>1</td>\n",
              "      <td>0</td>\n",
              "    </tr>\n",
              "    <tr>\n",
              "      <th>2020-01-07</th>\n",
              "      <td>2111.056641</td>\n",
              "      <td>98.669556</td>\n",
              "      <td>-18.765137</td>\n",
              "      <td>4.673942</td>\n",
              "      <td>-0.888898</td>\n",
              "      <td>-117.434692</td>\n",
              "      <td>2129.821777</td>\n",
              "      <td>5.51</td>\n",
              "      <td>1</td>\n",
              "      <td>0</td>\n",
              "    </tr>\n",
              "    <tr>\n",
              "      <th>2020-01-08</th>\n",
              "      <td>2129.821777</td>\n",
              "      <td>86.831299</td>\n",
              "      <td>-9.382324</td>\n",
              "      <td>4.076928</td>\n",
              "      <td>-0.440522</td>\n",
              "      <td>-96.213623</td>\n",
              "      <td>2139.204102</td>\n",
              "      <td>4.50</td>\n",
              "      <td>1</td>\n",
              "      <td>0</td>\n",
              "    </tr>\n",
              "    <tr>\n",
              "      <th>2020-01-09</th>\n",
              "      <td>2139.204102</td>\n",
              "      <td>64.675293</td>\n",
              "      <td>9.382324</td>\n",
              "      <td>3.023334</td>\n",
              "      <td>0.438589</td>\n",
              "      <td>-55.292969</td>\n",
              "      <td>2129.821777</td>\n",
              "      <td>2.60</td>\n",
              "      <td>1</td>\n",
              "      <td>1</td>\n",
              "    </tr>\n",
              "    <tr>\n",
              "      <th>2020-01-10</th>\n",
              "      <td>2129.821777</td>\n",
              "      <td>29.983398</td>\n",
              "      <td>-46.912354</td>\n",
              "      <td>1.407789</td>\n",
              "      <td>-2.202642</td>\n",
              "      <td>-76.895752</td>\n",
              "      <td>2176.734131</td>\n",
              "      <td>3.53</td>\n",
              "      <td>1</td>\n",
              "      <td>0</td>\n",
              "    </tr>\n",
              "    <tr>\n",
              "      <th>2020-01-13</th>\n",
              "      <td>2176.734131</td>\n",
              "      <td>51.283936</td>\n",
              "      <td>9.382568</td>\n",
              "      <td>2.356004</td>\n",
              "      <td>0.431039</td>\n",
              "      <td>-41.901367</td>\n",
              "      <td>2167.351562</td>\n",
              "      <td>1.93</td>\n",
              "      <td>1</td>\n",
              "      <td>1</td>\n",
              "    </tr>\n",
              "    <tr>\n",
              "      <th>2020-01-14</th>\n",
              "      <td>2167.351562</td>\n",
              "      <td>21.711914</td>\n",
              "      <td>37.529785</td>\n",
              "      <td>1.001772</td>\n",
              "      <td>1.731597</td>\n",
              "      <td>15.817871</td>\n",
              "      <td>2129.821777</td>\n",
              "      <td>0.74</td>\n",
              "      <td>1</td>\n",
              "      <td>1</td>\n",
              "    </tr>\n",
              "  </tbody>\n",
              "</table>\n",
              "</div>"
            ],
            "text/plain": [
              "            Harga Saham Hari ini  ...  Asli Uptrend\n",
              "Date                              ...              \n",
              "2019-12-30           1970.319580  ...             1\n",
              "2020-01-02           1960.937134  ...             0\n",
              "2020-01-03           2007.849487  ...             0\n",
              "2020-01-06           2017.232056  ...             0\n",
              "2020-01-07           2111.056641  ...             0\n",
              "2020-01-08           2129.821777  ...             0\n",
              "2020-01-09           2139.204102  ...             1\n",
              "2020-01-10           2129.821777  ...             0\n",
              "2020-01-13           2176.734131  ...             1\n",
              "2020-01-14           2167.351562  ...             1\n",
              "\n",
              "[10 rows x 10 columns]"
            ]
          },
          "metadata": {
            "tags": []
          },
          "execution_count": 21
        }
      ]
    },
    {
      "cell_type": "code",
      "metadata": {
        "id": "nJ8kSjYQ4Mru",
        "colab": {
          "base_uri": "https://localhost:8080/"
        },
        "outputId": "d0e89b61-bd8a-4102-d36f-a8f8de4e09d2"
      },
      "source": [
        "MAPE = np.mean(np.abs((Final_Predict['Harga Besok Sebenarnya'] - Final_Predict['Prediksi Besok']) / Final_Predict['Harga Sebenarnya'])) * 100\n",
        "print('Mape :', MAPE)"
      ],
      "execution_count": 22,
      "outputs": [
        {
          "output_type": "stream",
          "text": [
            "Mape : 9.063555481422767\n"
          ],
          "name": "stdout"
        }
      ]
    },
    {
      "cell_type": "code",
      "metadata": {
        "id": "wmiuagMCKc3w",
        "colab": {
          "base_uri": "https://localhost:8080/"
        },
        "outputId": "22f4209c-a9f8-4d23-bde9-168888a70b81"
      },
      "source": [
        "pred_uptrend = Final_Predict['Prediksi Uptrend']\n",
        "true_trend = Final_Predict['Asli Uptrend']\n",
        "\n",
        "# calculate accuracy\n",
        "from sklearn.metrics import accuracy_score\n",
        "Accuracy = accuracy_score(true_trend, pred_uptrend)\n",
        "print('Accuracy :', Accuracy)\n",
        "\n",
        "\n",
        "# calculate prediction\n",
        "from sklearn.metrics import precision_score\n",
        "precision = precision_score(true_trend, pred_uptrend, average='binary')\n",
        "print('Precision : %.3f' % precision)\n",
        "\n",
        "# calculate recall\n",
        "from sklearn.metrics import recall_score\n",
        "recall = recall_score(true_trend, pred_uptrend, average='binary')\n",
        "print('Recall : %.3f' % recall)\n",
        "\n",
        "# calculate score\n",
        "from sklearn.metrics import f1_score\n",
        "score = f1_score(true_trend, pred_uptrend, average='binary')\n",
        "print('F1 Score : %.3f' % score)\n",
        "\n",
        "#AUC Score\n",
        "from sklearn.metrics import roc_auc_score \n",
        "auc = roc_auc_score(true_trend, pred_uptrend)\n",
        "print('AUC Score : ', auc)"
      ],
      "execution_count": 23,
      "outputs": [
        {
          "output_type": "stream",
          "text": [
            "Accuracy : 0.5\n",
            "Precision : 0.543\n",
            "Recall : 0.775\n",
            "F1 Score : 0.639\n",
            "AUC Score :  0.4546072085031567\n"
          ],
          "name": "stdout"
        }
      ]
    },
    {
      "cell_type": "code",
      "metadata": {
        "id": "J7yPx3k8WolI",
        "colab": {
          "base_uri": "https://localhost:8080/",
          "height": 342
        },
        "outputId": "b47259c5-e5d5-43fc-bfc3-fedf6e2b41b6"
      },
      "source": [
        "from sklearn.metrics import confusion_matrix\n",
        "import seaborn as sns\n",
        "import matplotlib.pyplot as plt\n",
        "\n",
        "confusion_matrix(true_trend, pred_uptrend)\n",
        "plt.figure(figsize = (6, 5))\n",
        "sns.heatmap(confusion_matrix(true_trend, pred_uptrend), annot = True)"
      ],
      "execution_count": 24,
      "outputs": [
        {
          "output_type": "execute_result",
          "data": {
            "text/plain": [
              "<matplotlib.axes._subplots.AxesSubplot at 0x7f25aa686bd0>"
            ]
          },
          "metadata": {
            "tags": []
          },
          "execution_count": 24
        },
        {
          "output_type": "display_data",
          "data": {
            "image/png": "[encoded data removed]",
            "text/plain": [
              "<Figure size 432x360 with 2 Axes>"
            ]
          },
          "metadata": {
            "tags": []
          }
        }
      ]
    },
    {
      "cell_type": "code",
      "metadata": {
        "id": "GL0g9D5qPtTK",
        "colab": {
          "base_uri": "https://localhost:8080/",
          "height": 282
        },
        "outputId": "5e05f263-169d-4417-c03c-56dce8a2641a"
      },
      "source": [
        "from sklearn.metrics import roc_curve \n",
        "fpr, tpr, thresholds = roc_curve(true_trend, pred_uptrend)\n",
        "\n",
        "\n",
        "import matplotlib.pyplot as plt \n",
        "plt.plot(fpr, tpr) \n",
        "plt.xlabel(\"False Positive Rate\") \n",
        "plt.ylabel(\"True Positive Rate\") \n",
        "plt.plot([0, 1], [0, 1], \"k--\") \n",
        "plt.show()"
      ],
      "execution_count": 25,
      "outputs": [
        {
          "output_type": "display_data",
          "data": {
            "image/png": "[encoded data removed]",
            "text/plain": [
              "<Figure size 432x288 with 1 Axes>"
            ]
          },
          "metadata": {
            "tags": []
          }
        }
      ]
    },
    {
      "cell_type": "code",
      "metadata": {
        "id": "kgXVUoOccIB1",
        "colab": {
          "base_uri": "https://localhost:8080/",
          "height": 298
        },
        "outputId": "1a9b468f-3216-4f87-9b1a-e90c51f70811"
      },
      "source": [
        "# plot the results \n",
        "plt.plot(Final_Predict['Prediksi Besok'], color = 'red', label = 'Real Stock Price')\n",
        "plt.plot(Final_Predict['Harga Besok Sebenarnya'], color = 'blue', label = 'Predicted Stock Price')\n",
        "#plt.plot(Final_Predict['Risk/MAPE(%)'], color = 'black', label = 'RISK/MAPE(%)')\n",
        "plt.title('Stock Price Prediction')\n",
        "plt.xlabel('Time')\n",
        "plt.ylabel('Stock Price')\n",
        "plt.legend()\n",
        "plt.savefig('Stock Price SVR LSTM 1.png')\n",
        "files.download(\"Stock Price SVR LSTM 1.png\")\n",
        "plt.show()"
      ],
      "execution_count": 26,
      "outputs": [
        {
          "output_type": "display_data",
          "data": {
            "application/javascript": [
              "\n",
              "    async function download(id, filename, size) {\n",
              "      if (!google.colab.kernel.accessAllowed) {\n",
              "        return;\n",
              "      }\n",
              "      const div = document.createElement('div');\n",
              "      const label = document.createElement('label');\n",
              "      label.textContent = `Downloading \"${filename}\": `;\n",
              "      div.appendChild(label);\n",
              "      const progress = document.createElement('progress');\n",
              "      progress.max = size;\n",
              "      div.appendChild(progress);\n",
              "      document.body.appendChild(div);\n",
              "\n",
              "      const buffers = [];\n",
              "      let downloaded = 0;\n",
              "\n",
              "      const channel = await google.colab.kernel.comms.open(id);\n",
              "      // Send a message to notify the kernel that we're ready.\n",
              "      channel.send({})\n",
              "\n",
              "      for await (const message of channel.messages) {\n",
              "        // Send a message to notify the kernel that we're ready.\n",
              "        channel.send({})\n",
              "        if (message.buffers) {\n",
              "          for (const buffer of message.buffers) {\n",
              "            buffers.push(buffer);\n",
              "            downloaded += buffer.byteLength;\n",
              "            progress.value = downloaded;\n",
              "          }\n",
              "        }\n",
              "      }\n",
              "      const blob = new Blob(buffers, {type: 'application/binary'});\n",
              "      const a = document.createElement('a');\n",
              "      a.href = window.URL.createObjectURL(blob);\n",
              "      a.download = filename;\n",
              "      div.appendChild(a);\n",
              "      a.click();\n",
              "      div.remove();\n",
              "    }\n",
              "  "
            ],
            "text/plain": [
              "<IPython.core.display.Javascript object>"
            ]
          },
          "metadata": {
            "tags": []
          }
        },
        {
          "output_type": "display_data",
          "data": {
            "application/javascript": [
              "download(\"download_d85a176b-9666-4540-bd01-dce3b8e3c215\", \"Stock Price SVR LSTM 1.png\", 40336)"
            ],
            "text/plain": [
              "<IPython.core.display.Javascript object>"
            ]
          },
          "metadata": {
            "tags": []
          }
        },
        {
          "output_type": "display_data",
          "data": {
            "image/png": "[encoded data removed]",
            "text/plain": [
              "<Figure size 432x288 with 1 Axes>"
            ]
          },
          "metadata": {
            "tags": []
          }
        }
      ]
    },
    {
      "cell_type": "code",
      "metadata": {
        "id": "towGbwPBLWUk"
      },
      "source": [
        "#### Mencari Data STAT MODEL"
      ],
      "execution_count": 27,
      "outputs": []
    },
    {
      "cell_type": "code",
      "metadata": {
        "id": "UiadXxndQ2NX"
      },
      "source": [
        "a = X_test\n",
        "a = np.reshape(a, (-1, 36))\n",
        "a = scaler.inverse_transform(a)\n",
        "a = pd.DataFrame(a)"
      ],
      "execution_count": 28,
      "outputs": []
    },
    {
      "cell_type": "code",
      "metadata": {
        "id": "ErHLvejACioW"
      },
      "source": [
        "b = y_test\n",
        "#b = np.reshape(b, (-1, 36))\n",
        "b = scaler.inverse_transform(b)\n",
        "b = pd.DataFrame(b)"
      ],
      "execution_count": 29,
      "outputs": []
    },
    {
      "cell_type": "code",
      "metadata": {
        "id": "O62uEaEkLyWO"
      },
      "source": [
        "#OLS Model\n",
        "import statsmodels.api as sm\n",
        "X = a\n",
        "Y = b\n",
        "X = sm.add_constant(X)\n",
        "model_ols = sm.OLS(Y,X)\n",
        "results = model_ols.fit()"
      ],
      "execution_count": 30,
      "outputs": []
    },
    {
      "cell_type": "code",
      "metadata": {
        "id": "_CaG_RGcMpzM",
        "colab": {
          "base_uri": "https://localhost:8080/",
          "height": 1000
        },
        "outputId": "671f6fee-13da-4498-867f-e563e1e2e1e0"
      },
      "source": [
        "results.summary()"
      ],
      "execution_count": 31,
      "outputs": [
        {
          "output_type": "execute_result",
          "data": {
            "text/html": [
              "<table class=\"simpletable\">\n",
              "<caption>OLS Regression Results</caption>\n",
              "<tr>\n",
              "  <th>Dep. Variable:</th>            <td>0</td>        <th>  R-squared:         </th> <td>   0.955</td> \n",
              "</tr>\n",
              "<tr>\n",
              "  <th>Model:</th>                   <td>OLS</td>       <th>  Adj. R-squared:    </th> <td>   0.947</td> \n",
              "</tr>\n",
              "<tr>\n",
              "  <th>Method:</th>             <td>Least Squares</td>  <th>  F-statistic:       </th> <td>   120.7</td> \n",
              "</tr>\n",
              "<tr>\n",
              "  <th>Date:</th>             <td>Tue, 18 May 2021</td> <th>  Prob (F-statistic):</th> <td>8.12e-119</td>\n",
              "</tr>\n",
              "<tr>\n",
              "  <th>Time:</th>                 <td>06:41:16</td>     <th>  Log-Likelihood:    </th> <td> -1251.4</td> \n",
              "</tr>\n",
              "<tr>\n",
              "  <th>No. Observations:</th>      <td>   242</td>      <th>  AIC:               </th> <td>   2577.</td> \n",
              "</tr>\n",
              "<tr>\n",
              "  <th>Df Residuals:</th>          <td>   205</td>      <th>  BIC:               </th> <td>   2706.</td> \n",
              "</tr>\n",
              "<tr>\n",
              "  <th>Df Model:</th>              <td>    36</td>      <th>                     </th>     <td> </td>    \n",
              "</tr>\n",
              "<tr>\n",
              "  <th>Covariance Type:</th>      <td>nonrobust</td>    <th>                     </th>     <td> </td>    \n",
              "</tr>\n",
              "</table>\n",
              "<table class=\"simpletable\">\n",
              "<tr>\n",
              "    <td></td>       <th>coef</th>     <th>std err</th>      <th>t</th>      <th>P>|t|</th>  <th>[0.025</th>    <th>0.975]</th>  \n",
              "</tr>\n",
              "<tr>\n",
              "  <th>const</th> <td>   75.1658</td> <td>   30.974</td> <td>    2.427</td> <td> 0.016</td> <td>   14.098</td> <td>  136.233</td>\n",
              "</tr>\n",
              "<tr>\n",
              "  <th>0</th>     <td>    0.0626</td> <td>    0.073</td> <td>    0.862</td> <td> 0.390</td> <td>   -0.081</td> <td>    0.206</td>\n",
              "</tr>\n",
              "<tr>\n",
              "  <th>1</th>     <td>   -0.2118</td> <td>    0.103</td> <td>   -2.061</td> <td> 0.041</td> <td>   -0.414</td> <td>   -0.009</td>\n",
              "</tr>\n",
              "<tr>\n",
              "  <th>2</th>     <td>    0.0578</td> <td>    0.103</td> <td>    0.563</td> <td> 0.574</td> <td>   -0.144</td> <td>    0.260</td>\n",
              "</tr>\n",
              "<tr>\n",
              "  <th>3</th>     <td>    0.0585</td> <td>    0.102</td> <td>    0.573</td> <td> 0.567</td> <td>   -0.143</td> <td>    0.260</td>\n",
              "</tr>\n",
              "<tr>\n",
              "  <th>4</th>     <td>    0.0403</td> <td>    0.103</td> <td>    0.393</td> <td> 0.695</td> <td>   -0.162</td> <td>    0.243</td>\n",
              "</tr>\n",
              "<tr>\n",
              "  <th>5</th>     <td>   -0.0775</td> <td>    0.103</td> <td>   -0.751</td> <td> 0.454</td> <td>   -0.281</td> <td>    0.126</td>\n",
              "</tr>\n",
              "<tr>\n",
              "  <th>6</th>     <td>    0.0545</td> <td>    0.104</td> <td>    0.526</td> <td> 0.600</td> <td>   -0.150</td> <td>    0.259</td>\n",
              "</tr>\n",
              "<tr>\n",
              "  <th>7</th>     <td>    0.1230</td> <td>    0.103</td> <td>    1.191</td> <td> 0.235</td> <td>   -0.081</td> <td>    0.327</td>\n",
              "</tr>\n",
              "<tr>\n",
              "  <th>8</th>     <td>   -0.1600</td> <td>    0.103</td> <td>   -1.558</td> <td> 0.121</td> <td>   -0.362</td> <td>    0.043</td>\n",
              "</tr>\n",
              "<tr>\n",
              "  <th>9</th>     <td>    0.0199</td> <td>    0.103</td> <td>    0.194</td> <td> 0.847</td> <td>   -0.183</td> <td>    0.222</td>\n",
              "</tr>\n",
              "<tr>\n",
              "  <th>10</th>    <td>    0.0099</td> <td>    0.102</td> <td>    0.097</td> <td> 0.923</td> <td>   -0.192</td> <td>    0.211</td>\n",
              "</tr>\n",
              "<tr>\n",
              "  <th>11</th>    <td>    0.0922</td> <td>    0.102</td> <td>    0.903</td> <td> 0.367</td> <td>   -0.109</td> <td>    0.293</td>\n",
              "</tr>\n",
              "<tr>\n",
              "  <th>12</th>    <td>   -0.1104</td> <td>    0.102</td> <td>   -1.085</td> <td> 0.279</td> <td>   -0.311</td> <td>    0.090</td>\n",
              "</tr>\n",
              "<tr>\n",
              "  <th>13</th>    <td>   -0.0997</td> <td>    0.102</td> <td>   -0.981</td> <td> 0.328</td> <td>   -0.300</td> <td>    0.101</td>\n",
              "</tr>\n",
              "<tr>\n",
              "  <th>14</th>    <td>    0.0782</td> <td>    0.102</td> <td>    0.767</td> <td> 0.444</td> <td>   -0.123</td> <td>    0.279</td>\n",
              "</tr>\n",
              "<tr>\n",
              "  <th>15</th>    <td>   -0.0306</td> <td>    0.102</td> <td>   -0.300</td> <td> 0.765</td> <td>   -0.232</td> <td>    0.170</td>\n",
              "</tr>\n",
              "<tr>\n",
              "  <th>16</th>    <td>    0.2036</td> <td>    0.101</td> <td>    2.021</td> <td> 0.045</td> <td>    0.005</td> <td>    0.402</td>\n",
              "</tr>\n",
              "<tr>\n",
              "  <th>17</th>    <td>   -0.1840</td> <td>    0.101</td> <td>   -1.831</td> <td> 0.069</td> <td>   -0.382</td> <td>    0.014</td>\n",
              "</tr>\n",
              "<tr>\n",
              "  <th>18</th>    <td>    0.1502</td> <td>    0.100</td> <td>    1.496</td> <td> 0.136</td> <td>   -0.048</td> <td>    0.348</td>\n",
              "</tr>\n",
              "<tr>\n",
              "  <th>19</th>    <td>   -0.1755</td> <td>    0.101</td> <td>   -1.738</td> <td> 0.084</td> <td>   -0.375</td> <td>    0.024</td>\n",
              "</tr>\n",
              "<tr>\n",
              "  <th>20</th>    <td>    0.0883</td> <td>    0.101</td> <td>    0.871</td> <td> 0.385</td> <td>   -0.112</td> <td>    0.288</td>\n",
              "</tr>\n",
              "<tr>\n",
              "  <th>21</th>    <td>   -0.0137</td> <td>    0.101</td> <td>   -0.135</td> <td> 0.892</td> <td>   -0.214</td> <td>    0.186</td>\n",
              "</tr>\n",
              "<tr>\n",
              "  <th>22</th>    <td>    0.0459</td> <td>    0.102</td> <td>    0.452</td> <td> 0.652</td> <td>   -0.154</td> <td>    0.246</td>\n",
              "</tr>\n",
              "<tr>\n",
              "  <th>23</th>    <td>    0.0343</td> <td>    0.100</td> <td>    0.344</td> <td> 0.731</td> <td>   -0.162</td> <td>    0.231</td>\n",
              "</tr>\n",
              "<tr>\n",
              "  <th>24</th>    <td>    0.0253</td> <td>    0.100</td> <td>    0.253</td> <td> 0.800</td> <td>   -0.172</td> <td>    0.222</td>\n",
              "</tr>\n",
              "<tr>\n",
              "  <th>25</th>    <td>   -0.0968</td> <td>    0.099</td> <td>   -0.980</td> <td> 0.328</td> <td>   -0.292</td> <td>    0.098</td>\n",
              "</tr>\n",
              "<tr>\n",
              "  <th>26</th>    <td>    0.0639</td> <td>    0.099</td> <td>    0.648</td> <td> 0.517</td> <td>   -0.130</td> <td>    0.258</td>\n",
              "</tr>\n",
              "<tr>\n",
              "  <th>27</th>    <td>   -0.1181</td> <td>    0.098</td> <td>   -1.201</td> <td> 0.231</td> <td>   -0.312</td> <td>    0.076</td>\n",
              "</tr>\n",
              "<tr>\n",
              "  <th>28</th>    <td>   -0.0215</td> <td>    0.099</td> <td>   -0.218</td> <td> 0.828</td> <td>   -0.216</td> <td>    0.173</td>\n",
              "</tr>\n",
              "<tr>\n",
              "  <th>29</th>    <td>    0.0959</td> <td>    0.099</td> <td>    0.971</td> <td> 0.333</td> <td>   -0.099</td> <td>    0.291</td>\n",
              "</tr>\n",
              "<tr>\n",
              "  <th>30</th>    <td>   -0.1567</td> <td>    0.098</td> <td>   -1.594</td> <td> 0.113</td> <td>   -0.351</td> <td>    0.037</td>\n",
              "</tr>\n",
              "<tr>\n",
              "  <th>31</th>    <td>    0.1474</td> <td>    0.098</td> <td>    1.508</td> <td> 0.133</td> <td>   -0.045</td> <td>    0.340</td>\n",
              "</tr>\n",
              "<tr>\n",
              "  <th>32</th>    <td>   -0.1250</td> <td>    0.097</td> <td>   -1.284</td> <td> 0.201</td> <td>   -0.317</td> <td>    0.067</td>\n",
              "</tr>\n",
              "<tr>\n",
              "  <th>33</th>    <td>    0.1867</td> <td>    0.097</td> <td>    1.931</td> <td> 0.055</td> <td>   -0.004</td> <td>    0.377</td>\n",
              "</tr>\n",
              "<tr>\n",
              "  <th>34</th>    <td>   -0.0804</td> <td>    0.097</td> <td>   -0.832</td> <td> 0.406</td> <td>   -0.271</td> <td>    0.110</td>\n",
              "</tr>\n",
              "<tr>\n",
              "  <th>35</th>    <td>    0.9772</td> <td>    0.070</td> <td>   14.003</td> <td> 0.000</td> <td>    0.840</td> <td>    1.115</td>\n",
              "</tr>\n",
              "</table>\n",
              "<table class=\"simpletable\">\n",
              "<tr>\n",
              "  <th>Omnibus:</th>       <td>15.806</td> <th>  Durbin-Watson:     </th> <td>   1.997</td>\n",
              "</tr>\n",
              "<tr>\n",
              "  <th>Prob(Omnibus):</th> <td> 0.000</td> <th>  Jarque-Bera (JB):  </th> <td>  34.341</td>\n",
              "</tr>\n",
              "<tr>\n",
              "  <th>Skew:</th>          <td> 0.271</td> <th>  Prob(JB):          </th> <td>3.49e-08</td>\n",
              "</tr>\n",
              "<tr>\n",
              "  <th>Kurtosis:</th>      <td> 4.764</td> <th>  Cond. No.          </th> <td>1.05e+05</td>\n",
              "</tr>\n",
              "</table><br/><br/>Warnings:<br/>[1] Standard Errors assume that the covariance matrix of the errors is correctly specified.<br/>[2] The condition number is large, 1.05e+05. This might indicate that there are<br/>strong multicollinearity or other numerical problems."
            ],
            "text/plain": [
              "<class 'statsmodels.iolib.summary.Summary'>\n",
              "\"\"\"\n",
              "                            OLS Regression Results                            \n",
              "==============================================================================\n",
              "Dep. Variable:                      0   R-squared:                       0.955\n",
              "Model:                            OLS   Adj. R-squared:                  0.947\n",
              "Method:                 Least Squares   F-statistic:                     120.7\n",
              "Date:                Tue, 18 May 2021   Prob (F-statistic):          8.12e-119\n",
              "Time:                        06:41:16   Log-Likelihood:                -1251.4\n",
              "No. Observations:                 242   AIC:                             2577.\n",
              "Df Residuals:                     205   BIC:                             2706.\n",
              "Df Model:                          36                                         \n",
              "Covariance Type:            nonrobust                                         \n",
              "==============================================================================\n",
              "                 coef    std err          t      P>|t|      [0.025      0.975]\n",
              "------------------------------------------------------------------------------\n",
              "const         75.1658     30.974      2.427      0.016      14.098     136.233\n",
              "0              0.0626      0.073      0.862      0.390      -0.081       0.206\n",
              "1             -0.2118      0.103     -2.061      0.041      -0.414      -0.009\n",
              "2              0.0578      0.103      0.563      0.574      -0.144       0.260\n",
              "3              0.0585      0.102      0.573      0.567      -0.143       0.260\n",
              "4              0.0403      0.103      0.393      0.695      -0.162       0.243\n",
              "5             -0.0775      0.103     -0.751      0.454      -0.281       0.126\n",
              "6              0.0545      0.104      0.526      0.600      -0.150       0.259\n",
              "7              0.1230      0.103      1.191      0.235      -0.081       0.327\n",
              "8             -0.1600      0.103     -1.558      0.121      -0.362       0.043\n",
              "9              0.0199      0.103      0.194      0.847      -0.183       0.222\n",
              "10             0.0099      0.102      0.097      0.923      -0.192       0.211\n",
              "11             0.0922      0.102      0.903      0.367      -0.109       0.293\n",
              "12            -0.1104      0.102     -1.085      0.279      -0.311       0.090\n",
              "13            -0.0997      0.102     -0.981      0.328      -0.300       0.101\n",
              "14             0.0782      0.102      0.767      0.444      -0.123       0.279\n",
              "15            -0.0306      0.102     -0.300      0.765      -0.232       0.170\n",
              "16             0.2036      0.101      2.021      0.045       0.005       0.402\n",
              "17            -0.1840      0.101     -1.831      0.069      -0.382       0.014\n",
              "18             0.1502      0.100      1.496      0.136      -0.048       0.348\n",
              "19            -0.1755      0.101     -1.738      0.084      -0.375       0.024\n",
              "20             0.0883      0.101      0.871      0.385      -0.112       0.288\n",
              "21            -0.0137      0.101     -0.135      0.892      -0.214       0.186\n",
              "22             0.0459      0.102      0.452      0.652      -0.154       0.246\n",
              "23             0.0343      0.100      0.344      0.731      -0.162       0.231\n",
              "24             0.0253      0.100      0.253      0.800      -0.172       0.222\n",
              "25            -0.0968      0.099     -0.980      0.328      -0.292       0.098\n",
              "26             0.0639      0.099      0.648      0.517      -0.130       0.258\n",
              "27            -0.1181      0.098     -1.201      0.231      -0.312       0.076\n",
              "28            -0.0215      0.099     -0.218      0.828      -0.216       0.173\n",
              "29             0.0959      0.099      0.971      0.333      -0.099       0.291\n",
              "30            -0.1567      0.098     -1.594      0.113      -0.351       0.037\n",
              "31             0.1474      0.098      1.508      0.133      -0.045       0.340\n",
              "32            -0.1250      0.097     -1.284      0.201      -0.317       0.067\n",
              "33             0.1867      0.097      1.931      0.055      -0.004       0.377\n",
              "34            -0.0804      0.097     -0.832      0.406      -0.271       0.110\n",
              "35             0.9772      0.070     14.003      0.000       0.840       1.115\n",
              "==============================================================================\n",
              "Omnibus:                       15.806   Durbin-Watson:                   1.997\n",
              "Prob(Omnibus):                  0.000   Jarque-Bera (JB):               34.341\n",
              "Skew:                           0.271   Prob(JB):                     3.49e-08\n",
              "Kurtosis:                       4.764   Cond. No.                     1.05e+05\n",
              "==============================================================================\n",
              "\n",
              "Warnings:\n",
              "[1] Standard Errors assume that the covariance matrix of the errors is correctly specified.\n",
              "[2] The condition number is large, 1.05e+05. This might indicate that there are\n",
              "strong multicollinearity or other numerical problems.\n",
              "\"\"\""
            ]
          },
          "metadata": {
            "tags": []
          },
          "execution_count": 31
        }
      ]
    }
  ]
}