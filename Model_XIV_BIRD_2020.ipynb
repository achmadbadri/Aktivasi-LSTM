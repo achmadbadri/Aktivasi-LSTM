{
  "nbformat": 4,
  "nbformat_minor": 0,
  "metadata": {
    "colab": {
      "name": "Model XIV BIRD 2020",
      "provenance": [],
      "collapsed_sections": [],
      "include_colab_link": true
    },
    "kernelspec": {
      "display_name": "Python 3",
      "name": "python3"
    }
  },
  "cells": [
    {
      "cell_type": "markdown",
      "metadata": {
        "id": "view-in-github",
        "colab_type": "text"
      },
      "source": [
        "<a href=\"https://colab.research.google.com/github/achmadbadri/Aktivasi-LSTM/blob/main/Model_XIV_BIRD_2020.ipynb\" target=\"_parent\"><img src=\"https://colab.research.google.com/assets/colab-badge.svg\" alt=\"Open In Colab\"/></a>"
      ]
    },
    {
      "cell_type": "code",
      "metadata": {
        "id": "imVL_RBkSiEM"
      },
      "source": [
        "import keras\n",
        "from keras.layers import Dense\n",
        "from keras.layers import LSTM\n",
        "from keras.layers import Dropout\n",
        "import pandas as pd \n",
        "import pandas_datareader.data as web\n",
        "import datetime\n",
        "import numpy as np \n",
        "from matplotlib import style\n",
        "from google.colab import files\n",
        "# Visualize the training stock data:\n",
        "import matplotlib.pyplot as plt\n",
        "%matplotlib inline\n",
        "\n",
        "# ignore warnings \n",
        "import warnings\n",
        "warnings.filterwarnings('ignore')"
      ],
      "execution_count": 1,
      "outputs": []
    },
    {
      "cell_type": "code",
      "metadata": {
        "id": "7mgHVWneS0-0",
        "colab": {
          "base_uri": "https://localhost:8080/"
        },
        "outputId": "63c74223-2939-4a18-f876-2e338734b270"
      },
      "source": [
        "# Get the stock data using yahoo API:\n",
        "style.use('ggplot')\n",
        "\n",
        "# get 2014-2018 data to train our model\n",
        "start = datetime.datetime(2014,1,1)\n",
        "end = datetime.datetime(2019,12,31)\n",
        "df = web.DataReader(\"BIRD.JK\", 'yahoo', start, end) \n",
        "\n",
        "# get 2019 data to test our model on \n",
        "start = datetime.datetime(2019,8,23)\n",
        "end = datetime.datetime(2020,12,31)\n",
        "test_df = web.DataReader(\"BIRD.JK\", 'yahoo', start, end) \n",
        "print(df.shape)\n",
        "print(test_df.shape)"
      ],
      "execution_count": 2,
      "outputs": [
        {
          "output_type": "stream",
          "text": [
            "(1293, 6)\n",
            "(332, 6)\n"
          ],
          "name": "stdout"
        }
      ]
    },
    {
      "cell_type": "code",
      "metadata": {
        "id": "H598YUDjU7Sd",
        "colab": {
          "base_uri": "https://localhost:8080/"
        },
        "outputId": "7c38cfd7-0800-40b9-daa5-dfea51c6d8bf"
      },
      "source": [
        "# Create train set of adj close prices data:\n",
        "train_data = df.loc[:,'Adj Close'].to_numpy()\n",
        "print(train_data.shape) # 1258 \n",
        "\n",
        "\n",
        "# Apply normalization before feeding to LSTM using sklearn:\n",
        "from sklearn.preprocessing import MinMaxScaler\n",
        "\n",
        "scaler = MinMaxScaler()\n",
        "train_data = train_data.reshape(-1,1)\n",
        "\n",
        "scaler.fit(train_data)\n",
        "train_data = scaler.transform(train_data)"
      ],
      "execution_count": 3,
      "outputs": [
        {
          "output_type": "stream",
          "text": [
            "(1293,)\n"
          ],
          "name": "stdout"
        }
      ]
    },
    {
      "cell_type": "code",
      "metadata": {
        "id": "8ITZZaGnVFTQ",
        "colab": {
          "base_uri": "https://localhost:8080/"
        },
        "outputId": "b857d944-13e3-46fc-db3d-b1753a7c45c6"
      },
      "source": [
        "'''Function to create a dataset to feed into an LSTM'''\n",
        "def create_dataset(dataset, look_back):\n",
        "    dataX, dataY = [], []\n",
        "    for i in range(len(dataset)-look_back):\n",
        "        a = dataset[i:(i + look_back), 0]\n",
        "        dataX.append(a)\n",
        "        dataY.append(dataset[i + look_back, 0])\n",
        "    return np.array(dataX), np.array(dataY)\n",
        "    \n",
        "    \n",
        "# Create the data to train our model on:\n",
        "time_steps = 90\n",
        "X_train, y_train = create_dataset(train_data, time_steps)\n",
        "\n",
        "# reshape it [samples, time steps, features]\n",
        "X_train = np.reshape(X_train, (X_train.shape[0], 90, 1))\n",
        "\n",
        "print(X_train.shape)\n",
        "\n",
        "\n",
        "# Visualizing our data with prints: \n",
        "print('X_train:')\n",
        "print(str(scaler.inverse_transform(X_train[0])))\n",
        "print(\"\\n\")\n",
        "print('y_train: ' + str(scaler.inverse_transform(y_train[0].reshape(-1,1)))+'\\n')"
      ],
      "execution_count": 4,
      "outputs": [
        {
          "output_type": "stream",
          "text": [
            "(1203, 90, 1)\n",
            "X_train:\n",
            "[[ 6897.30419922]\n",
            " [ 7059.32128906]\n",
            " [ 6966.73925781]\n",
            " [ 6712.14111328]\n",
            " [ 6943.59423828]\n",
            " [ 6966.73925781]\n",
            " [ 7036.17578125]\n",
            " [ 6920.44873047]\n",
            " [ 7036.17578125]\n",
            " [ 6989.88476562]\n",
            " [ 6943.59423828]\n",
            " [ 6874.15869141]\n",
            " [ 7036.17578125]\n",
            " [ 6943.59423828]\n",
            " [ 6827.86767578]\n",
            " [ 6897.30419922]\n",
            " [ 6920.44873047]\n",
            " [ 6943.59423828]\n",
            " [ 6851.01318359]\n",
            " [ 6758.43164062]\n",
            " [ 7128.75732422]\n",
            " [ 6989.88476562]\n",
            " [ 6989.88476562]\n",
            " [ 7151.90234375]\n",
            " [ 7198.19335938]\n",
            " [ 7684.24414063]\n",
            " [ 7846.26171875]\n",
            " [ 7915.69775391]\n",
            " [ 7915.69775391]\n",
            " [ 8054.56933594]\n",
            " [ 8054.56933594]\n",
            " [ 8124.00537109]\n",
            " [ 8262.87792969]\n",
            " [ 8656.34765625]\n",
            " [ 8772.07421875]\n",
            " [ 8772.07421875]\n",
            " [ 8748.92773438]\n",
            " [ 8725.78417969]\n",
            " [ 8748.92773438]\n",
            " [ 8934.09179688]\n",
            " [ 8957.23535156]\n",
            " [ 9003.52734375]\n",
            " [ 9258.12597656]\n",
            " [ 9258.12597656]\n",
            " [ 9697.88671875]\n",
            " [ 9906.1953125 ]\n",
            " [10276.51953125]\n",
            " [10716.28125   ]\n",
            " [11202.33203125]\n",
            " [10669.99121094]\n",
            " [10623.70019531]\n",
            " [10207.08300781]\n",
            " [10253.37402344]\n",
            " [10554.26367188]\n",
            " [10183.93847656]\n",
            " [10183.93847656]\n",
            " [10183.93847656]\n",
            " [10160.79394531]\n",
            " [10091.35839844]\n",
            " [10068.21289062]\n",
            " [ 9721.03222656]\n",
            " [ 9281.27148438]\n",
            " [ 9651.59570312]\n",
            " [ 9836.7578125 ]\n",
            " [ 9721.03222656]\n",
            " [ 9582.16015625]\n",
            " [ 9489.57910156]\n",
            " [ 9443.2890625 ]\n",
            " [ 9721.03222656]\n",
            " [ 9582.16015625]\n",
            " [ 9721.03222656]\n",
            " [ 9721.03222656]\n",
            " [ 9836.7578125 ]\n",
            " [10045.06640625]\n",
            " [ 9998.77636719]\n",
            " [ 9929.33984375]\n",
            " [ 9998.77636719]\n",
            " [10091.35839844]\n",
            " [ 9906.1953125 ]\n",
            " [ 9721.03222656]\n",
            " [ 9651.59570312]\n",
            " [ 9721.03222656]\n",
            " [ 9790.46777344]\n",
            " [ 9489.57910156]\n",
            " [ 9466.43261719]\n",
            " [ 9466.43261719]\n",
            " [ 9466.43261719]\n",
            " [ 9258.12597656]\n",
            " [ 9165.54394531]\n",
            " [ 8980.38085938]]\n",
            "\n",
            "\n",
            "y_train: [[8795.21972656]]\n",
            "\n"
          ],
          "name": "stdout"
        }
      ]
    },
    {
      "cell_type": "code",
      "metadata": {
        "colab": {
          "base_uri": "https://localhost:8080/"
        },
        "id": "pmuzZ5TqVR8O",
        "outputId": "d7efadf7-1e2f-453f-d3f3-d3872b8c08ed"
      },
      "source": [
        "import tensorflow as tf\n",
        "from tensorflow import keras\n",
        "\n",
        "# Build the model \n",
        "model = keras.Sequential()\n",
        "\n",
        "model.add(LSTM(units = 32, return_sequences = True, input_shape = (X_train.shape[1], 1)))\n",
        "model.add(Dropout(0.2))\n",
        "\n",
        "model.add(LSTM(units = 16, return_sequences = False))\n",
        "model.add(Dropout(0.2))\n",
        "\n",
        "# Output layer\n",
        "model.add(Dense(units = 1, activation= 'tanh'))\n",
        "# Compiling the RNN\n",
        "model.compile(optimizer = 'adam', loss = 'mean_squared_error', metrics=['accuracy'])\n",
        "\n",
        "# Fitting the model to the Training set\n",
        "history = model.fit(X_train, y_train, epochs = 20, batch_size = 10, validation_split=.30)"
      ],
      "execution_count": 5,
      "outputs": [
        {
          "output_type": "stream",
          "text": [
            "Epoch 1/20\n",
            "85/85 [==============================] - 8s 58ms/step - loss: 0.0316 - accuracy: 0.0000e+00 - val_loss: 3.6330e-04 - val_accuracy: 0.0028\n",
            "Epoch 2/20\n",
            "85/85 [==============================] - 4s 48ms/step - loss: 0.0032 - accuracy: 0.0000e+00 - val_loss: 2.9762e-04 - val_accuracy: 0.0028\n",
            "Epoch 3/20\n",
            "85/85 [==============================] - 4s 47ms/step - loss: 0.0027 - accuracy: 0.0000e+00 - val_loss: 3.0464e-04 - val_accuracy: 0.0028\n",
            "Epoch 4/20\n",
            "85/85 [==============================] - 4s 47ms/step - loss: 0.0028 - accuracy: 0.0000e+00 - val_loss: 3.2257e-04 - val_accuracy: 0.0028\n",
            "Epoch 5/20\n",
            "85/85 [==============================] - 4s 47ms/step - loss: 0.0022 - accuracy: 0.0000e+00 - val_loss: 2.5094e-04 - val_accuracy: 0.0028\n",
            "Epoch 6/20\n",
            "85/85 [==============================] - 4s 47ms/step - loss: 0.0026 - accuracy: 0.0000e+00 - val_loss: 3.1203e-04 - val_accuracy: 0.0028\n",
            "Epoch 7/20\n",
            "85/85 [==============================] - 4s 46ms/step - loss: 0.0022 - accuracy: 0.0000e+00 - val_loss: 2.4481e-04 - val_accuracy: 0.0028\n",
            "Epoch 8/20\n",
            "85/85 [==============================] - 4s 46ms/step - loss: 0.0019 - accuracy: 0.0000e+00 - val_loss: 3.2531e-04 - val_accuracy: 0.0028\n",
            "Epoch 9/20\n",
            "85/85 [==============================] - 4s 47ms/step - loss: 0.0018 - accuracy: 0.0000e+00 - val_loss: 2.7823e-04 - val_accuracy: 0.0028\n",
            "Epoch 10/20\n",
            "85/85 [==============================] - 4s 48ms/step - loss: 0.0016 - accuracy: 0.0000e+00 - val_loss: 2.2838e-04 - val_accuracy: 0.0028\n",
            "Epoch 11/20\n",
            "85/85 [==============================] - 4s 47ms/step - loss: 0.0019 - accuracy: 0.0000e+00 - val_loss: 2.0908e-04 - val_accuracy: 0.0028\n",
            "Epoch 12/20\n",
            "85/85 [==============================] - 4s 48ms/step - loss: 0.0018 - accuracy: 0.0000e+00 - val_loss: 3.7650e-04 - val_accuracy: 0.0028\n",
            "Epoch 13/20\n",
            "85/85 [==============================] - 4s 48ms/step - loss: 0.0013 - accuracy: 0.0000e+00 - val_loss: 2.2554e-04 - val_accuracy: 0.0028\n",
            "Epoch 14/20\n",
            "85/85 [==============================] - 4s 46ms/step - loss: 0.0014 - accuracy: 0.0000e+00 - val_loss: 1.8884e-04 - val_accuracy: 0.0028\n",
            "Epoch 15/20\n",
            "85/85 [==============================] - 4s 46ms/step - loss: 0.0019 - accuracy: 0.0000e+00 - val_loss: 2.6837e-04 - val_accuracy: 0.0028\n",
            "Epoch 16/20\n",
            "85/85 [==============================] - 4s 47ms/step - loss: 0.0016 - accuracy: 0.0000e+00 - val_loss: 2.9917e-04 - val_accuracy: 0.0028\n",
            "Epoch 17/20\n",
            "85/85 [==============================] - 4s 47ms/step - loss: 0.0011 - accuracy: 0.0000e+00 - val_loss: 1.9107e-04 - val_accuracy: 0.0028\n",
            "Epoch 18/20\n",
            "85/85 [==============================] - 4s 46ms/step - loss: 0.0012 - accuracy: 0.0000e+00 - val_loss: 1.8928e-04 - val_accuracy: 0.0028\n",
            "Epoch 19/20\n",
            "85/85 [==============================] - 4s 46ms/step - loss: 0.0014 - accuracy: 0.0000e+00 - val_loss: 1.9400e-04 - val_accuracy: 0.0028\n",
            "Epoch 20/20\n",
            "85/85 [==============================] - 4s 45ms/step - loss: 0.0011 - accuracy: 0.0000e+00 - val_loss: 2.8881e-04 - val_accuracy: 0.0028\n"
          ],
          "name": "stdout"
        }
      ]
    },
    {
      "cell_type": "code",
      "metadata": {
        "id": "VJAAJ_3JRVIu",
        "colab": {
          "base_uri": "https://localhost:8080/"
        },
        "outputId": "1cb03660-f5b0-4d42-d267-08084f481223"
      },
      "source": [
        "model.summary()"
      ],
      "execution_count": 6,
      "outputs": [
        {
          "output_type": "stream",
          "text": [
            "Model: \"sequential\"\n",
            "_________________________________________________________________\n",
            "Layer (type)                 Output Shape              Param #   \n",
            "=================================================================\n",
            "lstm (LSTM)                  (None, 90, 32)            4352      \n",
            "_________________________________________________________________\n",
            "dropout (Dropout)            (None, 90, 32)            0         \n",
            "_________________________________________________________________\n",
            "lstm_1 (LSTM)                (None, 16)                3136      \n",
            "_________________________________________________________________\n",
            "dropout_1 (Dropout)          (None, 16)                0         \n",
            "_________________________________________________________________\n",
            "dense (Dense)                (None, 1)                 17        \n",
            "=================================================================\n",
            "Total params: 7,505\n",
            "Trainable params: 7,505\n",
            "Non-trainable params: 0\n",
            "_________________________________________________________________\n"
          ],
          "name": "stdout"
        }
      ]
    },
    {
      "cell_type": "code",
      "metadata": {
        "id": "gSKBnwssVVJf",
        "colab": {
          "base_uri": "https://localhost:8080/",
          "height": 298
        },
        "outputId": "17751d31-2e11-4a61-b220-7461eb4e95a0"
      },
      "source": [
        "# Plot training & validation loss values\n",
        "plt.plot(history.history['loss'])\n",
        "plt.plot(history.history['val_loss'])\n",
        "plt.title('Model loss')\n",
        "plt.ylabel('Loss')\n",
        "plt.xlabel('Epoch')\n",
        "plt.legend(['Train', 'Test'], loc='upper left')\n",
        "plt.show()"
      ],
      "execution_count": 7,
      "outputs": [
        {
          "output_type": "display_data",
          "data": {
            "image/png": "[encoded data removed]",
            "text/plain": [
              "<Figure size 432x288 with 1 Axes>"
            ]
          },
          "metadata": {
            "tags": []
          }
        }
      ]
    },
    {
      "cell_type": "code",
      "metadata": {
        "id": "bawmbe-aVYTG"
      },
      "source": [
        "# Get the stock prices for 2019 to have our model make the predictions\n",
        "test_data = test_df['Adj Close'].values\n",
        "test_data = test_data.reshape(-1,1)\n",
        "test_data = scaler.transform(test_data)\n",
        "\n",
        "# Create the data to test our model on:\n",
        "time_steps = 90\n",
        "X_test, y_test = create_dataset(test_data, time_steps)\n",
        "\n",
        "# store the original vals for plotting the predictions \n",
        "y_test = y_test.reshape(-1,1)\n",
        "true = y_test\n",
        "org_y = scaler.inverse_transform(y_test)\n",
        "\n",
        "# reshape it [samples, time steps, features]\n",
        "X_test = np.reshape(X_test, (X_test.shape[0], 90, 1))\n",
        "\n",
        "# Predict the prices with the model\n",
        "predicted_y = model.predict(X_test)\n",
        "pred = predicted_y\n",
        "predicted_y = scaler.inverse_transform(predicted_y)\n"
      ],
      "execution_count": 8,
      "outputs": []
    },
    {
      "cell_type": "code",
      "metadata": {
        "id": "TCYMPV6E6iAl",
        "colab": {
          "base_uri": "https://localhost:8080/"
        },
        "outputId": "a59b726b-678a-4ed2-fcbb-a22ef95b3c1f"
      },
      "source": [
        "# MSE\n",
        "difference_array = np.subtract(true, pred)\n",
        "squared_array = np.square(difference_array)\n",
        "mse = squared_array.mean()\n",
        "print(\"MSE :\", mse)\n",
        "\n",
        "# The RMSE\n",
        "from sklearn.metrics import mean_squared_error, mean_absolute_error\n",
        "print(\"RMSE : %.2f\" % mean_squared_error(true, pred, squared=False))\n",
        "\n",
        "# The MAE\n",
        "print(\"MAE : %.2f\" % mean_absolute_error(true, pred))\n",
        "\n",
        "#Mean Absolute Percentange Error\n",
        "MAPE = np.mean(np.abs((true - pred) / true)) * 100\n",
        "print('MAPE : ', MAPE)\n",
        "\n",
        "# Explained variance score: 1 is perfect prediction\n",
        "from sklearn.metrics import r2_score\n",
        "print('R2 score: %.2f' % r2_score(true, pred))"
      ],
      "execution_count": 9,
      "outputs": [
        {
          "output_type": "stream",
          "text": [
            "MSE : 0.0019523567324055795\n",
            "RMSE : 0.04\n",
            "MAE : 0.04\n",
            "MAPE :  inf\n",
            "R2 score: 0.52\n"
          ],
          "name": "stdout"
        }
      ]
    },
    {
      "cell_type": "markdown",
      "metadata": {
        "id": "m0RAfWtxDfnB"
      },
      "source": [
        "We choose the mean square error MSE of all samples as our metric. It can be calculated through Eqn. (47) using test set. Notice that the MSE we calculated are derived from normalized data. That's because there exists huge value gap among di\u000berent stocks. if we use original stock price to evaluate error, the error of high price stocks would probably be much more larger than low price ones, which implies models perform better on high price stocks would very likely to have better overall performance. Thus the performance on low price stocks would become dispensable. To avoid the bias caused by the aforementioned problem we evaluate the error with normalized stock price ranged from -1 to 1. (Li, H., Shen, Y., dan Zhu, Y. 2018. Stock Price Prediction Using attention-based Multi-Input LSTM)"
      ]
    },
    {
      "cell_type": "code",
      "metadata": {
        "id": "Y47_DyXm9Ysk",
        "colab": {
          "base_uri": "https://localhost:8080/",
          "height": 287
        },
        "outputId": "cba3d977-abce-438f-c423-af6d51bae11c"
      },
      "source": [
        "predicted_y = pd.DataFrame(predicted_y)\n",
        "org_y = pd.DataFrame(org_y)\n",
        "describe = pd.DataFrame()\n",
        "describe['True Price'] = org_y[0]\n",
        "describe['Prediction'] = predicted_y[0]\n",
        "describe['difference'] = org_y[0] - predicted_y[0]\n",
        "describe['MAPE (%)'] = abs(describe['difference']/org_y[0]*100)\n",
        "describe.describe()"
      ],
      "execution_count": 10,
      "outputs": [
        {
          "output_type": "execute_result",
          "data": {
            "text/html": [
              "<div>\n",
              "<style scoped>\n",
              "    .dataframe tbody tr th:only-of-type {\n",
              "        vertical-align: middle;\n",
              "    }\n",
              "\n",
              "    .dataframe tbody tr th {\n",
              "        vertical-align: top;\n",
              "    }\n",
              "\n",
              "    .dataframe thead th {\n",
              "        text-align: right;\n",
              "    }\n",
              "</style>\n",
              "<table border=\"1\" class=\"dataframe\">\n",
              "  <thead>\n",
              "    <tr style=\"text-align: right;\">\n",
              "      <th></th>\n",
              "      <th>True Price</th>\n",
              "      <th>Prediction</th>\n",
              "      <th>difference</th>\n",
              "      <th>MAPE (%)</th>\n",
              "    </tr>\n",
              "  </thead>\n",
              "  <tbody>\n",
              "    <tr>\n",
              "      <th>count</th>\n",
              "      <td>242.000000</td>\n",
              "      <td>242.000000</td>\n",
              "      <td>242.000000</td>\n",
              "      <td>242.000000</td>\n",
              "    </tr>\n",
              "    <tr>\n",
              "      <th>mean</th>\n",
              "      <td>1353.016529</td>\n",
              "      <td>1733.225098</td>\n",
              "      <td>-380.208281</td>\n",
              "      <td>35.276143</td>\n",
              "    </tr>\n",
              "    <tr>\n",
              "      <th>std</th>\n",
              "      <td>585.076326</td>\n",
              "      <td>477.245422</td>\n",
              "      <td>144.426840</td>\n",
              "      <td>18.979417</td>\n",
              "    </tr>\n",
              "    <tr>\n",
              "      <th>min</th>\n",
              "      <td>755.000000</td>\n",
              "      <td>1314.741821</td>\n",
              "      <td>-716.972778</td>\n",
              "      <td>1.678376</td>\n",
              "    </tr>\n",
              "    <tr>\n",
              "      <th>25%</th>\n",
              "      <td>960.000000</td>\n",
              "      <td>1412.353760</td>\n",
              "      <td>-476.731720</td>\n",
              "      <td>18.415477</td>\n",
              "    </tr>\n",
              "    <tr>\n",
              "      <th>50%</th>\n",
              "      <td>1080.000000</td>\n",
              "      <td>1489.997375</td>\n",
              "      <td>-417.382629</td>\n",
              "      <td>38.787905</td>\n",
              "    </tr>\n",
              "    <tr>\n",
              "      <th>75%</th>\n",
              "      <td>1480.000000</td>\n",
              "      <td>1833.093384</td>\n",
              "      <td>-274.926636</td>\n",
              "      <td>49.746440</td>\n",
              "    </tr>\n",
              "    <tr>\n",
              "      <th>max</th>\n",
              "      <td>2690.000000</td>\n",
              "      <td>2759.974854</td>\n",
              "      <td>-44.980469</td>\n",
              "      <td>81.270501</td>\n",
              "    </tr>\n",
              "  </tbody>\n",
              "</table>\n",
              "</div>"
            ],
            "text/plain": [
              "        True Price   Prediction  difference    MAPE (%)\n",
              "count   242.000000   242.000000  242.000000  242.000000\n",
              "mean   1353.016529  1733.225098 -380.208281   35.276143\n",
              "std     585.076326   477.245422  144.426840   18.979417\n",
              "min     755.000000  1314.741821 -716.972778    1.678376\n",
              "25%     960.000000  1412.353760 -476.731720   18.415477\n",
              "50%    1080.000000  1489.997375 -417.382629   38.787905\n",
              "75%    1480.000000  1833.093384 -274.926636   49.746440\n",
              "max    2690.000000  2759.974854  -44.980469   81.270501"
            ]
          },
          "metadata": {
            "tags": []
          },
          "execution_count": 10
        }
      ]
    },
    {
      "cell_type": "code",
      "metadata": {
        "id": "UoSeLi8altE4",
        "colab": {
          "base_uri": "https://localhost:8080/",
          "height": 347
        },
        "outputId": "2a813424-710b-4203-c867-fe6be71c30a9"
      },
      "source": [
        "describe.head(10)"
      ],
      "execution_count": 11,
      "outputs": [
        {
          "output_type": "execute_result",
          "data": {
            "text/html": [
              "<div>\n",
              "<style scoped>\n",
              "    .dataframe tbody tr th:only-of-type {\n",
              "        vertical-align: middle;\n",
              "    }\n",
              "\n",
              "    .dataframe tbody tr th {\n",
              "        vertical-align: top;\n",
              "    }\n",
              "\n",
              "    .dataframe thead th {\n",
              "        text-align: right;\n",
              "    }\n",
              "</style>\n",
              "<table border=\"1\" class=\"dataframe\">\n",
              "  <thead>\n",
              "    <tr style=\"text-align: right;\">\n",
              "      <th></th>\n",
              "      <th>True Price</th>\n",
              "      <th>Prediction</th>\n",
              "      <th>difference</th>\n",
              "      <th>MAPE (%)</th>\n",
              "    </tr>\n",
              "  </thead>\n",
              "  <tbody>\n",
              "    <tr>\n",
              "      <th>0</th>\n",
              "      <td>2600.0</td>\n",
              "      <td>2759.974854</td>\n",
              "      <td>-159.974854</td>\n",
              "      <td>6.152879</td>\n",
              "    </tr>\n",
              "    <tr>\n",
              "      <th>1</th>\n",
              "      <td>2690.0</td>\n",
              "      <td>2740.580322</td>\n",
              "      <td>-50.580322</td>\n",
              "      <td>1.880309</td>\n",
              "    </tr>\n",
              "    <tr>\n",
              "      <th>2</th>\n",
              "      <td>2660.0</td>\n",
              "      <td>2731.812256</td>\n",
              "      <td>-71.812256</td>\n",
              "      <td>2.699709</td>\n",
              "    </tr>\n",
              "    <tr>\n",
              "      <th>3</th>\n",
              "      <td>2650.0</td>\n",
              "      <td>2728.805420</td>\n",
              "      <td>-78.805420</td>\n",
              "      <td>2.973789</td>\n",
              "    </tr>\n",
              "    <tr>\n",
              "      <th>4</th>\n",
              "      <td>2580.0</td>\n",
              "      <td>2729.061768</td>\n",
              "      <td>-149.061768</td>\n",
              "      <td>5.777588</td>\n",
              "    </tr>\n",
              "    <tr>\n",
              "      <th>5</th>\n",
              "      <td>2630.0</td>\n",
              "      <td>2726.142578</td>\n",
              "      <td>-96.142578</td>\n",
              "      <td>3.655611</td>\n",
              "    </tr>\n",
              "    <tr>\n",
              "      <th>6</th>\n",
              "      <td>2680.0</td>\n",
              "      <td>2724.980469</td>\n",
              "      <td>-44.980469</td>\n",
              "      <td>1.678376</td>\n",
              "    </tr>\n",
              "    <tr>\n",
              "      <th>7</th>\n",
              "      <td>2640.0</td>\n",
              "      <td>2728.961670</td>\n",
              "      <td>-88.961670</td>\n",
              "      <td>3.369760</td>\n",
              "    </tr>\n",
              "    <tr>\n",
              "      <th>8</th>\n",
              "      <td>2640.0</td>\n",
              "      <td>2733.148682</td>\n",
              "      <td>-93.148682</td>\n",
              "      <td>3.528359</td>\n",
              "    </tr>\n",
              "    <tr>\n",
              "      <th>9</th>\n",
              "      <td>2560.0</td>\n",
              "      <td>2737.077148</td>\n",
              "      <td>-177.077148</td>\n",
              "      <td>6.917076</td>\n",
              "    </tr>\n",
              "  </tbody>\n",
              "</table>\n",
              "</div>"
            ],
            "text/plain": [
              "   True Price   Prediction  difference  MAPE (%)\n",
              "0      2600.0  2759.974854 -159.974854  6.152879\n",
              "1      2690.0  2740.580322  -50.580322  1.880309\n",
              "2      2660.0  2731.812256  -71.812256  2.699709\n",
              "3      2650.0  2728.805420  -78.805420  2.973789\n",
              "4      2580.0  2729.061768 -149.061768  5.777588\n",
              "5      2630.0  2726.142578  -96.142578  3.655611\n",
              "6      2680.0  2724.980469  -44.980469  1.678376\n",
              "7      2640.0  2728.961670  -88.961670  3.369760\n",
              "8      2640.0  2733.148682  -93.148682  3.528359\n",
              "9      2560.0  2737.077148 -177.077148  6.917076"
            ]
          },
          "metadata": {
            "tags": []
          },
          "execution_count": 11
        }
      ]
    },
    {
      "cell_type": "code",
      "metadata": {
        "id": "xriB7R_tWpAM",
        "colab": {
          "base_uri": "https://localhost:8080/"
        },
        "outputId": "8773d3a0-456f-4249-9f51-88fc6edb3011"
      },
      "source": [
        "a = np.array(describe['True Price'])\n",
        "b = np.array(describe['Prediction'])\n",
        "\n",
        "# MSE\n",
        "difference_array = np.subtract(a, b)\n",
        "squared_array = np.square(difference_array)\n",
        "mse = squared_array.mean()\n",
        "print(\"MSE :\", mse)\n",
        "\n",
        "# The RMSE\n",
        "print(\"RMSE: %.2f\" % mean_squared_error(a, b, squared=False))\n",
        "\n",
        "# The MAE\n",
        "print(\"MAE: %.2f\" % mean_absolute_error(a, b))\n",
        "\n",
        "#Mean Absolute Percentange Error\n",
        "c = (np.mean(np.abs((a - b) / a))) * 100\n",
        "print('MAPE : ', c)\n",
        "\n",
        "# Explained variance score: 1 is perfect prediction\n",
        "from sklearn.metrics import r2_score\n",
        "print('R2 score: %.2f' % r2_score(a, b))\n",
        "\n"
      ],
      "execution_count": 12,
      "outputs": [
        {
          "output_type": "stream",
          "text": [
            "MSE : 165331.25420142262\n",
            "RMSE: 406.61\n",
            "MAE: 380.21\n",
            "MAPE :  35.27614329749795\n",
            "R2 score: 0.52\n"
          ],
          "name": "stdout"
        }
      ]
    },
    {
      "cell_type": "code",
      "metadata": {
        "id": "iozJ262YxuM8",
        "colab": {
          "base_uri": "https://localhost:8080/"
        },
        "outputId": "6810da27-a11b-48e4-fdc4-b3ce31458869"
      },
      "source": [
        "print(model.evaluate(X_train, y_train))\n",
        "print(model.evaluate(X_test, y_test))"
      ],
      "execution_count": 13,
      "outputs": [
        {
          "output_type": "stream",
          "text": [
            "38/38 [==============================] - 0s 9ms/step - loss: 4.7170e-04 - accuracy: 8.3126e-04\n",
            "[0.0004716989351436496, 0.0008312552236020565]\n",
            "8/8 [==============================] - 1s 13ms/step - loss: 0.0020 - accuracy: 0.0041\n",
            "[0.0019523566588759422, 0.00413223123177886]\n"
          ],
          "name": "stdout"
        }
      ]
    },
    {
      "cell_type": "code",
      "metadata": {
        "id": "JRT-OjnyZ0PP",
        "colab": {
          "base_uri": "https://localhost:8080/"
        },
        "outputId": "ba9518eb-0687-4aad-abf4-24cfcfa50fd7"
      },
      "source": [
        "print(model.metrics_names)"
      ],
      "execution_count": 14,
      "outputs": [
        {
          "output_type": "stream",
          "text": [
            "['loss', 'accuracy']\n"
          ],
          "name": "stdout"
        }
      ]
    },
    {
      "cell_type": "code",
      "metadata": {
        "id": "qNCPEkeaXNIT"
      },
      "source": [
        "graph  = test_df.drop(test_df.index[0:90])\n",
        "graph.reset_index(inplace=True)\n",
        "graph.rename(columns = {'index':'Date'})\n",
        "graph = graph.drop(columns=['High','Low','Open','Volume','Close'])\n",
        "graph['Predict_Value'] = predicted_y[0]\n",
        "graph.head()\n",
        "graph.set_index('Date', inplace=True)"
      ],
      "execution_count": 15,
      "outputs": []
    },
    {
      "cell_type": "code",
      "metadata": {
        "id": "QF5LdxyJb0bT",
        "colab": {
          "base_uri": "https://localhost:8080/",
          "height": 298
        },
        "outputId": "16373d01-b9bf-4645-e178-513f670875a7"
      },
      "source": [
        "# plot the results \n",
        "plt.plot(graph['Adj Close'], color = 'red', label = 'Real Stock Price')\n",
        "plt.plot(graph['Predict_Value'], color = 'blue', label = 'Predicted Stock Price')\n",
        "#plt.plot(df['Adj Close'], color = 'black', label = 'Past Stock')\n",
        "plt.title('Stock Price Prediction')\n",
        "plt.xlabel('Time')\n",
        "plt.ylabel('Stock Price')\n",
        "plt.legend()\n",
        "plt.savefig('Stock Price SVR LSTM 1.png')\n",
        "files.download(\"Stock Price SVR LSTM 1.png\")\n",
        "plt.show()"
      ],
      "execution_count": 16,
      "outputs": [
        {
          "output_type": "display_data",
          "data": {
            "application/javascript": [
              "\n",
              "    async function download(id, filename, size) {\n",
              "      if (!google.colab.kernel.accessAllowed) {\n",
              "        return;\n",
              "      }\n",
              "      const div = document.createElement('div');\n",
              "      const label = document.createElement('label');\n",
              "      label.textContent = `Downloading \"${filename}\": `;\n",
              "      div.appendChild(label);\n",
              "      const progress = document.createElement('progress');\n",
              "      progress.max = size;\n",
              "      div.appendChild(progress);\n",
              "      document.body.appendChild(div);\n",
              "\n",
              "      const buffers = [];\n",
              "      let downloaded = 0;\n",
              "\n",
              "      const channel = await google.colab.kernel.comms.open(id);\n",
              "      // Send a message to notify the kernel that we're ready.\n",
              "      channel.send({})\n",
              "\n",
              "      for await (const message of channel.messages) {\n",
              "        // Send a message to notify the kernel that we're ready.\n",
              "        channel.send({})\n",
              "        if (message.buffers) {\n",
              "          for (const buffer of message.buffers) {\n",
              "            buffers.push(buffer);\n",
              "            downloaded += buffer.byteLength;\n",
              "            progress.value = downloaded;\n",
              "          }\n",
              "        }\n",
              "      }\n",
              "      const blob = new Blob(buffers, {type: 'application/binary'});\n",
              "      const a = document.createElement('a');\n",
              "      a.href = window.URL.createObjectURL(blob);\n",
              "      a.download = filename;\n",
              "      div.appendChild(a);\n",
              "      a.click();\n",
              "      div.remove();\n",
              "    }\n",
              "  "
            ],
            "text/plain": [
              "<IPython.core.display.Javascript object>"
            ]
          },
          "metadata": {
            "tags": []
          }
        },
        {
          "output_type": "display_data",
          "data": {
            "application/javascript": [
              "download(\"download_9ccdd670-7cc6-4f63-998a-918df09d1faa\", \"Stock Price SVR LSTM 1.png\", 30705)"
            ],
            "text/plain": [
              "<IPython.core.display.Javascript object>"
            ]
          },
          "metadata": {
            "tags": []
          }
        },
        {
          "output_type": "display_data",
          "data": {
            "image/png": "[encoded data removed]",
            "text/plain": [
              "<Figure size 432x288 with 1 Axes>"
            ]
          },
          "metadata": {
            "tags": []
          }
        }
      ]
    },
    {
      "cell_type": "code",
      "metadata": {
        "id": "RRepTsPgEuXx"
      },
      "source": [
        "final  = test_df.drop(test_df.index[0:90])\n",
        "final.reset_index(inplace=True)\n",
        "final.rename(columns = {'index':'Date'})\n",
        "final = final.drop(columns=['High','Low','Open','Volume','Close'])\n",
        "final['Predict_Value'] = predicted_y[0]\n",
        "final['Selisih'] = final['Adj Close'] - final['Predict_Value']\n",
        "final['Lost/Risk (%)'] = abs((final['Adj Close'] - final['Predict_Value'])/final['Predict_Value']*100)\n",
        "final = final.drop(columns=['Adj Close'])"
      ],
      "execution_count": 17,
      "outputs": []
    },
    {
      "cell_type": "code",
      "metadata": {
        "id": "DhwcCvlTySN1"
      },
      "source": [
        "percent = test_df.drop(test_df.index[0:35])\n",
        "percent = percent.drop(test_df.index[-1])\n",
        "percent.reset_index(inplace=True)\n",
        "percent.rename(columns = {'index':'Date'}) \n",
        "percent = percent.drop(columns=['High','Low','Open','Volume','Close'])\n",
        "percent['Next Day'] = predicted_y\n",
        "percent['Plus or Minus']= percent['Adj Close'] - percent['Next Day']\n",
        "percent['Next Day (%)']= (((percent['Adj Close'] - percent['Next Day'])/percent['Adj Close'])*100)"
      ],
      "execution_count": 18,
      "outputs": []
    },
    {
      "cell_type": "code",
      "metadata": {
        "id": "sllI6VucG__o"
      },
      "source": [
        "True_Next_Day = test_df.drop(test_df.index[0:35])\n",
        "True_Next_Day = True_Next_Day.drop(test_df.index[-1])\n",
        "True_Next_Day.reset_index(inplace=True)\n",
        "True_Next_Day.rename(columns = {'index':'Date'}) \n",
        "True_Next_Day = True_Next_Day.drop(columns=['High','Low','Open','Volume','Close'])\n",
        "True_Next_Day['True Next Day'] = org_y\n",
        "True_Next_Day['True Plus or Minus']= (True_Next_Day['Adj Close'] - True_Next_Day['True Next Day'])\n",
        "True_Next_Day['True Next Day (%)']= (((True_Next_Day['Adj Close'] - True_Next_Day['True Next Day'])/True_Next_Day['Adj Close'])*100)\n",
        "True_Next_Day = True_Next_Day.drop(columns=['Adj Close'])"
      ],
      "execution_count": 19,
      "outputs": []
    },
    {
      "cell_type": "code",
      "metadata": {
        "id": "121c4YuD-aJq",
        "colab": {
          "base_uri": "https://localhost:8080/"
        },
        "outputId": "e19ecec6-21ff-488d-cd15-9ac5e3cef549"
      },
      "source": [
        "Concating = percent.merge(final, how='outer', on='Date')\n",
        "Concating = Concating.merge(True_Next_Day, how='outer', on='Date')\n",
        "#Concating.set_index('Date', inplace=True)\n",
        "Final_Predict = Concating.copy()\n",
        "Final_Predict['Harga Saham Hari ini'] = Concating['Adj Close']\n",
        "Final_Predict['Prediksi Besok'] = Concating['Plus or Minus']\n",
        "Final_Predict['Harga Besok Sebenarnya'] = Concating['True Plus or Minus']\n",
        "Final_Predict['Prediksi Besok (%)'] = (Concating['Next Day (%)'])\n",
        "Final_Predict['Harga Besok Sebenarnya (%)'] = Concating['True Next Day (%)']\n",
        "Final_Predict['Selisih Prediksi'] = (Final_Predict['Harga Besok Sebenarnya'] - Final_Predict['Prediksi Besok'])\n",
        "Final_Predict['Harga Sebenarnya'] = Concating['True Next Day']\n",
        "#Mape V1\n",
        "Final_Predict['Risk/MAPE(%) - V1'] = (np.abs((Final_Predict['Harga Besok Sebenarnya'] - Final_Predict['Prediksi Besok']) / Final_Predict['Harga Sebenarnya'])) * 100\n",
        "Final_Predict['Risk/MAPE(%) - V1'] = round(Final_Predict['Risk/MAPE(%) - V1'], 2)\n",
        "#Mape V2\n",
        "Final_Predict['Risk/MAPE(%)- V2'] = (np.abs((Final_Predict['Harga Besok Sebenarnya'] - Final_Predict['Prediksi Besok']) / Final_Predict['Harga Besok Sebenarnya'])) * 100\n",
        "Final_Predict['Risk/MAPE(%)- V2'] = round(Final_Predict['Risk/MAPE(%)- V2'], 2)\n",
        "Final_Predict = Final_Predict.drop(columns=['Adj Close', 'Next Day', 'Plus or Minus', 'Next Day (%)',\n",
        "                                            'Predict_Value', 'Selisih', 'Lost/Risk (%)', 'True Plus or Minus',\n",
        "                                            'True Next Day (%)','True Next Day'])\n",
        "Final_Predict = Final_Predict.replace(0, np.nan)\n",
        "Final_Predict = Final_Predict.dropna()\n",
        "Final_Predict['Prediksi Uptrend'] = Final_Predict['Prediksi Besok'].apply(lambda x: 1 if x >= 0 else 0)\n",
        "Final_Predict['Asli Uptrend'] = Final_Predict['Harga Besok Sebenarnya'].apply(lambda x: 1 if x >= 0 else 0)\n",
        "Final_Predict.set_index('Date', inplace=True)\n",
        "Final_Predict.shape"
      ],
      "execution_count": 20,
      "outputs": [
        {
          "output_type": "execute_result",
          "data": {
            "text/plain": [
              "(240, 11)"
            ]
          },
          "metadata": {
            "tags": []
          },
          "execution_count": 20
        }
      ]
    },
    {
      "cell_type": "markdown",
      "metadata": {
        "id": "-B7BojpJDQgu"
      },
      "source": [
        "Risk Ekspektasi - Blindly belief\n",
        "\n",
        "Logika ekpektasi - Saham A saya beli kemarin Rp. 1000, dan prediksi ML LSTM menginfokan hari ini naik 200 menjadi 1200 sehingga saya tergetkan jual 1200. ketika saya jual 1200, ternyata harga penutupannya 1500, naik 500. berarti selisihnya dari prediksi dan harga asli adalah Rp 300 (Rp. 500 - Rp. 200), menandakan risiko ekpektasinya adalah 20% (Rp 300/1500) - Mape V1 - dari harga saham, sedangkan risiko ekpektasi kenaikan dan penurunannya adalah 60% dari ekpektasi kehilangan peluang (Ekpektasi peluang = (500-200)/500*100) - Mape V2 -\n",
        "\n",
        "Risiko Ekpektasi lainnya - \n",
        "Saham A saya beli kemarin Rp. 1000 dengan prediksi ML LSTM hari ini 1200, naik 200 sehingga saya tergetkan jual Rp. 1200. ketika saya melihat saham menyentuh 800, saya pikir itu adalah kesempatan beli karena perkiraan penutupan ML LSTM adalah 1200, dengan harapan mendapat keutungan ketika penutupan. Namun, prediksinya salah, dan ternyata penutupannya adalah 800 dan saham saya tidak laku, dan terjadi penurunan 200 dari hari kemarin. Disini saya kehilangan kesempatan cut loss dan justru menumpuk saham ketika seharusnya cutloss. Jika dikalkulasikan -400 dari harapan awal 1200 menjadi 800 (-200-200), menandakan risk ekpektasi dari harga sahamnya 50% (-400/800*100), atau perbedaan ekpektasinya 200% dari peluang cutloss. Risiko dari ketamakan."
      ]
    },
    {
      "cell_type": "code",
      "metadata": {
        "id": "ookffGOJ-lmk",
        "colab": {
          "base_uri": "https://localhost:8080/",
          "height": 561
        },
        "outputId": "18e40b19-9744-4b30-e544-3a6266faa7f3"
      },
      "source": [
        "Final_Predict.head(10)"
      ],
      "execution_count": 21,
      "outputs": [
        {
          "output_type": "execute_result",
          "data": {
            "text/html": [
              "<div>\n",
              "<style scoped>\n",
              "    .dataframe tbody tr th:only-of-type {\n",
              "        vertical-align: middle;\n",
              "    }\n",
              "\n",
              "    .dataframe tbody tr th {\n",
              "        vertical-align: top;\n",
              "    }\n",
              "\n",
              "    .dataframe thead th {\n",
              "        text-align: right;\n",
              "    }\n",
              "</style>\n",
              "<table border=\"1\" class=\"dataframe\">\n",
              "  <thead>\n",
              "    <tr style=\"text-align: right;\">\n",
              "      <th></th>\n",
              "      <th>Harga Saham Hari ini</th>\n",
              "      <th>Prediksi Besok</th>\n",
              "      <th>Harga Besok Sebenarnya</th>\n",
              "      <th>Prediksi Besok (%)</th>\n",
              "      <th>Harga Besok Sebenarnya (%)</th>\n",
              "      <th>Selisih Prediksi</th>\n",
              "      <th>Harga Sebenarnya</th>\n",
              "      <th>Risk/MAPE(%) - V1</th>\n",
              "      <th>Risk/MAPE(%)- V2</th>\n",
              "      <th>Prediksi Uptrend</th>\n",
              "      <th>Asli Uptrend</th>\n",
              "    </tr>\n",
              "    <tr>\n",
              "      <th>Date</th>\n",
              "      <th></th>\n",
              "      <th></th>\n",
              "      <th></th>\n",
              "      <th></th>\n",
              "      <th></th>\n",
              "      <th></th>\n",
              "      <th></th>\n",
              "      <th></th>\n",
              "      <th></th>\n",
              "      <th></th>\n",
              "      <th></th>\n",
              "    </tr>\n",
              "  </thead>\n",
              "  <tbody>\n",
              "    <tr>\n",
              "      <th>2019-10-11</th>\n",
              "      <td>2440.0</td>\n",
              "      <td>-319.974854</td>\n",
              "      <td>-160.0</td>\n",
              "      <td>-13.113724</td>\n",
              "      <td>-6.557377</td>\n",
              "      <td>159.974854</td>\n",
              "      <td>2600.0</td>\n",
              "      <td>6.15</td>\n",
              "      <td>99.98</td>\n",
              "      <td>0</td>\n",
              "      <td>0</td>\n",
              "    </tr>\n",
              "    <tr>\n",
              "      <th>2019-10-14</th>\n",
              "      <td>2440.0</td>\n",
              "      <td>-300.580322</td>\n",
              "      <td>-250.0</td>\n",
              "      <td>-12.318866</td>\n",
              "      <td>-10.245902</td>\n",
              "      <td>50.580322</td>\n",
              "      <td>2690.0</td>\n",
              "      <td>1.88</td>\n",
              "      <td>20.23</td>\n",
              "      <td>0</td>\n",
              "      <td>0</td>\n",
              "    </tr>\n",
              "    <tr>\n",
              "      <th>2019-10-15</th>\n",
              "      <td>2450.0</td>\n",
              "      <td>-281.812256</td>\n",
              "      <td>-210.0</td>\n",
              "      <td>-11.502541</td>\n",
              "      <td>-8.571429</td>\n",
              "      <td>71.812256</td>\n",
              "      <td>2660.0</td>\n",
              "      <td>2.70</td>\n",
              "      <td>34.20</td>\n",
              "      <td>0</td>\n",
              "      <td>0</td>\n",
              "    </tr>\n",
              "    <tr>\n",
              "      <th>2019-10-16</th>\n",
              "      <td>2400.0</td>\n",
              "      <td>-328.805420</td>\n",
              "      <td>-250.0</td>\n",
              "      <td>-13.700226</td>\n",
              "      <td>-10.416667</td>\n",
              "      <td>78.805420</td>\n",
              "      <td>2650.0</td>\n",
              "      <td>2.97</td>\n",
              "      <td>31.52</td>\n",
              "      <td>0</td>\n",
              "      <td>0</td>\n",
              "    </tr>\n",
              "    <tr>\n",
              "      <th>2019-10-17</th>\n",
              "      <td>2360.0</td>\n",
              "      <td>-369.061768</td>\n",
              "      <td>-220.0</td>\n",
              "      <td>-15.638210</td>\n",
              "      <td>-9.322034</td>\n",
              "      <td>149.061768</td>\n",
              "      <td>2580.0</td>\n",
              "      <td>5.78</td>\n",
              "      <td>67.76</td>\n",
              "      <td>0</td>\n",
              "      <td>0</td>\n",
              "    </tr>\n",
              "    <tr>\n",
              "      <th>2019-10-18</th>\n",
              "      <td>2330.0</td>\n",
              "      <td>-396.142578</td>\n",
              "      <td>-300.0</td>\n",
              "      <td>-17.001827</td>\n",
              "      <td>-12.875536</td>\n",
              "      <td>96.142578</td>\n",
              "      <td>2630.0</td>\n",
              "      <td>3.66</td>\n",
              "      <td>32.05</td>\n",
              "      <td>0</td>\n",
              "      <td>0</td>\n",
              "    </tr>\n",
              "    <tr>\n",
              "      <th>2019-10-21</th>\n",
              "      <td>2330.0</td>\n",
              "      <td>-394.980469</td>\n",
              "      <td>-350.0</td>\n",
              "      <td>-16.951951</td>\n",
              "      <td>-15.021459</td>\n",
              "      <td>44.980469</td>\n",
              "      <td>2680.0</td>\n",
              "      <td>1.68</td>\n",
              "      <td>12.85</td>\n",
              "      <td>0</td>\n",
              "      <td>0</td>\n",
              "    </tr>\n",
              "    <tr>\n",
              "      <th>2019-10-22</th>\n",
              "      <td>2320.0</td>\n",
              "      <td>-408.961670</td>\n",
              "      <td>-320.0</td>\n",
              "      <td>-17.627658</td>\n",
              "      <td>-13.793103</td>\n",
              "      <td>88.961670</td>\n",
              "      <td>2640.0</td>\n",
              "      <td>3.37</td>\n",
              "      <td>27.80</td>\n",
              "      <td>0</td>\n",
              "      <td>0</td>\n",
              "    </tr>\n",
              "    <tr>\n",
              "      <th>2019-10-23</th>\n",
              "      <td>2400.0</td>\n",
              "      <td>-333.148682</td>\n",
              "      <td>-240.0</td>\n",
              "      <td>-13.881195</td>\n",
              "      <td>-10.000000</td>\n",
              "      <td>93.148682</td>\n",
              "      <td>2640.0</td>\n",
              "      <td>3.53</td>\n",
              "      <td>38.81</td>\n",
              "      <td>0</td>\n",
              "      <td>0</td>\n",
              "    </tr>\n",
              "    <tr>\n",
              "      <th>2019-10-24</th>\n",
              "      <td>2420.0</td>\n",
              "      <td>-317.077148</td>\n",
              "      <td>-140.0</td>\n",
              "      <td>-13.102362</td>\n",
              "      <td>-5.785124</td>\n",
              "      <td>177.077148</td>\n",
              "      <td>2560.0</td>\n",
              "      <td>6.92</td>\n",
              "      <td>126.48</td>\n",
              "      <td>0</td>\n",
              "      <td>0</td>\n",
              "    </tr>\n",
              "  </tbody>\n",
              "</table>\n",
              "</div>"
            ],
            "text/plain": [
              "            Harga Saham Hari ini  ...  Asli Uptrend\n",
              "Date                              ...              \n",
              "2019-10-11                2440.0  ...             0\n",
              "2019-10-14                2440.0  ...             0\n",
              "2019-10-15                2450.0  ...             0\n",
              "2019-10-16                2400.0  ...             0\n",
              "2019-10-17                2360.0  ...             0\n",
              "2019-10-18                2330.0  ...             0\n",
              "2019-10-21                2330.0  ...             0\n",
              "2019-10-22                2320.0  ...             0\n",
              "2019-10-23                2400.0  ...             0\n",
              "2019-10-24                2420.0  ...             0\n",
              "\n",
              "[10 rows x 11 columns]"
            ]
          },
          "metadata": {
            "tags": []
          },
          "execution_count": 21
        }
      ]
    },
    {
      "cell_type": "code",
      "metadata": {
        "id": "nJ8kSjYQ4Mru",
        "colab": {
          "base_uri": "https://localhost:8080/"
        },
        "outputId": "c14bdade-40d7-4370-dc38-5a242a0b044e"
      },
      "source": [
        "MAPE_V1 = np.mean(np.abs((Final_Predict['Harga Besok Sebenarnya'] - Final_Predict['Prediksi Besok']) / Final_Predict['Harga Sebenarnya'])) * 100\n",
        "print('Mape V1 :', MAPE_V1)"
      ],
      "execution_count": 22,
      "outputs": [
        {
          "output_type": "stream",
          "text": [
            "Mape V1 : 35.17334909555348\n"
          ],
          "name": "stdout"
        }
      ]
    },
    {
      "cell_type": "code",
      "metadata": {
        "id": "wmiuagMCKc3w",
        "colab": {
          "base_uri": "https://localhost:8080/"
        },
        "outputId": "4742dcd4-5b82-4322-c9cf-f14c441506fe"
      },
      "source": [
        "pred_uptrend = Final_Predict['Prediksi Uptrend']\n",
        "true_trend = Final_Predict['Asli Uptrend']\n",
        "\n",
        "# calculate accuracy\n",
        "from sklearn.metrics import accuracy_score\n",
        "Accuracy = accuracy_score(true_trend, pred_uptrend)\n",
        "print('Accuracy :', Accuracy)\n",
        "\n",
        "\n",
        "# calculate prediction\n",
        "from sklearn.metrics import precision_score\n",
        "precision = precision_score(true_trend, pred_uptrend, average='binary')\n",
        "print('Precision : %.3f' % precision)\n",
        "\n",
        "# calculate recall\n",
        "from sklearn.metrics import recall_score\n",
        "recall = recall_score(true_trend, pred_uptrend, average='binary')\n",
        "print('Recall : %.3f' % recall)\n",
        "\n",
        "# calculate score\n",
        "from sklearn.metrics import f1_score\n",
        "score = f1_score(true_trend, pred_uptrend, average='binary')\n",
        "print('F1 Score : %.3f' % score)\n",
        "\n",
        "#AUC Score\n",
        "from sklearn.metrics import roc_auc_score \n",
        "auc = roc_auc_score(true_trend, pred_uptrend)\n",
        "print('AUC Score : ', auc)"
      ],
      "execution_count": 23,
      "outputs": [
        {
          "output_type": "stream",
          "text": [
            "Accuracy : 0.7291666666666666\n",
            "Precision : 1.000\n",
            "Recall : 0.500\n",
            "F1 Score : 0.667\n",
            "AUC Score :  0.75\n"
          ],
          "name": "stdout"
        }
      ]
    },
    {
      "cell_type": "code",
      "metadata": {
        "id": "J7yPx3k8WolI",
        "colab": {
          "base_uri": "https://localhost:8080/",
          "height": 337
        },
        "outputId": "b0e37a47-fa80-4d86-f1de-71e66c3e41bb"
      },
      "source": [
        "from sklearn.metrics import confusion_matrix\n",
        "import seaborn as sns\n",
        "import matplotlib.pyplot as plt\n",
        "\n",
        "confusion_matrix(true_trend, pred_uptrend)\n",
        "plt.figure(figsize = (6, 5))\n",
        "sns.heatmap(confusion_matrix(true_trend, pred_uptrend), annot = True)"
      ],
      "execution_count": 24,
      "outputs": [
        {
          "output_type": "execute_result",
          "data": {
            "text/plain": [
              "<matplotlib.axes._subplots.AxesSubplot at 0x7f0b8375ef50>"
            ]
          },
          "metadata": {
            "tags": []
          },
          "execution_count": 24
        },
        {
          "output_type": "display_data",
          "data": {
            "image/png": "[encoded data removed]",
            "text/plain": [
              "<Figure size 432x360 with 2 Axes>"
            ]
          },
          "metadata": {
            "tags": []
          }
        }
      ]
    },
    {
      "cell_type": "code",
      "metadata": {
        "id": "GL0g9D5qPtTK",
        "colab": {
          "base_uri": "https://localhost:8080/",
          "height": 282
        },
        "outputId": "1133454a-4b60-4f21-ccea-1244912ddb24"
      },
      "source": [
        "from sklearn.metrics import roc_curve \n",
        "fpr, tpr, thresholds = roc_curve(true_trend, pred_uptrend)\n",
        "\n",
        "\n",
        "import matplotlib.pyplot as plt \n",
        "plt.plot(fpr, tpr) \n",
        "plt.xlabel(\"False Positive Rate\") \n",
        "plt.ylabel(\"True Positive Rate\") \n",
        "plt.plot([0, 1], [0, 1], \"k--\") \n",
        "plt.show()"
      ],
      "execution_count": 25,
      "outputs": [
        {
          "output_type": "display_data",
          "data": {
            "image/png": "[encoded data removed]",
            "text/plain": [
              "<Figure size 432x288 with 1 Axes>"
            ]
          },
          "metadata": {
            "tags": []
          }
        }
      ]
    },
    {
      "cell_type": "code",
      "metadata": {
        "id": "kgXVUoOccIB1",
        "colab": {
          "base_uri": "https://localhost:8080/",
          "height": 298
        },
        "outputId": "f6f234a8-09a9-41d8-e6c4-574182abb879"
      },
      "source": [
        "# plot the results \n",
        "plt.plot(Final_Predict['Prediksi Besok'], color = 'red', label = 'Real Stock Price')\n",
        "plt.plot(Final_Predict['Harga Besok Sebenarnya'], color = 'blue', label = 'Predicted Stock Price')\n",
        "#plt.plot(Final_Predict['Risk/MAPE(%)'], color = 'black', label = 'RISK/MAPE(%)')\n",
        "plt.title('Stock Price Prediction')\n",
        "plt.xlabel('Time')\n",
        "plt.ylabel('Stock Price')\n",
        "plt.legend()\n",
        "plt.savefig('Stock Price SVR LSTM 1.png')\n",
        "files.download(\"Stock Price SVR LSTM 1.png\")\n",
        "plt.show()"
      ],
      "execution_count": 26,
      "outputs": [
        {
          "output_type": "display_data",
          "data": {
            "application/javascript": [
              "\n",
              "    async function download(id, filename, size) {\n",
              "      if (!google.colab.kernel.accessAllowed) {\n",
              "        return;\n",
              "      }\n",
              "      const div = document.createElement('div');\n",
              "      const label = document.createElement('label');\n",
              "      label.textContent = `Downloading \"${filename}\": `;\n",
              "      div.appendChild(label);\n",
              "      const progress = document.createElement('progress');\n",
              "      progress.max = size;\n",
              "      div.appendChild(progress);\n",
              "      document.body.appendChild(div);\n",
              "\n",
              "      const buffers = [];\n",
              "      let downloaded = 0;\n",
              "\n",
              "      const channel = await google.colab.kernel.comms.open(id);\n",
              "      // Send a message to notify the kernel that we're ready.\n",
              "      channel.send({})\n",
              "\n",
              "      for await (const message of channel.messages) {\n",
              "        // Send a message to notify the kernel that we're ready.\n",
              "        channel.send({})\n",
              "        if (message.buffers) {\n",
              "          for (const buffer of message.buffers) {\n",
              "            buffers.push(buffer);\n",
              "            downloaded += buffer.byteLength;\n",
              "            progress.value = downloaded;\n",
              "          }\n",
              "        }\n",
              "      }\n",
              "      const blob = new Blob(buffers, {type: 'application/binary'});\n",
              "      const a = document.createElement('a');\n",
              "      a.href = window.URL.createObjectURL(blob);\n",
              "      a.download = filename;\n",
              "      div.appendChild(a);\n",
              "      a.click();\n",
              "      div.remove();\n",
              "    }\n",
              "  "
            ],
            "text/plain": [
              "<IPython.core.display.Javascript object>"
            ]
          },
          "metadata": {
            "tags": []
          }
        },
        {
          "output_type": "display_data",
          "data": {
            "application/javascript": [
              "download(\"download_0942e8cd-6ff0-479c-b9be-4c5c0eea9908\", \"Stock Price SVR LSTM 1.png\", 30790)"
            ],
            "text/plain": [
              "<IPython.core.display.Javascript object>"
            ]
          },
          "metadata": {
            "tags": []
          }
        },
        {
          "output_type": "display_data",
          "data": {
            "image/png": "[encoded data removed]",
            "text/plain": [
              "<Figure size 432x288 with 1 Axes>"
            ]
          },
          "metadata": {
            "tags": []
          }
        }
      ]
    },
    {
      "cell_type": "code",
      "metadata": {
        "id": "towGbwPBLWUk"
      },
      "source": [
        "#### Mencari Data STAT MODEL"
      ],
      "execution_count": 27,
      "outputs": []
    },
    {
      "cell_type": "code",
      "metadata": {
        "id": "UiadXxndQ2NX"
      },
      "source": [
        "a = X_test\n",
        "a = np.reshape(a, (-1, 90))\n",
        "a = scaler.inverse_transform(a)\n",
        "a = pd.DataFrame(a)"
      ],
      "execution_count": 28,
      "outputs": []
    },
    {
      "cell_type": "code",
      "metadata": {
        "id": "ErHLvejACioW"
      },
      "source": [
        "b = y_test\n",
        "#b = np.reshape(b, (-1, 90))\n",
        "b = scaler.inverse_transform(b)\n",
        "b = pd.DataFrame(b)"
      ],
      "execution_count": 29,
      "outputs": []
    },
    {
      "cell_type": "code",
      "metadata": {
        "id": "O62uEaEkLyWO"
      },
      "source": [
        "#OLS Model\n",
        "import statsmodels.api as sm\n",
        "X = a\n",
        "Y = b\n",
        "X = sm.add_constant(X)\n",
        "model_ols = sm.OLS(Y,X)\n",
        "results = model_ols.fit()"
      ],
      "execution_count": 30,
      "outputs": []
    },
    {
      "cell_type": "code",
      "metadata": {
        "id": "_CaG_RGcMpzM",
        "colab": {
          "base_uri": "https://localhost:8080/",
          "height": 1000
        },
        "outputId": "76cdb0b9-f355-4b9a-c76f-eec4c766fdc2"
      },
      "source": [
        "results.summary()"
      ],
      "execution_count": 31,
      "outputs": [
        {
          "output_type": "execute_result",
          "data": {
            "text/html": [
              "<table class=\"simpletable\">\n",
              "<caption>OLS Regression Results</caption>\n",
              "<tr>\n",
              "  <th>Dep. Variable:</th>            <td>0</td>        <th>  R-squared:         </th> <td>   0.996</td> \n",
              "</tr>\n",
              "<tr>\n",
              "  <th>Model:</th>                   <td>OLS</td>       <th>  Adj. R-squared:    </th> <td>   0.994</td> \n",
              "</tr>\n",
              "<tr>\n",
              "  <th>Method:</th>             <td>Least Squares</td>  <th>  F-statistic:       </th> <td>   436.2</td> \n",
              "</tr>\n",
              "<tr>\n",
              "  <th>Date:</th>             <td>Tue, 18 May 2021</td> <th>  Prob (F-statistic):</th> <td>3.13e-150</td>\n",
              "</tr>\n",
              "<tr>\n",
              "  <th>Time:</th>                 <td>12:45:55</td>     <th>  Log-Likelihood:    </th> <td> -1211.5</td> \n",
              "</tr>\n",
              "<tr>\n",
              "  <th>No. Observations:</th>      <td>   242</td>      <th>  AIC:               </th> <td>   2605.</td> \n",
              "</tr>\n",
              "<tr>\n",
              "  <th>Df Residuals:</th>          <td>   151</td>      <th>  BIC:               </th> <td>   2923.</td> \n",
              "</tr>\n",
              "<tr>\n",
              "  <th>Df Model:</th>              <td>    90</td>      <th>                     </th>     <td> </td>    \n",
              "</tr>\n",
              "<tr>\n",
              "  <th>Covariance Type:</th>      <td>nonrobust</td>    <th>                     </th>     <td> </td>    \n",
              "</tr>\n",
              "</table>\n",
              "<table class=\"simpletable\">\n",
              "<tr>\n",
              "    <td></td>       <th>coef</th>     <th>std err</th>      <th>t</th>      <th>P>|t|</th>  <th>[0.025</th>    <th>0.975]</th>  \n",
              "</tr>\n",
              "<tr>\n",
              "  <th>const</th> <td>    8.9997</td> <td>    9.640</td> <td>    0.934</td> <td> 0.352</td> <td>  -10.047</td> <td>   28.047</td>\n",
              "</tr>\n",
              "<tr>\n",
              "  <th>0</th>     <td>   -0.0667</td> <td>    0.063</td> <td>   -1.064</td> <td> 0.289</td> <td>   -0.191</td> <td>    0.057</td>\n",
              "</tr>\n",
              "<tr>\n",
              "  <th>1</th>     <td>    0.0512</td> <td>    0.101</td> <td>    0.508</td> <td> 0.612</td> <td>   -0.148</td> <td>    0.251</td>\n",
              "</tr>\n",
              "<tr>\n",
              "  <th>2</th>     <td>   -0.0083</td> <td>    0.102</td> <td>   -0.081</td> <td> 0.936</td> <td>   -0.210</td> <td>    0.194</td>\n",
              "</tr>\n",
              "<tr>\n",
              "  <th>3</th>     <td>    0.0960</td> <td>    0.102</td> <td>    0.938</td> <td> 0.350</td> <td>   -0.106</td> <td>    0.298</td>\n",
              "</tr>\n",
              "<tr>\n",
              "  <th>4</th>     <td>   -0.0764</td> <td>    0.102</td> <td>   -0.746</td> <td> 0.457</td> <td>   -0.279</td> <td>    0.126</td>\n",
              "</tr>\n",
              "<tr>\n",
              "  <th>5</th>     <td>    0.0253</td> <td>    0.103</td> <td>    0.247</td> <td> 0.805</td> <td>   -0.177</td> <td>    0.228</td>\n",
              "</tr>\n",
              "<tr>\n",
              "  <th>6</th>     <td>    0.0284</td> <td>    0.103</td> <td>    0.276</td> <td> 0.783</td> <td>   -0.174</td> <td>    0.231</td>\n",
              "</tr>\n",
              "<tr>\n",
              "  <th>7</th>     <td>   -0.0797</td> <td>    0.103</td> <td>   -0.776</td> <td> 0.439</td> <td>   -0.283</td> <td>    0.123</td>\n",
              "</tr>\n",
              "<tr>\n",
              "  <th>8</th>     <td>   -0.0120</td> <td>    0.103</td> <td>   -0.117</td> <td> 0.907</td> <td>   -0.215</td> <td>    0.191</td>\n",
              "</tr>\n",
              "<tr>\n",
              "  <th>9</th>     <td>   -0.0150</td> <td>    0.103</td> <td>   -0.146</td> <td> 0.884</td> <td>   -0.219</td> <td>    0.189</td>\n",
              "</tr>\n",
              "<tr>\n",
              "  <th>10</th>    <td>    0.1250</td> <td>    0.104</td> <td>    1.199</td> <td> 0.232</td> <td>   -0.081</td> <td>    0.331</td>\n",
              "</tr>\n",
              "<tr>\n",
              "  <th>11</th>    <td>   -0.0895</td> <td>    0.105</td> <td>   -0.857</td> <td> 0.393</td> <td>   -0.296</td> <td>    0.117</td>\n",
              "</tr>\n",
              "<tr>\n",
              "  <th>12</th>    <td>    0.0689</td> <td>    0.104</td> <td>    0.660</td> <td> 0.510</td> <td>   -0.137</td> <td>    0.275</td>\n",
              "</tr>\n",
              "<tr>\n",
              "  <th>13</th>    <td>   -0.1175</td> <td>    0.104</td> <td>   -1.131</td> <td> 0.260</td> <td>   -0.323</td> <td>    0.088</td>\n",
              "</tr>\n",
              "<tr>\n",
              "  <th>14</th>    <td>   -0.0540</td> <td>    0.105</td> <td>   -0.516</td> <td> 0.607</td> <td>   -0.261</td> <td>    0.153</td>\n",
              "</tr>\n",
              "<tr>\n",
              "  <th>15</th>    <td>    0.1558</td> <td>    0.105</td> <td>    1.480</td> <td> 0.141</td> <td>   -0.052</td> <td>    0.364</td>\n",
              "</tr>\n",
              "<tr>\n",
              "  <th>16</th>    <td>   -0.0896</td> <td>    0.106</td> <td>   -0.849</td> <td> 0.397</td> <td>   -0.298</td> <td>    0.119</td>\n",
              "</tr>\n",
              "<tr>\n",
              "  <th>17</th>    <td>    0.1230</td> <td>    0.106</td> <td>    1.166</td> <td> 0.245</td> <td>   -0.085</td> <td>    0.331</td>\n",
              "</tr>\n",
              "<tr>\n",
              "  <th>18</th>    <td>   -0.0576</td> <td>    0.105</td> <td>   -0.547</td> <td> 0.585</td> <td>   -0.265</td> <td>    0.150</td>\n",
              "</tr>\n",
              "<tr>\n",
              "  <th>19</th>    <td>    0.0553</td> <td>    0.106</td> <td>    0.523</td> <td> 0.601</td> <td>   -0.153</td> <td>    0.264</td>\n",
              "</tr>\n",
              "<tr>\n",
              "  <th>20</th>    <td>   -0.0647</td> <td>    0.106</td> <td>   -0.612</td> <td> 0.541</td> <td>   -0.274</td> <td>    0.144</td>\n",
              "</tr>\n",
              "<tr>\n",
              "  <th>21</th>    <td>   -0.0021</td> <td>    0.106</td> <td>   -0.020</td> <td> 0.984</td> <td>   -0.212</td> <td>    0.207</td>\n",
              "</tr>\n",
              "<tr>\n",
              "  <th>22</th>    <td>    0.0696</td> <td>    0.107</td> <td>    0.653</td> <td> 0.515</td> <td>   -0.141</td> <td>    0.280</td>\n",
              "</tr>\n",
              "<tr>\n",
              "  <th>23</th>    <td>   -0.0902</td> <td>    0.106</td> <td>   -0.848</td> <td> 0.398</td> <td>   -0.301</td> <td>    0.120</td>\n",
              "</tr>\n",
              "<tr>\n",
              "  <th>24</th>    <td>    0.1258</td> <td>    0.106</td> <td>    1.181</td> <td> 0.239</td> <td>   -0.085</td> <td>    0.336</td>\n",
              "</tr>\n",
              "<tr>\n",
              "  <th>25</th>    <td>   -0.0326</td> <td>    0.107</td> <td>   -0.305</td> <td> 0.761</td> <td>   -0.243</td> <td>    0.178</td>\n",
              "</tr>\n",
              "<tr>\n",
              "  <th>26</th>    <td>    0.0058</td> <td>    0.107</td> <td>    0.054</td> <td> 0.957</td> <td>   -0.206</td> <td>    0.218</td>\n",
              "</tr>\n",
              "<tr>\n",
              "  <th>27</th>    <td>   -0.0619</td> <td>    0.107</td> <td>   -0.578</td> <td> 0.564</td> <td>   -0.273</td> <td>    0.150</td>\n",
              "</tr>\n",
              "<tr>\n",
              "  <th>28</th>    <td>   -0.1965</td> <td>    0.106</td> <td>   -1.856</td> <td> 0.065</td> <td>   -0.406</td> <td>    0.013</td>\n",
              "</tr>\n",
              "<tr>\n",
              "  <th>29</th>    <td>    0.2782</td> <td>    0.105</td> <td>    2.662</td> <td> 0.009</td> <td>    0.072</td> <td>    0.485</td>\n",
              "</tr>\n",
              "<tr>\n",
              "  <th>30</th>    <td>   -0.2392</td> <td>    0.104</td> <td>   -2.290</td> <td> 0.023</td> <td>   -0.446</td> <td>   -0.033</td>\n",
              "</tr>\n",
              "<tr>\n",
              "  <th>31</th>    <td>    0.2276</td> <td>    0.104</td> <td>    2.184</td> <td> 0.030</td> <td>    0.022</td> <td>    0.433</td>\n",
              "</tr>\n",
              "<tr>\n",
              "  <th>32</th>    <td>   -0.0804</td> <td>    0.104</td> <td>   -0.770</td> <td> 0.442</td> <td>   -0.286</td> <td>    0.126</td>\n",
              "</tr>\n",
              "<tr>\n",
              "  <th>33</th>    <td>    0.0519</td> <td>    0.104</td> <td>    0.498</td> <td> 0.620</td> <td>   -0.154</td> <td>    0.258</td>\n",
              "</tr>\n",
              "<tr>\n",
              "  <th>34</th>    <td>   -0.0832</td> <td>    0.104</td> <td>   -0.799</td> <td> 0.426</td> <td>   -0.289</td> <td>    0.123</td>\n",
              "</tr>\n",
              "<tr>\n",
              "  <th>35</th>    <td>   -0.0392</td> <td>    0.105</td> <td>   -0.374</td> <td> 0.709</td> <td>   -0.246</td> <td>    0.168</td>\n",
              "</tr>\n",
              "<tr>\n",
              "  <th>36</th>    <td>    0.0554</td> <td>    0.106</td> <td>    0.522</td> <td> 0.603</td> <td>   -0.154</td> <td>    0.265</td>\n",
              "</tr>\n",
              "<tr>\n",
              "  <th>37</th>    <td>   -0.0480</td> <td>    0.108</td> <td>   -0.443</td> <td> 0.658</td> <td>   -0.262</td> <td>    0.166</td>\n",
              "</tr>\n",
              "<tr>\n",
              "  <th>38</th>    <td>    0.1950</td> <td>    0.107</td> <td>    1.819</td> <td> 0.071</td> <td>   -0.017</td> <td>    0.407</td>\n",
              "</tr>\n",
              "<tr>\n",
              "  <th>39</th>    <td>   -0.2478</td> <td>    0.105</td> <td>   -2.353</td> <td> 0.020</td> <td>   -0.456</td> <td>   -0.040</td>\n",
              "</tr>\n",
              "<tr>\n",
              "  <th>40</th>    <td>    0.1690</td> <td>    0.105</td> <td>    1.616</td> <td> 0.108</td> <td>   -0.038</td> <td>    0.375</td>\n",
              "</tr>\n",
              "<tr>\n",
              "  <th>41</th>    <td>   -0.0589</td> <td>    0.105</td> <td>   -0.563</td> <td> 0.574</td> <td>   -0.266</td> <td>    0.148</td>\n",
              "</tr>\n",
              "<tr>\n",
              "  <th>42</th>    <td>   -0.0313</td> <td>    0.105</td> <td>   -0.299</td> <td> 0.765</td> <td>   -0.238</td> <td>    0.175</td>\n",
              "</tr>\n",
              "<tr>\n",
              "  <th>43</th>    <td>    0.1874</td> <td>    0.104</td> <td>    1.798</td> <td> 0.074</td> <td>   -0.019</td> <td>    0.393</td>\n",
              "</tr>\n",
              "<tr>\n",
              "  <th>44</th>    <td>   -0.2372</td> <td>    0.105</td> <td>   -2.267</td> <td> 0.025</td> <td>   -0.444</td> <td>   -0.030</td>\n",
              "</tr>\n",
              "<tr>\n",
              "  <th>45</th>    <td>    0.2527</td> <td>    0.104</td> <td>    2.432</td> <td> 0.016</td> <td>    0.047</td> <td>    0.458</td>\n",
              "</tr>\n",
              "<tr>\n",
              "  <th>46</th>    <td>   -0.1915</td> <td>    0.103</td> <td>   -1.852</td> <td> 0.066</td> <td>   -0.396</td> <td>    0.013</td>\n",
              "</tr>\n",
              "<tr>\n",
              "  <th>47</th>    <td>    0.0596</td> <td>    0.104</td> <td>    0.574</td> <td> 0.567</td> <td>   -0.146</td> <td>    0.265</td>\n",
              "</tr>\n",
              "<tr>\n",
              "  <th>48</th>    <td>   -0.0120</td> <td>    0.104</td> <td>   -0.115</td> <td> 0.908</td> <td>   -0.218</td> <td>    0.194</td>\n",
              "</tr>\n",
              "<tr>\n",
              "  <th>49</th>    <td>   -0.0671</td> <td>    0.104</td> <td>   -0.643</td> <td> 0.521</td> <td>   -0.273</td> <td>    0.139</td>\n",
              "</tr>\n",
              "<tr>\n",
              "  <th>50</th>    <td>    0.0136</td> <td>    0.105</td> <td>    0.129</td> <td> 0.897</td> <td>   -0.194</td> <td>    0.221</td>\n",
              "</tr>\n",
              "<tr>\n",
              "  <th>51</th>    <td>    0.0475</td> <td>    0.106</td> <td>    0.449</td> <td> 0.654</td> <td>   -0.162</td> <td>    0.256</td>\n",
              "</tr>\n",
              "<tr>\n",
              "  <th>52</th>    <td>    0.0862</td> <td>    0.106</td> <td>    0.814</td> <td> 0.417</td> <td>   -0.123</td> <td>    0.295</td>\n",
              "</tr>\n",
              "<tr>\n",
              "  <th>53</th>    <td>   -0.1937</td> <td>    0.106</td> <td>   -1.833</td> <td> 0.069</td> <td>   -0.402</td> <td>    0.015</td>\n",
              "</tr>\n",
              "<tr>\n",
              "  <th>54</th>    <td>    0.0093</td> <td>    0.106</td> <td>    0.087</td> <td> 0.930</td> <td>   -0.200</td> <td>    0.219</td>\n",
              "</tr>\n",
              "<tr>\n",
              "  <th>55</th>    <td>    0.0572</td> <td>    0.106</td> <td>    0.541</td> <td> 0.589</td> <td>   -0.152</td> <td>    0.266</td>\n",
              "</tr>\n",
              "<tr>\n",
              "  <th>56</th>    <td>   -0.0053</td> <td>    0.106</td> <td>   -0.050</td> <td> 0.960</td> <td>   -0.214</td> <td>    0.203</td>\n",
              "</tr>\n",
              "<tr>\n",
              "  <th>57</th>    <td>   -0.0221</td> <td>    0.106</td> <td>   -0.209</td> <td> 0.835</td> <td>   -0.232</td> <td>    0.187</td>\n",
              "</tr>\n",
              "<tr>\n",
              "  <th>58</th>    <td>    0.0377</td> <td>    0.107</td> <td>    0.353</td> <td> 0.725</td> <td>   -0.173</td> <td>    0.249</td>\n",
              "</tr>\n",
              "<tr>\n",
              "  <th>59</th>    <td>    0.0038</td> <td>    0.109</td> <td>    0.034</td> <td> 0.973</td> <td>   -0.211</td> <td>    0.219</td>\n",
              "</tr>\n",
              "<tr>\n",
              "  <th>60</th>    <td>    0.0157</td> <td>    0.111</td> <td>    0.142</td> <td> 0.888</td> <td>   -0.204</td> <td>    0.235</td>\n",
              "</tr>\n",
              "<tr>\n",
              "  <th>61</th>    <td>   -0.0236</td> <td>    0.113</td> <td>   -0.208</td> <td> 0.836</td> <td>   -0.248</td> <td>    0.201</td>\n",
              "</tr>\n",
              "<tr>\n",
              "  <th>62</th>    <td>    0.0326</td> <td>    0.114</td> <td>    0.287</td> <td> 0.775</td> <td>   -0.192</td> <td>    0.257</td>\n",
              "</tr>\n",
              "<tr>\n",
              "  <th>63</th>    <td>    0.0816</td> <td>    0.114</td> <td>    0.718</td> <td> 0.474</td> <td>   -0.143</td> <td>    0.306</td>\n",
              "</tr>\n",
              "<tr>\n",
              "  <th>64</th>    <td>   -0.1517</td> <td>    0.114</td> <td>   -1.328</td> <td> 0.186</td> <td>   -0.377</td> <td>    0.074</td>\n",
              "</tr>\n",
              "<tr>\n",
              "  <th>65</th>    <td>    0.0973</td> <td>    0.116</td> <td>    0.841</td> <td> 0.402</td> <td>   -0.131</td> <td>    0.326</td>\n",
              "</tr>\n",
              "<tr>\n",
              "  <th>66</th>    <td>   -0.0925</td> <td>    0.117</td> <td>   -0.792</td> <td> 0.429</td> <td>   -0.323</td> <td>    0.138</td>\n",
              "</tr>\n",
              "<tr>\n",
              "  <th>67</th>    <td>    0.0274</td> <td>    0.117</td> <td>    0.234</td> <td> 0.815</td> <td>   -0.204</td> <td>    0.258</td>\n",
              "</tr>\n",
              "<tr>\n",
              "  <th>68</th>    <td>    0.0377</td> <td>    0.117</td> <td>    0.321</td> <td> 0.748</td> <td>   -0.194</td> <td>    0.270</td>\n",
              "</tr>\n",
              "<tr>\n",
              "  <th>69</th>    <td>   -0.0550</td> <td>    0.118</td> <td>   -0.467</td> <td> 0.641</td> <td>   -0.288</td> <td>    0.178</td>\n",
              "</tr>\n",
              "<tr>\n",
              "  <th>70</th>    <td>    0.1877</td> <td>    0.117</td> <td>    1.599</td> <td> 0.112</td> <td>   -0.044</td> <td>    0.420</td>\n",
              "</tr>\n",
              "<tr>\n",
              "  <th>71</th>    <td>   -0.2385</td> <td>    0.116</td> <td>   -2.059</td> <td> 0.041</td> <td>   -0.467</td> <td>   -0.010</td>\n",
              "</tr>\n",
              "<tr>\n",
              "  <th>72</th>    <td>    0.1082</td> <td>    0.116</td> <td>    0.935</td> <td> 0.351</td> <td>   -0.120</td> <td>    0.337</td>\n",
              "</tr>\n",
              "<tr>\n",
              "  <th>73</th>    <td>   -0.0276</td> <td>    0.116</td> <td>   -0.238</td> <td> 0.812</td> <td>   -0.257</td> <td>    0.202</td>\n",
              "</tr>\n",
              "<tr>\n",
              "  <th>74</th>    <td>   -0.0520</td> <td>    0.117</td> <td>   -0.445</td> <td> 0.657</td> <td>   -0.283</td> <td>    0.179</td>\n",
              "</tr>\n",
              "<tr>\n",
              "  <th>75</th>    <td>    0.2615</td> <td>    0.117</td> <td>    2.236</td> <td> 0.027</td> <td>    0.030</td> <td>    0.492</td>\n",
              "</tr>\n",
              "<tr>\n",
              "  <th>76</th>    <td>   -0.2852</td> <td>    0.116</td> <td>   -2.457</td> <td> 0.015</td> <td>   -0.514</td> <td>   -0.056</td>\n",
              "</tr>\n",
              "<tr>\n",
              "  <th>77</th>    <td>    0.1402</td> <td>    0.116</td> <td>    1.213</td> <td> 0.227</td> <td>   -0.088</td> <td>    0.369</td>\n",
              "</tr>\n",
              "<tr>\n",
              "  <th>78</th>    <td>   -0.1757</td> <td>    0.115</td> <td>   -1.531</td> <td> 0.128</td> <td>   -0.402</td> <td>    0.051</td>\n",
              "</tr>\n",
              "<tr>\n",
              "  <th>79</th>    <td>   -0.0135</td> <td>    0.115</td> <td>   -0.117</td> <td> 0.907</td> <td>   -0.241</td> <td>    0.214</td>\n",
              "</tr>\n",
              "<tr>\n",
              "  <th>80</th>    <td>    0.1493</td> <td>    0.123</td> <td>    1.217</td> <td> 0.225</td> <td>   -0.093</td> <td>    0.392</td>\n",
              "</tr>\n",
              "<tr>\n",
              "  <th>81</th>    <td>   -0.1131</td> <td>    0.143</td> <td>   -0.790</td> <td> 0.431</td> <td>   -0.396</td> <td>    0.170</td>\n",
              "</tr>\n",
              "<tr>\n",
              "  <th>82</th>    <td>    0.2142</td> <td>    0.146</td> <td>    1.463</td> <td> 0.145</td> <td>   -0.075</td> <td>    0.503</td>\n",
              "</tr>\n",
              "<tr>\n",
              "  <th>83</th>    <td>   -0.2765</td> <td>    0.145</td> <td>   -1.902</td> <td> 0.059</td> <td>   -0.564</td> <td>    0.011</td>\n",
              "</tr>\n",
              "<tr>\n",
              "  <th>84</th>    <td>    0.2145</td> <td>    0.145</td> <td>    1.484</td> <td> 0.140</td> <td>   -0.071</td> <td>    0.500</td>\n",
              "</tr>\n",
              "<tr>\n",
              "  <th>85</th>    <td>   -0.0945</td> <td>    0.143</td> <td>   -0.661</td> <td> 0.509</td> <td>   -0.377</td> <td>    0.188</td>\n",
              "</tr>\n",
              "<tr>\n",
              "  <th>86</th>    <td>   -0.1024</td> <td>    0.143</td> <td>   -0.716</td> <td> 0.475</td> <td>   -0.385</td> <td>    0.180</td>\n",
              "</tr>\n",
              "<tr>\n",
              "  <th>87</th>    <td>    0.2832</td> <td>    0.142</td> <td>    1.994</td> <td> 0.048</td> <td>    0.003</td> <td>    0.564</td>\n",
              "</tr>\n",
              "<tr>\n",
              "  <th>88</th>    <td>   -0.4736</td> <td>    0.137</td> <td>   -3.466</td> <td> 0.001</td> <td>   -0.744</td> <td>   -0.204</td>\n",
              "</tr>\n",
              "<tr>\n",
              "  <th>89</th>    <td>    1.3251</td> <td>    0.082</td> <td>   16.063</td> <td> 0.000</td> <td>    1.162</td> <td>    1.488</td>\n",
              "</tr>\n",
              "</table>\n",
              "<table class=\"simpletable\">\n",
              "<tr>\n",
              "  <th>Omnibus:</th>       <td>13.133</td> <th>  Durbin-Watson:     </th> <td>   1.967</td>\n",
              "</tr>\n",
              "<tr>\n",
              "  <th>Prob(Omnibus):</th> <td> 0.001</td> <th>  Jarque-Bera (JB):  </th> <td>  17.355</td>\n",
              "</tr>\n",
              "<tr>\n",
              "  <th>Skew:</th>          <td> 0.402</td> <th>  Prob(JB):          </th> <td>0.000170</td>\n",
              "</tr>\n",
              "<tr>\n",
              "  <th>Kurtosis:</th>      <td> 4.036</td> <th>  Cond. No.          </th> <td>5.26e+04</td>\n",
              "</tr>\n",
              "</table><br/><br/>Warnings:<br/>[1] Standard Errors assume that the covariance matrix of the errors is correctly specified.<br/>[2] The condition number is large, 5.26e+04. This might indicate that there are<br/>strong multicollinearity or other numerical problems."
            ],
            "text/plain": [
              "<class 'statsmodels.iolib.summary.Summary'>\n",
              "\"\"\"\n",
              "                            OLS Regression Results                            \n",
              "==============================================================================\n",
              "Dep. Variable:                      0   R-squared:                       0.996\n",
              "Model:                            OLS   Adj. R-squared:                  0.994\n",
              "Method:                 Least Squares   F-statistic:                     436.2\n",
              "Date:                Tue, 18 May 2021   Prob (F-statistic):          3.13e-150\n",
              "Time:                        12:45:55   Log-Likelihood:                -1211.5\n",
              "No. Observations:                 242   AIC:                             2605.\n",
              "Df Residuals:                     151   BIC:                             2923.\n",
              "Df Model:                          90                                         \n",
              "Covariance Type:            nonrobust                                         \n",
              "==============================================================================\n",
              "                 coef    std err          t      P>|t|      [0.025      0.975]\n",
              "------------------------------------------------------------------------------\n",
              "const          8.9997      9.640      0.934      0.352     -10.047      28.047\n",
              "0             -0.0667      0.063     -1.064      0.289      -0.191       0.057\n",
              "1              0.0512      0.101      0.508      0.612      -0.148       0.251\n",
              "2             -0.0083      0.102     -0.081      0.936      -0.210       0.194\n",
              "3              0.0960      0.102      0.938      0.350      -0.106       0.298\n",
              "4             -0.0764      0.102     -0.746      0.457      -0.279       0.126\n",
              "5              0.0253      0.103      0.247      0.805      -0.177       0.228\n",
              "6              0.0284      0.103      0.276      0.783      -0.174       0.231\n",
              "7             -0.0797      0.103     -0.776      0.439      -0.283       0.123\n",
              "8             -0.0120      0.103     -0.117      0.907      -0.215       0.191\n",
              "9             -0.0150      0.103     -0.146      0.884      -0.219       0.189\n",
              "10             0.1250      0.104      1.199      0.232      -0.081       0.331\n",
              "11            -0.0895      0.105     -0.857      0.393      -0.296       0.117\n",
              "12             0.0689      0.104      0.660      0.510      -0.137       0.275\n",
              "13            -0.1175      0.104     -1.131      0.260      -0.323       0.088\n",
              "14            -0.0540      0.105     -0.516      0.607      -0.261       0.153\n",
              "15             0.1558      0.105      1.480      0.141      -0.052       0.364\n",
              "16            -0.0896      0.106     -0.849      0.397      -0.298       0.119\n",
              "17             0.1230      0.106      1.166      0.245      -0.085       0.331\n",
              "18            -0.0576      0.105     -0.547      0.585      -0.265       0.150\n",
              "19             0.0553      0.106      0.523      0.601      -0.153       0.264\n",
              "20            -0.0647      0.106     -0.612      0.541      -0.274       0.144\n",
              "21            -0.0021      0.106     -0.020      0.984      -0.212       0.207\n",
              "22             0.0696      0.107      0.653      0.515      -0.141       0.280\n",
              "23            -0.0902      0.106     -0.848      0.398      -0.301       0.120\n",
              "24             0.1258      0.106      1.181      0.239      -0.085       0.336\n",
              "25            -0.0326      0.107     -0.305      0.761      -0.243       0.178\n",
              "26             0.0058      0.107      0.054      0.957      -0.206       0.218\n",
              "27            -0.0619      0.107     -0.578      0.564      -0.273       0.150\n",
              "28            -0.1965      0.106     -1.856      0.065      -0.406       0.013\n",
              "29             0.2782      0.105      2.662      0.009       0.072       0.485\n",
              "30            -0.2392      0.104     -2.290      0.023      -0.446      -0.033\n",
              "31             0.2276      0.104      2.184      0.030       0.022       0.433\n",
              "32            -0.0804      0.104     -0.770      0.442      -0.286       0.126\n",
              "33             0.0519      0.104      0.498      0.620      -0.154       0.258\n",
              "34            -0.0832      0.104     -0.799      0.426      -0.289       0.123\n",
              "35            -0.0392      0.105     -0.374      0.709      -0.246       0.168\n",
              "36             0.0554      0.106      0.522      0.603      -0.154       0.265\n",
              "37            -0.0480      0.108     -0.443      0.658      -0.262       0.166\n",
              "38             0.1950      0.107      1.819      0.071      -0.017       0.407\n",
              "39            -0.2478      0.105     -2.353      0.020      -0.456      -0.040\n",
              "40             0.1690      0.105      1.616      0.108      -0.038       0.375\n",
              "41            -0.0589      0.105     -0.563      0.574      -0.266       0.148\n",
              "42            -0.0313      0.105     -0.299      0.765      -0.238       0.175\n",
              "43             0.1874      0.104      1.798      0.074      -0.019       0.393\n",
              "44            -0.2372      0.105     -2.267      0.025      -0.444      -0.030\n",
              "45             0.2527      0.104      2.432      0.016       0.047       0.458\n",
              "46            -0.1915      0.103     -1.852      0.066      -0.396       0.013\n",
              "47             0.0596      0.104      0.574      0.567      -0.146       0.265\n",
              "48            -0.0120      0.104     -0.115      0.908      -0.218       0.194\n",
              "49            -0.0671      0.104     -0.643      0.521      -0.273       0.139\n",
              "50             0.0136      0.105      0.129      0.897      -0.194       0.221\n",
              "51             0.0475      0.106      0.449      0.654      -0.162       0.256\n",
              "52             0.0862      0.106      0.814      0.417      -0.123       0.295\n",
              "53            -0.1937      0.106     -1.833      0.069      -0.402       0.015\n",
              "54             0.0093      0.106      0.087      0.930      -0.200       0.219\n",
              "55             0.0572      0.106      0.541      0.589      -0.152       0.266\n",
              "56            -0.0053      0.106     -0.050      0.960      -0.214       0.203\n",
              "57            -0.0221      0.106     -0.209      0.835      -0.232       0.187\n",
              "58             0.0377      0.107      0.353      0.725      -0.173       0.249\n",
              "59             0.0038      0.109      0.034      0.973      -0.211       0.219\n",
              "60             0.0157      0.111      0.142      0.888      -0.204       0.235\n",
              "61            -0.0236      0.113     -0.208      0.836      -0.248       0.201\n",
              "62             0.0326      0.114      0.287      0.775      -0.192       0.257\n",
              "63             0.0816      0.114      0.718      0.474      -0.143       0.306\n",
              "64            -0.1517      0.114     -1.328      0.186      -0.377       0.074\n",
              "65             0.0973      0.116      0.841      0.402      -0.131       0.326\n",
              "66            -0.0925      0.117     -0.792      0.429      -0.323       0.138\n",
              "67             0.0274      0.117      0.234      0.815      -0.204       0.258\n",
              "68             0.0377      0.117      0.321      0.748      -0.194       0.270\n",
              "69            -0.0550      0.118     -0.467      0.641      -0.288       0.178\n",
              "70             0.1877      0.117      1.599      0.112      -0.044       0.420\n",
              "71            -0.2385      0.116     -2.059      0.041      -0.467      -0.010\n",
              "72             0.1082      0.116      0.935      0.351      -0.120       0.337\n",
              "73            -0.0276      0.116     -0.238      0.812      -0.257       0.202\n",
              "74            -0.0520      0.117     -0.445      0.657      -0.283       0.179\n",
              "75             0.2615      0.117      2.236      0.027       0.030       0.492\n",
              "76            -0.2852      0.116     -2.457      0.015      -0.514      -0.056\n",
              "77             0.1402      0.116      1.213      0.227      -0.088       0.369\n",
              "78            -0.1757      0.115     -1.531      0.128      -0.402       0.051\n",
              "79            -0.0135      0.115     -0.117      0.907      -0.241       0.214\n",
              "80             0.1493      0.123      1.217      0.225      -0.093       0.392\n",
              "81            -0.1131      0.143     -0.790      0.431      -0.396       0.170\n",
              "82             0.2142      0.146      1.463      0.145      -0.075       0.503\n",
              "83            -0.2765      0.145     -1.902      0.059      -0.564       0.011\n",
              "84             0.2145      0.145      1.484      0.140      -0.071       0.500\n",
              "85            -0.0945      0.143     -0.661      0.509      -0.377       0.188\n",
              "86            -0.1024      0.143     -0.716      0.475      -0.385       0.180\n",
              "87             0.2832      0.142      1.994      0.048       0.003       0.564\n",
              "88            -0.4736      0.137     -3.466      0.001      -0.744      -0.204\n",
              "89             1.3251      0.082     16.063      0.000       1.162       1.488\n",
              "==============================================================================\n",
              "Omnibus:                       13.133   Durbin-Watson:                   1.967\n",
              "Prob(Omnibus):                  0.001   Jarque-Bera (JB):               17.355\n",
              "Skew:                           0.402   Prob(JB):                     0.000170\n",
              "Kurtosis:                       4.036   Cond. No.                     5.26e+04\n",
              "==============================================================================\n",
              "\n",
              "Warnings:\n",
              "[1] Standard Errors assume that the covariance matrix of the errors is correctly specified.\n",
              "[2] The condition number is large, 5.26e+04. This might indicate that there are\n",
              "strong multicollinearity or other numerical problems.\n",
              "\"\"\""
            ]
          },
          "metadata": {
            "tags": []
          },
          "execution_count": 31
        }
      ]
    }
  ]
}